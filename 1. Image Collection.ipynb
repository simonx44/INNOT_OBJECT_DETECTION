{
 "cells": [
  {
   "cell_type": "markdown",
   "metadata": {},
   "source": [
    "# 1. Import Dependencies"
   ]
  },
  {
   "cell_type": "code",
   "execution_count": 1,
   "metadata": {},
   "outputs": [
    {
     "name": "stdout",
     "output_type": "stream",
     "text": [
      "Requirement already satisfied: opencv-python in ./tfod/lib/python3.10/site-packages (4.5.5.64)\n",
      "Requirement already satisfied: numpy>=1.19.3 in ./tfod/lib/python3.10/site-packages (from opencv-python) (1.22.3)\n",
      "\u001b[33mWARNING: You are using pip version 22.0.4; however, version 22.1 is available.\n",
      "You should consider upgrading via the '/home/simon/Simon/Hochschule/Innot/TFODCourse/tfod/bin/python -m pip install --upgrade pip' command.\u001b[0m\u001b[33m\n",
      "\u001b[0m"
     ]
    }
   ],
   "source": [
    "!pip install opencv-python"
   ]
  },
  {
   "cell_type": "code",
   "execution_count": 2,
   "metadata": {},
   "outputs": [],
   "source": [
    "# Import opencv\n",
    "import cv2 \n",
    "\n",
    "# Import uuid\n",
    "import uuid\n",
    "\n",
    "# Import Operating System\n",
    "import os\n",
    "\n",
    "# Import time\n",
    "import time"
   ]
  },
  {
   "cell_type": "markdown",
   "metadata": {},
   "source": [
    "# 2. Define Images to Collect"
   ]
  },
  {
   "cell_type": "code",
   "execution_count": 3,
   "metadata": {},
   "outputs": [],
   "source": [
    "labels = ['thumbsup', 'thumbsdown', 'thankyou', 'livelong']\n",
    "number_imgs = 5"
   ]
  },
  {
   "cell_type": "markdown",
   "metadata": {},
   "source": [
    "# 3. Setup Folders "
   ]
  },
  {
   "cell_type": "code",
   "execution_count": 4,
   "metadata": {},
   "outputs": [],
   "source": [
    "IMAGES_PATH = os.path.join('Tensorflow', 'workspace', 'images', 'collectedimages')"
   ]
  },
  {
   "cell_type": "code",
   "execution_count": 5,
   "metadata": {},
   "outputs": [],
   "source": [
    "if not os.path.exists(IMAGES_PATH):\n",
    "    if os.name == 'posix':\n",
    "        !mkdir -p {IMAGES_PATH}\n",
    "    if os.name == 'nt':\n",
    "         !mkdir {IMAGES_PATH}\n",
    "for label in labels:\n",
    "    path = os.path.join(IMAGES_PATH, label)\n",
    "    if not os.path.exists(path):\n",
    "        !mkdir {path}"
   ]
  },
  {
   "cell_type": "markdown",
   "metadata": {},
   "source": [
    "# 4. Capture Images"
   ]
  },
  {
   "cell_type": "code",
   "execution_count": 18,
   "metadata": {},
   "outputs": [
    {
     "name": "stdout",
     "output_type": "stream",
     "text": [
      "Collecting images for thumbsup\n",
      "Collecting image 0\n",
      "Collecting image 1\n",
      "Collecting image 2\n",
      "Collecting image 3\n",
      "Collecting image 4\n"
     ]
    }
   ],
   "source": [
    "for label in labels:\n",
    "    cap = cv2.VideoCapture(0)\n",
    "    print('Collecting images for {}'.format(label))\n",
    "    time.sleep(5)\n",
    "    for imgnum in range(number_imgs):\n",
    "        print('Collecting image {}'.format(imgnum))\n",
    "        ret, frame = cap.read()\n",
    "        imgname = os.path.join(IMAGES_PATH,label,label+'.'+'{}.jpg'.format(str(uuid.uuid1())))\n",
    "        cv2.imwrite(imgname, frame)\n",
    "        cv2.imshow('frame', frame)\n",
    "        time.sleep(2)\n",
    "\n",
    "        if cv2.waitKey(1) & 0xFF == ord('q'):\n",
    "            break\n",
    "cap.release()\n",
    "cv2.destroyAllWindows()"
   ]
  },
  {
   "cell_type": "markdown",
   "metadata": {},
   "source": [
    "# 5. Image Labelling"
   ]
  },
  {
   "cell_type": "code",
   "execution_count": 6,
   "metadata": {},
   "outputs": [
    {
     "name": "stdout",
     "output_type": "stream",
     "text": [
      "Requirement already satisfied: pyqt5 in ./tfod/lib/python3.10/site-packages (5.15.6)\n",
      "Requirement already satisfied: lxml in ./tfod/lib/python3.10/site-packages (4.8.0)\n",
      "Requirement already satisfied: PyQt5-Qt5>=5.15.2 in ./tfod/lib/python3.10/site-packages (from pyqt5) (5.15.2)\n",
      "Requirement already satisfied: PyQt5-sip<13,>=12.8 in ./tfod/lib/python3.10/site-packages (from pyqt5) (12.10.1)\n",
      "\u001b[33mWARNING: You are using pip version 22.0.4; however, version 22.1 is available.\n",
      "You should consider upgrading via the '/home/simon/Simon/Hochschule/Innot/TFODCourse/tfod/bin/python -m pip install --upgrade pip' command.\u001b[0m\u001b[33m\n",
      "\u001b[0m"
     ]
    }
   ],
   "source": [
    "!pip install --upgrade pyqt5 lxml"
   ]
  },
  {
   "cell_type": "code",
   "execution_count": 7,
   "metadata": {},
   "outputs": [],
   "source": [
    "LABELIMG_PATH = os.path.join('Tensorflow', 'labelimg')"
   ]
  },
  {
   "cell_type": "code",
   "execution_count": 8,
   "metadata": {},
   "outputs": [],
   "source": [
    "if not os.path.exists(LABELIMG_PATH):\n",
    "    !mkdir {LABELIMG_PATH}\n",
    "    !git clone https://github.com/tzutalin/labelImg {LABELIMG_PATH}"
   ]
  },
  {
   "cell_type": "code",
   "execution_count": 9,
   "metadata": {},
   "outputs": [
    {
     "name": "stdout",
     "output_type": "stream",
     "text": [
      "make: *** Keine Regel, um „qt5py3“ zu erstellen.  Schluss.\r\n"
     ]
    }
   ],
   "source": [
    "if os.name == 'posix':\n",
    "    !make qt5py3\n",
    "if os.name =='nt':\n",
    "    !cd {LABELIMG_PATH} && pyrcc5 -o libs/resources.py resources.qrc"
   ]
  },
  {
   "cell_type": "code",
   "execution_count": null,
   "metadata": {},
   "outputs": [
    {
     "name": "stdout",
     "output_type": "stream",
     "text": [
      "qt.qpa.xcb: QXcbConnection: XCB error: 3 (BadWindow), sequence: 2104, resource id: 15374302, major code: 40 (TranslateCoords), minor code: 0\n",
      "Cancel creation.\n",
      "Image:/home/simon/Schreibtisch/Simon/Hochschule/Innot/Bilder/Sportlich/Joggingjacke/3bcd5bcd40cfa4e799296ef7c4264474.jpg -> Annotation:/home/simon/Schreibtisch/Simon/Hochschule/Innot/Bilder/Sportlich/Joggingjacke/3bcd5bcd40cfa4e799296ef7c4264474.xml\n",
      "qt.gui.icc: fromIccProfile: failed minimal tag size sanity\n",
      "qt.qpa.xcb: QXcbConnection: XCB error: 3 (BadWindow), sequence: 46488, resource id: 15378800, major code: 40 (TranslateCoords), minor code: 0\n",
      "qt.qpa.xcb: QXcbConnection: XCB error: 3 (BadWindow), sequence: 50743, resource id: 15379273, major code: 40 (TranslateCoords), minor code: 0\n",
      "Image:/home/simon/Schreibtisch/Simon/Hochschule/Innot/Bilder/Sportlich/Joggingjacke/7536da8ee6954f8babd4ae0500c29ebc_9366.webp -> Annotation:/home/simon/Schreibtisch/Simon/Hochschule/Innot/Bilder/Sportlich/Joggingjacke/7536da8ee6954f8babd4ae0500c29ebc_9366.xml\n",
      "qt.gui.icc: fromIccProfile: failed minimal tag size sanity\n",
      "qt.qpa.xcb: QXcbConnection: XCB error: 3 (BadWindow), sequence: 57405, resource id: 15379979, major code: 40 (TranslateCoords), minor code: 0\n",
      "Image:/home/simon/Schreibtisch/Simon/Hochschule/Innot/Bilder/Sportlich/Joggingjacke/46048f410b812f1c84d1bb79a632eec4.jpg -> Annotation:/home/simon/Schreibtisch/Simon/Hochschule/Innot/Bilder/Sportlich/Joggingjacke/46048f410b812f1c84d1bb79a632eec4.xml\n",
      "Image:/home/simon/Schreibtisch/Simon/Hochschule/Innot/Bilder/Sportlich/Joggingjacke/357398-03-d-768360.jpg -> Annotation:/home/simon/Schreibtisch/Simon/Hochschule/Innot/Bilder/Sportlich/Joggingjacke/357398-03-d-768360.xml\n",
      "Image:/home/simon/Schreibtisch/Simon/Hochschule/Innot/Bilder/Sportlich/Joggingjacke/7000257.jpg -> Annotation:/home/simon/Schreibtisch/Simon/Hochschule/Innot/Bilder/Sportlich/Joggingjacke/7000257.xml\n",
      "Image:/home/simon/Schreibtisch/Simon/Hochschule/Innot/Bilder/Sportlich/Joggingjacke/10454608-Damen_3.jpg -> Annotation:/home/simon/Schreibtisch/Simon/Hochschule/Innot/Bilder/Sportlich/Joggingjacke/10454608-Damen_3.xml\n",
      "Image:/home/simon/Schreibtisch/Simon/Hochschule/Innot/Bilder/Sportlich/Joggingjacke/17807472_1.jpeg -> Annotation:/home/simon/Schreibtisch/Simon/Hochschule/Innot/Bilder/Sportlich/Joggingjacke/17807472_1.xml\n",
      "Image:/home/simon/Schreibtisch/Simon/Hochschule/Innot/Bilder/Sportlich/Joggingjacke/55183200_00.webp -> Annotation:/home/simon/Schreibtisch/Simon/Hochschule/Innot/Bilder/Sportlich/Joggingjacke/55183200_00.xml\n",
      "qt.qpa.xcb: QXcbConnection: XCB error: 3 (BadWindow), sequence: 47705, resource id: 15383854, major code: 40 (TranslateCoords), minor code: 0\n",
      "Image:/home/simon/Schreibtisch/Simon/Hochschule/Innot/Bilder/Sportlich/Joggingjacke/ACM-Prematch-Herren-FuÃballjacke-2.webp -> Annotation:/home/simon/Schreibtisch/Simon/Hochschule/Innot/Bilder/Sportlich/Joggingjacke/ACM-Prematch-Herren-FuÃballjacke-2.xml\n",
      "Image:/home/simon/Schreibtisch/Simon/Hochschule/Innot/Bilder/Sportlich/Joggingjacke/ACM-Prematch-Herren-FuÃballjacke-3.webp -> Annotation:/home/simon/Schreibtisch/Simon/Hochschule/Innot/Bilder/Sportlich/Joggingjacke/ACM-Prematch-Herren-FuÃballjacke-3.xml\n",
      "Image:/home/simon/Schreibtisch/Simon/Hochschule/Innot/Bilder/Sportlich/Joggingjacke/ACM-Prematch-Herren-FuÃballjacke-4.webp -> Annotation:/home/simon/Schreibtisch/Simon/Hochschule/Innot/Bilder/Sportlich/Joggingjacke/ACM-Prematch-Herren-FuÃballjacke-4.xml\n",
      "Image:/home/simon/Schreibtisch/Simon/Hochschule/Innot/Bilder/Sportlich/Joggingjacke/ACM-Prematch-Herren-FuÃballjacke-5.webp -> Annotation:/home/simon/Schreibtisch/Simon/Hochschule/Innot/Bilder/Sportlich/Joggingjacke/ACM-Prematch-Herren-FuÃballjacke-5.xml\n",
      "Image:/home/simon/Schreibtisch/Simon/Hochschule/Innot/Bilder/Sportlich/Joggingjacke/ACM-Prematch-Herren-FuÃballjacke-6.webp -> Annotation:/home/simon/Schreibtisch/Simon/Hochschule/Innot/Bilder/Sportlich/Joggingjacke/ACM-Prematch-Herren-FuÃballjacke-6.xml\n",
      "Image:/home/simon/Schreibtisch/Simon/Hochschule/Innot/Bilder/Sportlich/Joggingjacke/ACM-Prematch-Herren-FuÃballjacke-5.webp -> Annotation:/home/simon/Schreibtisch/Simon/Hochschule/Innot/Bilder/Sportlich/Joggingjacke/ACM-Prematch-Herren-FuÃballjacke-5.xml\n",
      "Image:/home/simon/Schreibtisch/Simon/Hochschule/Innot/Bilder/Sportlich/Joggingjacke/ACM-Prematch-Herren-FuÃballjacke-4.webp -> Annotation:/home/simon/Schreibtisch/Simon/Hochschule/Innot/Bilder/Sportlich/Joggingjacke/ACM-Prematch-Herren-FuÃballjacke-4.xml\n",
      "Image:/home/simon/Schreibtisch/Simon/Hochschule/Innot/Bilder/Sportlich/Joggingjacke/ACM-Prematch-Herren-FuÃballjacke-4.webp -> Annotation:/home/simon/Schreibtisch/Simon/Hochschule/Innot/Bilder/Sportlich/Joggingjacke/ACM-Prematch-Herren-FuÃballjacke-4.xml\n",
      "Image:/home/simon/Schreibtisch/Simon/Hochschule/Innot/Bilder/Sportlich/Joggingjacke/ACM-Prematch-Herren-FuÃballjacke-6.webp -> Annotation:/home/simon/Schreibtisch/Simon/Hochschule/Innot/Bilder/Sportlich/Joggingjacke/ACM-Prematch-Herren-FuÃballjacke-6.xml\n",
      "Image:/home/simon/Schreibtisch/Simon/Hochschule/Innot/Bilder/Sportlich/Joggingjacke/ACM-Prematch-Herren-FuÃballjacke.webp -> Annotation:/home/simon/Schreibtisch/Simon/Hochschule/Innot/Bilder/Sportlich/Joggingjacke/ACM-Prematch-Herren-FuÃballjacke.xml\n",
      "Image:/home/simon/Schreibtisch/Simon/Hochschule/Innot/Bilder/Sportlich/Joggingjacke/ad31359_4_cloudzoom.jpg -> Annotation:/home/simon/Schreibtisch/Simon/Hochschule/Innot/Bilder/Sportlich/Joggingjacke/ad31359_4_cloudzoom.xml\n",
      "qt.qpa.xcb: QXcbConnection: XCB error: 3 (BadWindow), sequence: 4922, resource id: 15390805, major code: 40 (TranslateCoords), minor code: 0\n",
      "Image:/home/simon/Schreibtisch/Simon/Hochschule/Innot/Bilder/Sportlich/Joggingjacke/adidas-fc-bayern-muenchen-anthem-jacke-21-22-herren-rot~2.jpg -> Annotation:/home/simon/Schreibtisch/Simon/Hochschule/Innot/Bilder/Sportlich/Joggingjacke/adidas-fc-bayern-muenchen-anthem-jacke-21-22-herren-rot~2.xml\n",
      "qt.qpa.xcb: QXcbConnection: XCB error: 3 (BadWindow), sequence: 13799, resource id: 15391623, major code: 40 (TranslateCoords), minor code: 0\n",
      "Image:/home/simon/Schreibtisch/Simon/Hochschule/Innot/Bilder/Sportlich/Joggingjacke/adidas-Tribe-Yellow-Cortavientos-Lightweight-Pullover.jpeg -> Annotation:/home/simon/Schreibtisch/Simon/Hochschule/Innot/Bilder/Sportlich/Joggingjacke/adidas-Tribe-Yellow-Cortavientos-Lightweight-Pullover.xml\n",
      "Image:/home/simon/Schreibtisch/Simon/Hochschule/Innot/Bilder/Sportlich/Joggingjacke/adidas_adizero_marathon_jacke_herren_gt9731_000_1301.png -> Annotation:/home/simon/Schreibtisch/Simon/Hochschule/Innot/Bilder/Sportlich/Joggingjacke/adidas_adizero_marathon_jacke_herren_gt9731_000_1301.xml\n",
      "Image:/home/simon/Schreibtisch/Simon/Hochschule/Innot/Bilder/Sportlich/Joggingjacke/adidas_adizero_marathon_jacke_herren_gt9731_000_1301.png -> Annotation:/home/simon/Schreibtisch/Simon/Hochschule/Innot/Bilder/Sportlich/Joggingjacke/adidas_adizero_marathon_jacke_herren_gt9731_000_1301.xml\n",
      "Image:/home/simon/Schreibtisch/Simon/Hochschule/Innot/Bilder/Sportlich/Joggingjacke/Bildschirmfoto 2022-04-21 um 13.44.32.png -> Annotation:/home/simon/Schreibtisch/Simon/Hochschule/Innot/Bilder/Sportlich/Joggingjacke/Bildschirmfoto 2022-04-21 um 13.44.32.xml\n",
      "Image:/home/simon/Schreibtisch/Simon/Hochschule/Innot/Bilder/Sportlich/Joggingjacke/Bildschirmfoto 2022-04-21 um 13.44.35.png -> Annotation:/home/simon/Schreibtisch/Simon/Hochschule/Innot/Bilder/Sportlich/Joggingjacke/Bildschirmfoto 2022-04-21 um 13.44.35.xml\n",
      "Image:/home/simon/Schreibtisch/Simon/Hochschule/Innot/Bilder/Sportlich/Joggingjacke/Bildschirmfoto 2022-04-21 um 13.44.35.png -> Annotation:/home/simon/Schreibtisch/Simon/Hochschule/Innot/Bilder/Sportlich/Joggingjacke/Bildschirmfoto 2022-04-21 um 13.44.35.xml\n",
      "qt.qpa.xcb: QXcbConnection: XCB error: 3 (BadWindow), sequence: 61631, resource id: 15395494, major code: 40 (TranslateCoords), minor code: 0\n",
      "Image:/home/simon/Schreibtisch/Simon/Hochschule/Innot/Bilder/Sportlich/Joggingjacke/Bildschirmfoto 2022-04-21 um 13.44.39.png -> Annotation:/home/simon/Schreibtisch/Simon/Hochschule/Innot/Bilder/Sportlich/Joggingjacke/Bildschirmfoto 2022-04-21 um 13.44.39.xml\n",
      "Image:/home/simon/Schreibtisch/Simon/Hochschule/Innot/Bilder/Sportlich/Joggingjacke/Bildschirmfoto 2022-04-21 um 13.44.39.png -> Annotation:/home/simon/Schreibtisch/Simon/Hochschule/Innot/Bilder/Sportlich/Joggingjacke/Bildschirmfoto 2022-04-21 um 13.44.39.xml\n"
     ]
    },
    {
     "name": "stdout",
     "output_type": "stream",
     "text": [
      "Image:/home/simon/Schreibtisch/Simon/Hochschule/Innot/Bilder/Sportlich/Joggingjacke/Bildschirmfoto 2022-04-21 um 13.45.16.png -> Annotation:/home/simon/Schreibtisch/Simon/Hochschule/Innot/Bilder/Sportlich/Joggingjacke/Bildschirmfoto 2022-04-21 um 13.45.16.xml\n",
      "Image:/home/simon/Schreibtisch/Simon/Hochschule/Innot/Bilder/Sportlich/Joggingjacke/Bildschirmfoto 2022-04-21 um 13.45.16.png -> Annotation:/home/simon/Schreibtisch/Simon/Hochschule/Innot/Bilder/Sportlich/Joggingjacke/Bildschirmfoto 2022-04-21 um 13.45.16.xml\n",
      "Image:/home/simon/Schreibtisch/Simon/Hochschule/Innot/Bilder/Sportlich/Joggingjacke/Bildschirmfoto 2022-04-21 um 13.45.16.png -> Annotation:/home/simon/Schreibtisch/Simon/Hochschule/Innot/Bilder/Sportlich/Joggingjacke/Bildschirmfoto 2022-04-21 um 13.45.16.xml\n",
      "Image:/home/simon/Schreibtisch/Simon/Hochschule/Innot/Bilder/Sportlich/Joggingjacke/Bildschirmfoto 2022-04-21 um 13.45.19.png -> Annotation:/home/simon/Schreibtisch/Simon/Hochschule/Innot/Bilder/Sportlich/Joggingjacke/Bildschirmfoto 2022-04-21 um 13.45.19.xml\n",
      "Image:/home/simon/Schreibtisch/Simon/Hochschule/Innot/Bilder/Sportlich/Joggingjacke/Bildschirmfoto 2022-04-21 um 13.45.19.png -> Annotation:/home/simon/Schreibtisch/Simon/Hochschule/Innot/Bilder/Sportlich/Joggingjacke/Bildschirmfoto 2022-04-21 um 13.45.19.xml\n",
      "Image:/home/simon/Schreibtisch/Simon/Hochschule/Innot/Bilder/Sportlich/Joggingjacke/Bildschirmfoto 2022-04-21 um 13.45.25.png -> Annotation:/home/simon/Schreibtisch/Simon/Hochschule/Innot/Bilder/Sportlich/Joggingjacke/Bildschirmfoto 2022-04-21 um 13.45.25.xml\n",
      "Image:/home/simon/Schreibtisch/Simon/Hochschule/Innot/Bilder/Sportlich/Joggingjacke/Bildschirmfoto 2022-04-21 um 13.45.25.png -> Annotation:/home/simon/Schreibtisch/Simon/Hochschule/Innot/Bilder/Sportlich/Joggingjacke/Bildschirmfoto 2022-04-21 um 13.45.25.xml\n",
      "qt.qpa.xcb: QXcbConnection: XCB error: 3 (BadWindow), sequence: 54321, resource id: 15400454, major code: 40 (TranslateCoords), minor code: 0\n",
      "Image:/home/simon/Schreibtisch/Simon/Hochschule/Innot/Bilder/Sportlich/Joggingjacke/Bildschirmfoto 2022-04-21 um 13.45.28.png -> Annotation:/home/simon/Schreibtisch/Simon/Hochschule/Innot/Bilder/Sportlich/Joggingjacke/Bildschirmfoto 2022-04-21 um 13.45.28.xml\n",
      "Image:/home/simon/Schreibtisch/Simon/Hochschule/Innot/Bilder/Sportlich/Joggingjacke/Bildschirmfoto 2022-04-21 um 13.45.34.png -> Annotation:/home/simon/Schreibtisch/Simon/Hochschule/Innot/Bilder/Sportlich/Joggingjacke/Bildschirmfoto 2022-04-21 um 13.45.34.xml\n",
      "Image:/home/simon/Schreibtisch/Simon/Hochschule/Innot/Bilder/Sportlich/Joggingjacke/Bildschirmfoto 2022-04-21 um 13.45.37.png -> Annotation:/home/simon/Schreibtisch/Simon/Hochschule/Innot/Bilder/Sportlich/Joggingjacke/Bildschirmfoto 2022-04-21 um 13.45.37.xml\n",
      "Image:/home/simon/Schreibtisch/Simon/Hochschule/Innot/Bilder/Sportlich/Joggingjacke/Bildschirmfoto 2022-04-21 um 13.45.41.png -> Annotation:/home/simon/Schreibtisch/Simon/Hochschule/Innot/Bilder/Sportlich/Joggingjacke/Bildschirmfoto 2022-04-21 um 13.45.41.xml\n",
      "Image:/home/simon/Schreibtisch/Simon/Hochschule/Innot/Bilder/Sportlich/Joggingjacke/Bildschirmfoto 2022-04-21 um 13.45.47.png -> Annotation:/home/simon/Schreibtisch/Simon/Hochschule/Innot/Bilder/Sportlich/Joggingjacke/Bildschirmfoto 2022-04-21 um 13.45.47.xml\n",
      "Image:/home/simon/Schreibtisch/Simon/Hochschule/Innot/Bilder/Sportlich/Joggingjacke/Bildschirmfoto 2022-04-21 um 13.45.51.png -> Annotation:/home/simon/Schreibtisch/Simon/Hochschule/Innot/Bilder/Sportlich/Joggingjacke/Bildschirmfoto 2022-04-21 um 13.45.51.xml\n",
      "qt.qpa.xcb: QXcbConnection: XCB error: 3 (BadWindow), sequence: 33225, resource id: 15403573, major code: 40 (TranslateCoords), minor code: 0\n",
      "Image:/home/simon/Schreibtisch/Simon/Hochschule/Innot/Bilder/Sportlich/Joggingjacke/Bildschirmfoto 2022-04-21 um 13.45.54.png -> Annotation:/home/simon/Schreibtisch/Simon/Hochschule/Innot/Bilder/Sportlich/Joggingjacke/Bildschirmfoto 2022-04-21 um 13.45.54.xml\n",
      "qt.qpa.xcb: QXcbConnection: XCB error: 3 (BadWindow), sequence: 39181, resource id: 15403956, major code: 40 (TranslateCoords), minor code: 0\n",
      "Image:/home/simon/Schreibtisch/Simon/Hochschule/Innot/Bilder/Sportlich/Joggingjacke/Bildschirmfoto 2022-04-21 um 13.45.58.png -> Annotation:/home/simon/Schreibtisch/Simon/Hochschule/Innot/Bilder/Sportlich/Joggingjacke/Bildschirmfoto 2022-04-21 um 13.45.58.xml\n",
      "qt.qpa.xcb: QXcbConnection: XCB error: 3 (BadWindow), sequence: 44260, resource id: 15404416, major code: 40 (TranslateCoords), minor code: 0\n",
      "Image:/home/simon/Schreibtisch/Simon/Hochschule/Innot/Bilder/Sportlich/Joggingjacke/Bildschirmfoto 2022-04-21 um 13.45.58.png -> Annotation:/home/simon/Schreibtisch/Simon/Hochschule/Innot/Bilder/Sportlich/Joggingjacke/Bildschirmfoto 2022-04-21 um 13.45.58.xml\n",
      "Image:/home/simon/Schreibtisch/Simon/Hochschule/Innot/Bilder/Sportlich/Joggingjacke/Bildschirmfoto 2022-04-21 um 13.46.01.png -> Annotation:/home/simon/Schreibtisch/Simon/Hochschule/Innot/Bilder/Sportlich/Joggingjacke/Bildschirmfoto 2022-04-21 um 13.46.01.xml\n",
      "qt.qpa.xcb: QXcbConnection: XCB error: 3 (BadWindow), sequence: 56469, resource id: 15405422, major code: 40 (TranslateCoords), minor code: 0\n",
      "Image:/home/simon/Schreibtisch/Simon/Hochschule/Innot/Bilder/Sportlich/Joggingjacke/Bildschirmfoto 2022-04-21 um 13.46.01.png -> Annotation:/home/simon/Schreibtisch/Simon/Hochschule/Innot/Bilder/Sportlich/Joggingjacke/Bildschirmfoto 2022-04-21 um 13.46.01.xml\n",
      "qt.qpa.xcb: QXcbConnection: XCB error: 3 (BadWindow), sequence: 64144, resource id: 15405964, major code: 40 (TranslateCoords), minor code: 0\n",
      "Image:/home/simon/Schreibtisch/Simon/Hochschule/Innot/Bilder/Sportlich/Joggingjacke/Bildschirmfoto 2022-04-21 um 13.46.39.png -> Annotation:/home/simon/Schreibtisch/Simon/Hochschule/Innot/Bilder/Sportlich/Joggingjacke/Bildschirmfoto 2022-04-21 um 13.46.39.xml\n",
      "Image:/home/simon/Schreibtisch/Simon/Hochschule/Innot/Bilder/Sportlich/Joggingjacke/Bildschirmfoto 2022-04-21 um 13.46.45.png -> Annotation:/home/simon/Schreibtisch/Simon/Hochschule/Innot/Bilder/Sportlich/Joggingjacke/Bildschirmfoto 2022-04-21 um 13.46.45.xml\n",
      "Image:/home/simon/Schreibtisch/Simon/Hochschule/Innot/Bilder/Sportlich/Joggingjacke/Bildschirmfoto 2022-04-21 um 13.46.52.png -> Annotation:/home/simon/Schreibtisch/Simon/Hochschule/Innot/Bilder/Sportlich/Joggingjacke/Bildschirmfoto 2022-04-21 um 13.46.52.xml\n",
      "Image:/home/simon/Schreibtisch/Simon/Hochschule/Innot/Bilder/Sportlich/Joggingjacke/Bildschirmfoto 2022-04-21 um 13.46.58.png -> Annotation:/home/simon/Schreibtisch/Simon/Hochschule/Innot/Bilder/Sportlich/Joggingjacke/Bildschirmfoto 2022-04-21 um 13.46.58.xml\n",
      "Image:/home/simon/Schreibtisch/Simon/Hochschule/Innot/Bilder/Sportlich/Joggingjacke/Bildschirmfoto 2022-04-21 um 13.47.05.png -> Annotation:/home/simon/Schreibtisch/Simon/Hochschule/Innot/Bilder/Sportlich/Joggingjacke/Bildschirmfoto 2022-04-21 um 13.47.05.xml\n",
      "qt.qpa.xcb: QXcbConnection: XCB error: 3 (BadWindow), sequence: 41176, resource id: 15409384, major code: 40 (TranslateCoords), minor code: 0\n",
      "Image:/home/simon/Schreibtisch/Simon/Hochschule/Innot/Bilder/Sportlich/Joggingjacke/Bildschirmfoto 2022-04-21 um 13.47.11.png -> Annotation:/home/simon/Schreibtisch/Simon/Hochschule/Innot/Bilder/Sportlich/Joggingjacke/Bildschirmfoto 2022-04-21 um 13.47.11.xml\n",
      "Image:/home/simon/Schreibtisch/Simon/Hochschule/Innot/Bilder/Sportlich/Joggingjacke/Bildschirmfoto 2022-04-21 um 13.47.19.png -> Annotation:/home/simon/Schreibtisch/Simon/Hochschule/Innot/Bilder/Sportlich/Joggingjacke/Bildschirmfoto 2022-04-21 um 13.47.19.xml\n",
      "Image:/home/simon/Schreibtisch/Simon/Hochschule/Innot/Bilder/Sportlich/Joggingjacke/Bildschirmfoto 2022-04-21 um 13.47.23.png -> Annotation:/home/simon/Schreibtisch/Simon/Hochschule/Innot/Bilder/Sportlich/Joggingjacke/Bildschirmfoto 2022-04-21 um 13.47.23.xml\n",
      "Image:/home/simon/Schreibtisch/Simon/Hochschule/Innot/Bilder/Sportlich/Joggingjacke/Bildschirmfoto 2022-04-21 um 13.47.29.png -> Annotation:/home/simon/Schreibtisch/Simon/Hochschule/Innot/Bilder/Sportlich/Joggingjacke/Bildschirmfoto 2022-04-21 um 13.47.29.xml\n",
      "Image:/home/simon/Schreibtisch/Simon/Hochschule/Innot/Bilder/Sportlich/Joggingjacke/Bildschirmfoto 2022-04-21 um 13.47.34.png -> Annotation:/home/simon/Schreibtisch/Simon/Hochschule/Innot/Bilder/Sportlich/Joggingjacke/Bildschirmfoto 2022-04-21 um 13.47.34.xml\n"
     ]
    },
    {
     "name": "stdout",
     "output_type": "stream",
     "text": [
      "Cancel creation.\n",
      "Image:/home/simon/Schreibtisch/Simon/Hochschule/Innot/Bilder/Sportlich/Joggingjacke/Bildschirmfoto 2022-04-21 um 13.47.42.png -> Annotation:/home/simon/Schreibtisch/Simon/Hochschule/Innot/Bilder/Sportlich/Joggingjacke/Bildschirmfoto 2022-04-21 um 13.47.42.xml\n",
      "Image:/home/simon/Schreibtisch/Simon/Hochschule/Innot/Bilder/Sportlich/Joggingjacke/Bildschirmfoto 2022-04-21 um 13.47.46.png -> Annotation:/home/simon/Schreibtisch/Simon/Hochschule/Innot/Bilder/Sportlich/Joggingjacke/Bildschirmfoto 2022-04-21 um 13.47.46.xml\n",
      "Image:/home/simon/Schreibtisch/Simon/Hochschule/Innot/Bilder/Sportlich/Joggingjacke/Bildschirmfoto 2022-04-21 um 13.47.50.png -> Annotation:/home/simon/Schreibtisch/Simon/Hochschule/Innot/Bilder/Sportlich/Joggingjacke/Bildschirmfoto 2022-04-21 um 13.47.50.xml\n",
      "Image:/home/simon/Schreibtisch/Simon/Hochschule/Innot/Bilder/Sportlich/Joggingjacke/Bildschirmfoto 2022-04-21 um 13.49.20.png -> Annotation:/home/simon/Schreibtisch/Simon/Hochschule/Innot/Bilder/Sportlich/Joggingjacke/Bildschirmfoto 2022-04-21 um 13.49.20.xml\n",
      "Image:/home/simon/Schreibtisch/Simon/Hochschule/Innot/Bilder/Sportlich/Joggingjacke/Bildschirmfoto 2022-04-21 um 13.49.20.png -> Annotation:/home/simon/Schreibtisch/Simon/Hochschule/Innot/Bilder/Sportlich/Joggingjacke/Bildschirmfoto 2022-04-21 um 13.49.20.xml\n",
      "Image:/home/simon/Schreibtisch/Simon/Hochschule/Innot/Bilder/Sportlich/Joggingjacke/Bildschirmfoto 2022-04-21 um 13.49.24.png -> Annotation:/home/simon/Schreibtisch/Simon/Hochschule/Innot/Bilder/Sportlich/Joggingjacke/Bildschirmfoto 2022-04-21 um 13.49.24.xml\n",
      "Image:/home/simon/Schreibtisch/Simon/Hochschule/Innot/Bilder/Sportlich/Joggingjacke/Bildschirmfoto 2022-04-21 um 13.49.28.png -> Annotation:/home/simon/Schreibtisch/Simon/Hochschule/Innot/Bilder/Sportlich/Joggingjacke/Bildschirmfoto 2022-04-21 um 13.49.28.xml\n",
      "Image:/home/simon/Schreibtisch/Simon/Hochschule/Innot/Bilder/Sportlich/Joggingjacke/Bildschirmfoto 2022-04-21 um 13.49.33.png -> Annotation:/home/simon/Schreibtisch/Simon/Hochschule/Innot/Bilder/Sportlich/Joggingjacke/Bildschirmfoto 2022-04-21 um 13.49.33.xml\n",
      "Image:/home/simon/Schreibtisch/Simon/Hochschule/Innot/Bilder/Sportlich/Joggingjacke/Bildschirmfoto 2022-04-21 um 13.49.38.png -> Annotation:/home/simon/Schreibtisch/Simon/Hochschule/Innot/Bilder/Sportlich/Joggingjacke/Bildschirmfoto 2022-04-21 um 13.49.38.xml\n",
      "qt.qpa.xcb: QXcbConnection: XCB error: 3 (BadWindow), sequence: 45685, resource id: 15420160, major code: 40 (TranslateCoords), minor code: 0\n",
      "Image:/home/simon/Schreibtisch/Simon/Hochschule/Innot/Bilder/Sportlich/Joggingjacke/Bildschirmfoto 2022-04-21 um 13.49.43.png -> Annotation:/home/simon/Schreibtisch/Simon/Hochschule/Innot/Bilder/Sportlich/Joggingjacke/Bildschirmfoto 2022-04-21 um 13.49.43.xml\n",
      "qt.qpa.xcb: QXcbConnection: XCB error: 3 (BadWindow), sequence: 52224, resource id: 15420573, major code: 40 (TranslateCoords), minor code: 0\n",
      "Image:/home/simon/Schreibtisch/Simon/Hochschule/Innot/Bilder/Sportlich/Joggingjacke/Bildschirmfoto 2022-04-21 um 13.49.47.png -> Annotation:/home/simon/Schreibtisch/Simon/Hochschule/Innot/Bilder/Sportlich/Joggingjacke/Bildschirmfoto 2022-04-21 um 13.49.47.xml\n",
      "qt.qpa.xcb: QXcbConnection: XCB error: 3 (BadWindow), sequence: 60323, resource id: 15421124, major code: 40 (TranslateCoords), minor code: 0\n",
      "Image:/home/simon/Schreibtisch/Simon/Hochschule/Innot/Bilder/Sportlich/Joggingjacke/Bildschirmfoto 2022-04-21 um 13.49.50.png -> Annotation:/home/simon/Schreibtisch/Simon/Hochschule/Innot/Bilder/Sportlich/Joggingjacke/Bildschirmfoto 2022-04-21 um 13.49.50.xml\n",
      "qt.qpa.xcb: QXcbConnection: XCB error: 3 (BadWindow), sequence: 2638, resource id: 15421771, major code: 40 (TranslateCoords), minor code: 0\n",
      "Image:/home/simon/Schreibtisch/Simon/Hochschule/Innot/Bilder/Sportlich/Joggingjacke/Bildschirmfoto 2022-04-21 um 13.49.56.png -> Annotation:/home/simon/Schreibtisch/Simon/Hochschule/Innot/Bilder/Sportlich/Joggingjacke/Bildschirmfoto 2022-04-21 um 13.49.56.xml\n",
      "Image:/home/simon/Schreibtisch/Simon/Hochschule/Innot/Bilder/Sportlich/Joggingjacke/Bildschirmfoto 2022-04-21 um 13.50.04.png -> Annotation:/home/simon/Schreibtisch/Simon/Hochschule/Innot/Bilder/Sportlich/Joggingjacke/Bildschirmfoto 2022-04-21 um 13.50.04.xml\n",
      "Image:/home/simon/Schreibtisch/Simon/Hochschule/Innot/Bilder/Sportlich/Joggingjacke/Bildschirmfoto 2022-04-21 um 13.50.10.png -> Annotation:/home/simon/Schreibtisch/Simon/Hochschule/Innot/Bilder/Sportlich/Joggingjacke/Bildschirmfoto 2022-04-21 um 13.50.10.xml\n",
      "Image:/home/simon/Schreibtisch/Simon/Hochschule/Innot/Bilder/Sportlich/Joggingjacke/Bildschirmfoto 2022-04-21 um 13.50.14.png -> Annotation:/home/simon/Schreibtisch/Simon/Hochschule/Innot/Bilder/Sportlich/Joggingjacke/Bildschirmfoto 2022-04-21 um 13.50.14.xml\n",
      "Image:/home/simon/Schreibtisch/Simon/Hochschule/Innot/Bilder/Sportlich/Joggingjacke/Bildschirmfoto 2022-04-21 um 13.50.22.png -> Annotation:/home/simon/Schreibtisch/Simon/Hochschule/Innot/Bilder/Sportlich/Joggingjacke/Bildschirmfoto 2022-04-21 um 13.50.22.xml\n",
      "Image:/home/simon/Schreibtisch/Simon/Hochschule/Innot/Bilder/Sportlich/Joggingjacke/Bildschirmfoto 2022-04-21 um 13.50.26.png -> Annotation:/home/simon/Schreibtisch/Simon/Hochschule/Innot/Bilder/Sportlich/Joggingjacke/Bildschirmfoto 2022-04-21 um 13.50.26.xml\n",
      "Image:/home/simon/Schreibtisch/Simon/Hochschule/Innot/Bilder/Sportlich/Joggingjacke/Bildschirmfoto 2022-04-21 um 13.50.31.png -> Annotation:/home/simon/Schreibtisch/Simon/Hochschule/Innot/Bilder/Sportlich/Joggingjacke/Bildschirmfoto 2022-04-21 um 13.50.31.xml\n",
      "Image:/home/simon/Schreibtisch/Simon/Hochschule/Innot/Bilder/Sportlich/Joggingjacke/Bildschirmfoto 2022-04-21 um 13.50.35.png -> Annotation:/home/simon/Schreibtisch/Simon/Hochschule/Innot/Bilder/Sportlich/Joggingjacke/Bildschirmfoto 2022-04-21 um 13.50.35.xml\n",
      "Image:/home/simon/Schreibtisch/Simon/Hochschule/Innot/Bilder/Sportlich/Joggingjacke/Bildschirmfoto 2022-04-21 um 13.50.41.png -> Annotation:/home/simon/Schreibtisch/Simon/Hochschule/Innot/Bilder/Sportlich/Joggingjacke/Bildschirmfoto 2022-04-21 um 13.50.41.xml\n",
      "Image:/home/simon/Schreibtisch/Simon/Hochschule/Innot/Bilder/Sportlich/Joggingjacke/Bildschirmfoto 2022-04-21 um 13.50.45.png -> Annotation:/home/simon/Schreibtisch/Simon/Hochschule/Innot/Bilder/Sportlich/Joggingjacke/Bildschirmfoto 2022-04-21 um 13.50.45.xml\n",
      "Image:/home/simon/Schreibtisch/Simon/Hochschule/Innot/Bilder/Sportlich/Joggingjacke/Bildschirmfoto 2022-04-21 um 13.50.49.png -> Annotation:/home/simon/Schreibtisch/Simon/Hochschule/Innot/Bilder/Sportlich/Joggingjacke/Bildschirmfoto 2022-04-21 um 13.50.49.xml\n",
      "Image:/home/simon/Schreibtisch/Simon/Hochschule/Innot/Bilder/Sportlich/Joggingjacke/Bildschirmfoto 2022-04-21 um 13.50.55.png -> Annotation:/home/simon/Schreibtisch/Simon/Hochschule/Innot/Bilder/Sportlich/Joggingjacke/Bildschirmfoto 2022-04-21 um 13.50.55.xml\n",
      "Image:/home/simon/Schreibtisch/Simon/Hochschule/Innot/Bilder/Sportlich/Joggingjacke/Bildschirmfoto 2022-04-21 um 13.51.03.png -> Annotation:/home/simon/Schreibtisch/Simon/Hochschule/Innot/Bilder/Sportlich/Joggingjacke/Bildschirmfoto 2022-04-21 um 13.51.03.xml\n",
      "Image:/home/simon/Schreibtisch/Simon/Hochschule/Innot/Bilder/Sportlich/Joggingjacke/Bildschirmfoto 2022-04-21 um 13.51.32.png -> Annotation:/home/simon/Schreibtisch/Simon/Hochschule/Innot/Bilder/Sportlich/Joggingjacke/Bildschirmfoto 2022-04-21 um 13.51.32.xml\n",
      "Image:/home/simon/Schreibtisch/Simon/Hochschule/Innot/Bilder/Sportlich/Joggingjacke/Bildschirmfoto 2022-04-21 um 13.51.32.png -> Annotation:/home/simon/Schreibtisch/Simon/Hochschule/Innot/Bilder/Sportlich/Joggingjacke/Bildschirmfoto 2022-04-21 um 13.51.32.xml\n",
      "Image:/home/simon/Schreibtisch/Simon/Hochschule/Innot/Bilder/Sportlich/Joggingjacke/Bildschirmfoto 2022-04-21 um 13.51.36.png -> Annotation:/home/simon/Schreibtisch/Simon/Hochschule/Innot/Bilder/Sportlich/Joggingjacke/Bildschirmfoto 2022-04-21 um 13.51.36.xml\n",
      "Image:/home/simon/Schreibtisch/Simon/Hochschule/Innot/Bilder/Sportlich/Joggingjacke/Bildschirmfoto 2022-04-21 um 13.51.40.png -> Annotation:/home/simon/Schreibtisch/Simon/Hochschule/Innot/Bilder/Sportlich/Joggingjacke/Bildschirmfoto 2022-04-21 um 13.51.40.xml\n",
      "Image:/home/simon/Schreibtisch/Simon/Hochschule/Innot/Bilder/Sportlich/Joggingjacke/Bildschirmfoto 2022-04-21 um 13.51.45.png -> Annotation:/home/simon/Schreibtisch/Simon/Hochschule/Innot/Bilder/Sportlich/Joggingjacke/Bildschirmfoto 2022-04-21 um 13.51.45.xml\n"
     ]
    },
    {
     "name": "stdout",
     "output_type": "stream",
     "text": [
      "Image:/home/simon/Schreibtisch/Simon/Hochschule/Innot/Bilder/Sportlich/Joggingjacke/Bildschirmfoto 2022-04-21 um 13.51.45.png -> Annotation:/home/simon/Schreibtisch/Simon/Hochschule/Innot/Bilder/Sportlich/Joggingjacke/Bildschirmfoto 2022-04-21 um 13.51.45.xml\n",
      "Image:/home/simon/Schreibtisch/Simon/Hochschule/Innot/Bilder/Sportlich/Joggingjacke/Bildschirmfoto 2022-04-21 um 13.51.49.png -> Annotation:/home/simon/Schreibtisch/Simon/Hochschule/Innot/Bilder/Sportlich/Joggingjacke/Bildschirmfoto 2022-04-21 um 13.51.49.xml\n",
      "qt.qpa.xcb: QXcbConnection: XCB error: 3 (BadWindow), sequence: 33121, resource id: 15435775, major code: 40 (TranslateCoords), minor code: 0\n",
      "Image:/home/simon/Schreibtisch/Simon/Hochschule/Innot/Bilder/Sportlich/Joggingjacke/Bildschirmfoto 2022-04-21 um 13.51.54.png -> Annotation:/home/simon/Schreibtisch/Simon/Hochschule/Innot/Bilder/Sportlich/Joggingjacke/Bildschirmfoto 2022-04-21 um 13.51.54.xml\n",
      "Image:/home/simon/Schreibtisch/Simon/Hochschule/Innot/Bilder/Sportlich/Joggingjacke/Bildschirmfoto 2022-04-21 um 13.51.59.png -> Annotation:/home/simon/Schreibtisch/Simon/Hochschule/Innot/Bilder/Sportlich/Joggingjacke/Bildschirmfoto 2022-04-21 um 13.51.59.xml\n",
      "Image:/home/simon/Schreibtisch/Simon/Hochschule/Innot/Bilder/Sportlich/Joggingjacke/Bildschirmfoto 2022-04-21 um 13.51.59.png -> Annotation:/home/simon/Schreibtisch/Simon/Hochschule/Innot/Bilder/Sportlich/Joggingjacke/Bildschirmfoto 2022-04-21 um 13.51.59.xml\n",
      "Image:/home/simon/Schreibtisch/Simon/Hochschule/Innot/Bilder/Sportlich/Joggingjacke/Bildschirmfoto 2022-04-21 um 13.52.04.png -> Annotation:/home/simon/Schreibtisch/Simon/Hochschule/Innot/Bilder/Sportlich/Joggingjacke/Bildschirmfoto 2022-04-21 um 13.52.04.xml\n",
      "Image:/home/simon/Schreibtisch/Simon/Hochschule/Innot/Bilder/Sportlich/Joggingjacke/Bildschirmfoto 2022-04-21 um 13.52.04.png -> Annotation:/home/simon/Schreibtisch/Simon/Hochschule/Innot/Bilder/Sportlich/Joggingjacke/Bildschirmfoto 2022-04-21 um 13.52.04.xml\n",
      "Image:/home/simon/Schreibtisch/Simon/Hochschule/Innot/Bilder/Sportlich/Joggingjacke/c526bdf687cb3308aca4a164b6a3c1b9.jpg -> Annotation:/home/simon/Schreibtisch/Simon/Hochschule/Innot/Bilder/Sportlich/Joggingjacke/c526bdf687cb3308aca4a164b6a3c1b9.xml\n",
      "qt.qpa.xcb: QXcbConnection: XCB error: 3 (BadWindow), sequence: 18368, resource id: 15440806, major code: 40 (TranslateCoords), minor code: 0\n",
      "Image:/home/simon/Schreibtisch/Simon/Hochschule/Innot/Bilder/Sportlich/Joggingjacke/de6b6a1e-b2df-4d8f-b654-f54c911c5a86.webp -> Annotation:/home/simon/Schreibtisch/Simon/Hochschule/Innot/Bilder/Sportlich/Joggingjacke/de6b6a1e-b2df-4d8f-b654-f54c911c5a86.xml\n",
      "Image:/home/simon/Schreibtisch/Simon/Hochschule/Innot/Bilder/Sportlich/Joggingjacke/e6a3fd33105cfe36a5474a56cf8cace7.jpeg -> Annotation:/home/simon/Schreibtisch/Simon/Hochschule/Innot/Bilder/Sportlich/Joggingjacke/e6a3fd33105cfe36a5474a56cf8cace7.xml\n",
      "Image:/home/simon/Schreibtisch/Simon/Hochschule/Innot/Bilder/Sportlich/Joggingjacke/e6a3fd33105cfe36a5474a56cf8cace7.jpeg -> Annotation:/home/simon/Schreibtisch/Simon/Hochschule/Innot/Bilder/Sportlich/Joggingjacke/e6a3fd33105cfe36a5474a56cf8cace7.xml\n",
      "Image:/home/simon/Schreibtisch/Simon/Hochschule/Innot/Bilder/Sportlich/Joggingjacke/gm3000_app_on-model_back_white.jpg -> Annotation:/home/simon/Schreibtisch/Simon/Hochschule/Innot/Bilder/Sportlich/Joggingjacke/gm3000_app_on-model_back_white.xml\n",
      "qt.qpa.xcb: QXcbConnection: XCB error: 3 (BadWindow), sequence: 51954, resource id: 15443803, major code: 40 (TranslateCoords), minor code: 0\n",
      "Image:/home/simon/Schreibtisch/Simon/Hochschule/Innot/Bilder/Sportlich/Joggingjacke/Graphic-Hooded-Herren-Laufjacke-2.webp -> Annotation:/home/simon/Schreibtisch/Simon/Hochschule/Innot/Bilder/Sportlich/Joggingjacke/Graphic-Hooded-Herren-Laufjacke-2.xml\n",
      "Image:/home/simon/Schreibtisch/Simon/Hochschule/Innot/Bilder/Sportlich/Joggingjacke/Graphic-Hooded-Herren-Laufjacke.webp -> Annotation:/home/simon/Schreibtisch/Simon/Hochschule/Innot/Bilder/Sportlich/Joggingjacke/Graphic-Hooded-Herren-Laufjacke.xml\n",
      "qt.qpa.xcb: QXcbConnection: XCB error: 3 (BadWindow), sequence: 2929, resource id: 15445237, major code: 40 (TranslateCoords), minor code: 0\n",
      "Image:/home/simon/Schreibtisch/Simon/Hochschule/Innot/Bilder/Sportlich/Joggingjacke/h-166-rock-creek-herren-trainingsanzug-sportanzug-jogging-anzug-zweiteiler-h-166-s-5xl.jpg -> Annotation:/home/simon/Schreibtisch/Simon/Hochschule/Innot/Bilder/Sportlich/Joggingjacke/h-166-rock-creek-herren-trainingsanzug-sportanzug-jogging-anzug-zweiteiler-h-166-s-5xl.xml\n",
      "Image:/home/simon/Schreibtisch/Simon/Hochschule/Innot/Bilder/Sportlich/Joggingjacke/King-Herren-Trainingsjacke.jpeg -> Annotation:/home/simon/Schreibtisch/Simon/Hochschule/Innot/Bilder/Sportlich/Joggingjacke/King-Herren-Trainingsjacke.xml\n",
      "qt.qpa.xcb: QXcbConnection: XCB error: 3 (BadWindow), sequence: 16104, resource id: 15446325, major code: 40 (TranslateCoords), minor code: 0\n",
      "Image:/home/simon/Schreibtisch/Simon/Hochschule/Innot/Bilder/Sportlich/Joggingjacke/Logo-Herren-Trainingsjacke-mit-halbem-ReiÃverschluss-2.webp -> Annotation:/home/simon/Schreibtisch/Simon/Hochschule/Innot/Bilder/Sportlich/Joggingjacke/Logo-Herren-Trainingsjacke-mit-halbem-ReiÃverschluss-2.xml\n",
      "Image:/home/simon/Schreibtisch/Simon/Hochschule/Innot/Bilder/Sportlich/Joggingjacke/Logo-Herren-Trainingsjacke-mit-halbem-ReiÃverschluss-3.webp -> Annotation:/home/simon/Schreibtisch/Simon/Hochschule/Innot/Bilder/Sportlich/Joggingjacke/Logo-Herren-Trainingsjacke-mit-halbem-ReiÃverschluss-3.xml\n",
      "Image:/home/simon/Schreibtisch/Simon/Hochschule/Innot/Bilder/Sportlich/Joggingjacke/Logo-Herren-Trainingsjacke-mit-halbem-ReiÃverschluss.webp -> Annotation:/home/simon/Schreibtisch/Simon/Hochschule/Innot/Bilder/Sportlich/Joggingjacke/Logo-Herren-Trainingsjacke-mit-halbem-ReiÃverschluss.xml\n",
      "Image:/home/simon/Schreibtisch/Simon/Hochschule/Innot/Bilder/Sportlich/Joggingjacke/nike-anzug-schwarz-711397.jpg.webp -> Annotation:/home/simon/Schreibtisch/Simon/Hochschule/Innot/Bilder/Sportlich/Joggingjacke/nike-anzug-schwarz-711397.jpg.xml\n",
      "Image:/home/simon/Schreibtisch/Simon/Hochschule/Innot/Bilder/Sportlich/Joggingjacke/nike-starting-5-jacke-herren-weiss-schwarz-rot.jpg -> Annotation:/home/simon/Schreibtisch/Simon/Hochschule/Innot/Bilder/Sportlich/Joggingjacke/nike-starting-5-jacke-herren-weiss-schwarz-rot.xml\n",
      "qt.qpa.xcb: QXcbConnection: XCB error: 3 (BadWindow), sequence: 52, resource id: 15450796, major code: 40 (TranslateCoords), minor code: 0\n",
      "Image:/home/simon/Schreibtisch/Simon/Hochschule/Innot/Bilder/Sportlich/Joggingjacke/PUMA-x-BATMAN-T7-Herren-Trainingstop-2.webp -> Annotation:/home/simon/Schreibtisch/Simon/Hochschule/Innot/Bilder/Sportlich/Joggingjacke/PUMA-x-BATMAN-T7-Herren-Trainingstop-2.xml\n",
      "Image:/home/simon/Schreibtisch/Simon/Hochschule/Innot/Bilder/Sportlich/Joggingjacke/PUMA-x-BATMAN-T7-Herren-Trainingstop-3.webp -> Annotation:/home/simon/Schreibtisch/Simon/Hochschule/Innot/Bilder/Sportlich/Joggingjacke/PUMA-x-BATMAN-T7-Herren-Trainingstop-3.xml\n",
      "Image:/home/simon/Schreibtisch/Simon/Hochschule/Innot/Bilder/Sportlich/Joggingjacke/PUMA-x-BATMAN-T7-Herren-Trainingstop.webp -> Annotation:/home/simon/Schreibtisch/Simon/Hochschule/Innot/Bilder/Sportlich/Joggingjacke/PUMA-x-BATMAN-T7-Herren-Trainingstop.xml\n",
      "qt.qpa.xcb: QXcbConnection: XCB error: 3 (BadWindow), sequence: 29288, resource id: 15452632, major code: 40 (TranslateCoords), minor code: 0\n",
      "Image:/home/simon/Schreibtisch/Simon/Hochschule/Innot/Bilder/Sportlich/Joggingjacke/reslad-trainingsanzug-herren-jogginganzug-maenner-sportanzug-freizeitanzug-jogginghose-kapuzen-zip-sweatshirt-oberteil-set-rs-5087.jpg -> Annotation:/home/simon/Schreibtisch/Simon/Hochschule/Innot/Bilder/Sportlich/Joggingjacke/reslad-trainingsanzug-herren-jogginganzug-maenner-sportanzug-freizeitanzug-jogginghose-kapuzen-zip-sweatshirt-oberteil-set-rs-5087.xml\n",
      "qt.qpa.xcb: QXcbConnection: XCB error: 3 (BadWindow), sequence: 33376, resource id: 15452809, major code: 40 (TranslateCoords), minor code: 0\n",
      "Image:/home/simon/Schreibtisch/Simon/Hochschule/Innot/Bilder/Sportlich/Joggingjacke/Small_PNG_174.00476_zero_jacket_ss22_white_meadow_m_g1_c12b.jpg -> Annotation:/home/simon/Schreibtisch/Simon/Hochschule/Innot/Bilder/Sportlich/Joggingjacke/Small_PNG_174.00476_zero_jacket_ss22_white_meadow_m_g1_c12b.xml\n"
     ]
    },
    {
     "name": "stdout",
     "output_type": "stream",
     "text": [
      "Image:/home/simon/Schreibtisch/Simon/Hochschule/Innot/Bilder/Sportlich/Joggingjacke/sublevel-anzug-beige-885421.jpg -> Annotation:/home/simon/Schreibtisch/Simon/Hochschule/Innot/Bilder/Sportlich/Joggingjacke/sublevel-anzug-beige-885421.xml\r\n"
     ]
    }
   ],
   "source": [
    "!cd {LABELIMG_PATH} && python labelImg.py"
   ]
  },
  {
   "cell_type": "markdown",
   "metadata": {},
   "source": [
    "# 6. Move them into a Training and Testing Partition"
   ]
  },
  {
   "cell_type": "markdown",
   "metadata": {},
   "source": [
    "# OPTIONAL - 7. Compress them for Colab Training"
   ]
  },
  {
   "cell_type": "code",
   "execution_count": 20,
   "metadata": {},
   "outputs": [],
   "source": [
    "TRAIN_PATH = os.path.join('Tensorflow', 'workspace', 'images', 'train')\n",
    "TEST_PATH = os.path.join('Tensorflow', 'workspace', 'images', 'test')\n",
    "ARCHIVE_PATH = os.path.join('Tensorflow', 'workspace', 'images', 'archive.tar.gz')"
   ]
  },
  {
   "cell_type": "code",
   "execution_count": 21,
   "metadata": {},
   "outputs": [],
   "source": [
    "!tar -czf {ARCHIVE_PATH} {TRAIN_PATH} {TEST_PATH}"
   ]
  },
  {
   "cell_type": "code",
   "execution_count": null,
   "metadata": {},
   "outputs": [],
   "source": []
  }
 ],
 "metadata": {
  "kernelspec": {
   "display_name": "tfod",
   "language": "python",
   "name": "tfod"
  },
  "language_info": {
   "codemirror_mode": {
    "name": "ipython",
    "version": 3
   },
   "file_extension": ".py",
   "mimetype": "text/x-python",
   "name": "python",
   "nbconvert_exporter": "python",
   "pygments_lexer": "ipython3",
   "version": "3.10.4"
  }
 },
 "nbformat": 4,
 "nbformat_minor": 2
}
