{
 "cells": [
  {
   "cell_type": "markdown",
   "metadata": {
    "id": "QUANWN3rpfC9"
   },
   "source": [
    "# 0. Setup Paths"
   ]
  },
  {
   "cell_type": "code",
   "execution_count": 12,
   "metadata": {
    "id": "146BB11JpfDA"
   },
   "outputs": [],
   "source": [
    "import os"
   ]
  },
  {
   "cell_type": "code",
   "execution_count": 13,
   "metadata": {
    "id": "42hJEdo_pfDB"
   },
   "outputs": [],
   "source": [
    "CUSTOM_MODEL_NAME = 'mainModel02' \n",
    "PRETRAINED_MODEL_NAME = 'ssd_mobilenet_v1_fpn_640x640_coco17_tpu-8'\n",
    "PRETRAINED_MODEL_URL = 'http://download.tensorflow.org/models/object_detection/tf2/20200711/ssd_mobilenet_v1_fpn_640x640_coco17_tpu-8.tar.gz'\n",
    "TF_RECORD_SCRIPT_NAME = 'generate_tfrecord.py'\n",
    "LABEL_MAP_NAME = 'label_map.pbtxt'"
   ]
  },
  {
   "cell_type": "code",
   "execution_count": 14,
   "metadata": {
    "id": "hbPhYVy_pfDB"
   },
   "outputs": [],
   "source": [
    "workspace = 'workspaceInnot'\n",
    "paths = {\n",
    "    'WORKSPACE_PATH': os.path.join('Tensorflow', workspace),\n",
    "    'SCRIPTS_PATH': os.path.join('Tensorflow','scripts'),\n",
    "    'APIMODEL_PATH': os.path.join('Tensorflow','models'),\n",
    "    'ANNOTATION_PATH': os.path.join('Tensorflow', workspace,'annotations'),\n",
    "    'IMAGE_PATH': os.path.join('Tensorflow', workspace,'images'),\n",
    "    'MODEL_PATH': os.path.join('Tensorflow', workspace,'models'),\n",
    "    'PRETRAINED_MODEL_PATH': os.path.join('Tensorflow', workspace,'pre-trained-models'),\n",
    "    'CHECKPOINT_PATH': os.path.join('Tensorflow', workspace,'models',CUSTOM_MODEL_NAME), \n",
    "    'OUTPUT_PATH': os.path.join('Tensorflow', workspace,'models',CUSTOM_MODEL_NAME, 'export'), \n",
    "    'TFJS_PATH':os.path.join('Tensorflow', workspace,'models',CUSTOM_MODEL_NAME, 'tfjsexport'), \n",
    "    'TFLITE_PATH':os.path.join('Tensorflow', workspace,'models',CUSTOM_MODEL_NAME, 'tfliteexport'), \n",
    "    'PROTOC_PATH':os.path.join('Tensorflow','protoc')\n",
    " }"
   ]
  },
  {
   "cell_type": "code",
   "execution_count": 15,
   "metadata": {
    "id": "LwhWZMI0pfDC"
   },
   "outputs": [],
   "source": [
    "files = {\n",
    "    'PIPELINE_CONFIG':os.path.join('Tensorflow', workspace,'models', CUSTOM_MODEL_NAME, 'pipeline.config'),\n",
    "    'TF_RECORD_SCRIPT': os.path.join(paths['SCRIPTS_PATH'], TF_RECORD_SCRIPT_NAME), \n",
    "    'LABELMAP': os.path.join(paths['ANNOTATION_PATH'], LABEL_MAP_NAME)\n",
    "}"
   ]
  },
  {
   "cell_type": "code",
   "execution_count": 16,
   "metadata": {
    "id": "HR-TfDGrpfDC"
   },
   "outputs": [],
   "source": [
    "for path in paths.values():\n",
    "    if not os.path.exists(path):\n",
    "        if os.name == 'posix':\n",
    "            !mkdir -p {path}\n",
    "        if os.name == 'nt':\n",
    "            !mkdir {path}"
   ]
  },
  {
   "cell_type": "code",
   "execution_count": 17,
   "metadata": {},
   "outputs": [
    {
     "data": {
      "text/plain": [
       "{'PIPELINE_CONFIG': 'Tensorflow/workspaceInnot/models/mainModel02/pipeline.config',\n",
       " 'TF_RECORD_SCRIPT': 'Tensorflow/scripts/generate_tfrecord.py',\n",
       " 'LABELMAP': 'Tensorflow/workspaceInnot/annotations/label_map.pbtxt'}"
      ]
     },
     "execution_count": 17,
     "metadata": {},
     "output_type": "execute_result"
    }
   ],
   "source": [
    "files"
   ]
  },
  {
   "cell_type": "markdown",
   "metadata": {
    "id": "OLU-rs_ipfDE"
   },
   "source": [
    "# 1. Download TF Models Pretrained Models from Tensorflow Model Zoo and Install TFOD"
   ]
  },
  {
   "cell_type": "code",
   "execution_count": 7,
   "metadata": {},
   "outputs": [],
   "source": [
    "# https://www.tensorflow.org/install/source_windows"
   ]
  },
  {
   "cell_type": "code",
   "execution_count": 10,
   "metadata": {
    "id": "K-Cmz2edpfDE",
    "scrolled": true
   },
   "outputs": [],
   "source": [
    "if os.name=='nt':\n",
    "    !pip install wget\n",
    "    import wget"
   ]
  },
  {
   "cell_type": "code",
   "execution_count": 11,
   "metadata": {
    "id": "iA1DIq5OpfDE"
   },
   "outputs": [],
   "source": [
    "if not os.path.exists(os.path.join(paths['APIMODEL_PATH'], 'research', 'object_detection')):\n",
    "    !git clone https://github.com/tensorflow/models {paths['APIMODEL_PATH']}"
   ]
  },
  {
   "cell_type": "code",
   "execution_count": 10,
   "metadata": {
    "id": "rJjMHbnDs3Tv"
   },
   "outputs": [
    {
     "name": "stdout",
     "output_type": "stream",
     "text": [
      "/bin/bash: Zeile 1: apt-get: Kommando nicht gefunden.\n",
      "Processing /home/simon/Simon/Hochschule/Innot/TFODCourse/Tensorflow/models/research\n",
      "  Preparing metadata (setup.py) ... \u001b[?25ldone\n",
      "\u001b[?25hRequirement already satisfied: avro-python3 in /home/simon/Simon/Hochschule/Innot/TFODCourse/tfod/lib/python3.10/site-packages (from object-detection==0.1) (1.10.2)\n",
      "Requirement already satisfied: apache-beam in /home/simon/Simon/Hochschule/Innot/TFODCourse/tfod/lib/python3.10/site-packages (from object-detection==0.1) (2.38.0)\n",
      "Requirement already satisfied: pillow in /home/simon/Simon/Hochschule/Innot/TFODCourse/tfod/lib/python3.10/site-packages (from object-detection==0.1) (9.1.0)\n",
      "Requirement already satisfied: lxml in /home/simon/Simon/Hochschule/Innot/TFODCourse/tfod/lib/python3.10/site-packages (from object-detection==0.1) (4.8.0)\n",
      "Requirement already satisfied: matplotlib in /home/simon/Simon/Hochschule/Innot/TFODCourse/tfod/lib/python3.10/site-packages (from object-detection==0.1) (3.5.1)\n",
      "Requirement already satisfied: Cython in /home/simon/Simon/Hochschule/Innot/TFODCourse/tfod/lib/python3.10/site-packages (from object-detection==0.1) (0.29.28)\n",
      "Requirement already satisfied: contextlib2 in /home/simon/Simon/Hochschule/Innot/TFODCourse/tfod/lib/python3.10/site-packages (from object-detection==0.1) (21.6.0)\n",
      "Requirement already satisfied: tf-slim in /home/simon/Simon/Hochschule/Innot/TFODCourse/tfod/lib/python3.10/site-packages (from object-detection==0.1) (1.1.0)\n",
      "Requirement already satisfied: six in /home/simon/Simon/Hochschule/Innot/TFODCourse/tfod/lib/python3.10/site-packages (from object-detection==0.1) (1.16.0)\n",
      "Requirement already satisfied: pycocotools in /home/simon/Simon/Hochschule/Innot/TFODCourse/tfod/lib/python3.10/site-packages (from object-detection==0.1) (2.0.4)\n",
      "Requirement already satisfied: lvis in /home/simon/Simon/Hochschule/Innot/TFODCourse/tfod/lib/python3.10/site-packages (from object-detection==0.1) (0.5.3)\n",
      "Requirement already satisfied: scipy in /home/simon/Simon/Hochschule/Innot/TFODCourse/tfod/lib/python3.10/site-packages (from object-detection==0.1) (1.8.0)\n",
      "Requirement already satisfied: pandas in /home/simon/Simon/Hochschule/Innot/TFODCourse/tfod/lib/python3.10/site-packages (from object-detection==0.1) (1.4.2)\n",
      "Requirement already satisfied: tf-models-official>=2.5.1 in /home/simon/Simon/Hochschule/Innot/TFODCourse/tfod/lib/python3.10/site-packages (from object-detection==0.1) (2.8.0)\n",
      "Requirement already satisfied: tensorflow_io in /home/simon/Simon/Hochschule/Innot/TFODCourse/tfod/lib/python3.10/site-packages (from object-detection==0.1) (0.25.0)\n",
      "Requirement already satisfied: keras in /home/simon/Simon/Hochschule/Innot/TFODCourse/tfod/lib/python3.10/site-packages (from object-detection==0.1) (2.8.0)\n",
      "Requirement already satisfied: py-cpuinfo>=3.3.0 in /home/simon/Simon/Hochschule/Innot/TFODCourse/tfod/lib/python3.10/site-packages (from tf-models-official>=2.5.1->object-detection==0.1) (8.0.0)\n",
      "Requirement already satisfied: sacrebleu in /home/simon/Simon/Hochschule/Innot/TFODCourse/tfod/lib/python3.10/site-packages (from tf-models-official>=2.5.1->object-detection==0.1) (2.0.0)\n",
      "Requirement already satisfied: opencv-python-headless in /home/simon/Simon/Hochschule/Innot/TFODCourse/tfod/lib/python3.10/site-packages (from tf-models-official>=2.5.1->object-detection==0.1) (4.5.5.64)\n",
      "Requirement already satisfied: tensorflow-addons in /home/simon/Simon/Hochschule/Innot/TFODCourse/tfod/lib/python3.10/site-packages (from tf-models-official>=2.5.1->object-detection==0.1) (0.16.1)\n",
      "Requirement already satisfied: psutil>=5.4.3 in /home/simon/Simon/Hochschule/Innot/TFODCourse/tfod/lib/python3.10/site-packages (from tf-models-official>=2.5.1->object-detection==0.1) (5.9.0)\n",
      "Requirement already satisfied: tensorflow-datasets in /home/simon/Simon/Hochschule/Innot/TFODCourse/tfod/lib/python3.10/site-packages (from tf-models-official>=2.5.1->object-detection==0.1) (4.5.2)\n",
      "Requirement already satisfied: numpy>=1.15.4 in /home/simon/Simon/Hochschule/Innot/TFODCourse/tfod/lib/python3.10/site-packages (from tf-models-official>=2.5.1->object-detection==0.1) (1.22.3)\n",
      "Requirement already satisfied: oauth2client in /home/simon/Simon/Hochschule/Innot/TFODCourse/tfod/lib/python3.10/site-packages (from tf-models-official>=2.5.1->object-detection==0.1) (4.1.3)\n",
      "Requirement already satisfied: gin-config in /home/simon/Simon/Hochschule/Innot/TFODCourse/tfod/lib/python3.10/site-packages (from tf-models-official>=2.5.1->object-detection==0.1) (0.5.0)\n",
      "Requirement already satisfied: tensorflow-text~=2.8.0 in /home/simon/Simon/Hochschule/Innot/TFODCourse/tfod/lib/python3.10/site-packages (from tf-models-official>=2.5.1->object-detection==0.1) (2.8.2)\n",
      "Requirement already satisfied: tensorflow-model-optimization>=0.4.1 in /home/simon/Simon/Hochschule/Innot/TFODCourse/tfod/lib/python3.10/site-packages (from tf-models-official>=2.5.1->object-detection==0.1) (0.7.2)\n",
      "Requirement already satisfied: pyyaml<6.0,>=5.1 in /home/simon/Simon/Hochschule/Innot/TFODCourse/tfod/lib/python3.10/site-packages (from tf-models-official>=2.5.1->object-detection==0.1) (5.4.1)\n",
      "Requirement already satisfied: kaggle>=1.3.9 in /home/simon/Simon/Hochschule/Innot/TFODCourse/tfod/lib/python3.10/site-packages (from tf-models-official>=2.5.1->object-detection==0.1) (1.5.12)\n",
      "Requirement already satisfied: tensorflow-hub>=0.6.0 in /home/simon/Simon/Hochschule/Innot/TFODCourse/tfod/lib/python3.10/site-packages (from tf-models-official>=2.5.1->object-detection==0.1) (0.12.0)\n",
      "Requirement already satisfied: sentencepiece in /home/simon/Simon/Hochschule/Innot/TFODCourse/tfod/lib/python3.10/site-packages (from tf-models-official>=2.5.1->object-detection==0.1) (0.1.96)\n",
      "Requirement already satisfied: seqeval in /home/simon/Simon/Hochschule/Innot/TFODCourse/tfod/lib/python3.10/site-packages (from tf-models-official>=2.5.1->object-detection==0.1) (1.2.2)\n",
      "Requirement already satisfied: google-api-python-client>=1.6.7 in /home/simon/Simon/Hochschule/Innot/TFODCourse/tfod/lib/python3.10/site-packages (from tf-models-official>=2.5.1->object-detection==0.1) (2.46.0)\n",
      "Requirement already satisfied: tensorflow~=2.8.0 in /home/simon/Simon/Hochschule/Innot/TFODCourse/tfod/lib/python3.10/site-packages (from tf-models-official>=2.5.1->object-detection==0.1) (2.8.0)\n",
      "Requirement already satisfied: pytz>=2020.1 in /home/simon/Simon/Hochschule/Innot/TFODCourse/tfod/lib/python3.10/site-packages (from pandas->object-detection==0.1) (2022.1)\n",
      "Requirement already satisfied: python-dateutil>=2.8.1 in /home/simon/Simon/Hochschule/Innot/TFODCourse/tfod/lib/python3.10/site-packages (from pandas->object-detection==0.1) (2.8.2)\n",
      "Requirement already satisfied: absl-py>=0.2.2 in /home/simon/Simon/Hochschule/Innot/TFODCourse/tfod/lib/python3.10/site-packages (from tf-slim->object-detection==0.1) (1.0.0)\n",
      "Requirement already satisfied: crcmod<2.0,>=1.7 in /home/simon/Simon/Hochschule/Innot/TFODCourse/tfod/lib/python3.10/site-packages (from apache-beam->object-detection==0.1) (1.7)\n",
      "Requirement already satisfied: orjson<4.0 in /home/simon/Simon/Hochschule/Innot/TFODCourse/tfod/lib/python3.10/site-packages (from apache-beam->object-detection==0.1) (3.6.8)\n",
      "Requirement already satisfied: dill<0.3.2,>=0.3.1.1 in /home/simon/Simon/Hochschule/Innot/TFODCourse/tfod/lib/python3.10/site-packages (from apache-beam->object-detection==0.1) (0.3.1.1)\n",
      "Requirement already satisfied: cloudpickle<3,>=2.0.0 in /home/simon/Simon/Hochschule/Innot/TFODCourse/tfod/lib/python3.10/site-packages (from apache-beam->object-detection==0.1) (2.0.0)\n",
      "Requirement already satisfied: fastavro<2,>=0.23.6 in /home/simon/Simon/Hochschule/Innot/TFODCourse/tfod/lib/python3.10/site-packages (from apache-beam->object-detection==0.1) (1.4.10)\n",
      "Requirement already satisfied: grpcio<2,>=1.29.0 in /home/simon/Simon/Hochschule/Innot/TFODCourse/tfod/lib/python3.10/site-packages (from apache-beam->object-detection==0.1) (1.44.0)\n",
      "Requirement already satisfied: hdfs<3.0.0,>=2.1.0 in /home/simon/Simon/Hochschule/Innot/TFODCourse/tfod/lib/python3.10/site-packages (from apache-beam->object-detection==0.1) (2.7.0)\n",
      "Requirement already satisfied: httplib2<0.20.0,>=0.8 in /home/simon/Simon/Hochschule/Innot/TFODCourse/tfod/lib/python3.10/site-packages (from apache-beam->object-detection==0.1) (0.19.1)\n",
      "Requirement already satisfied: pymongo<4.0.0,>=3.8.0 in /home/simon/Simon/Hochschule/Innot/TFODCourse/tfod/lib/python3.10/site-packages (from apache-beam->object-detection==0.1) (3.12.3)\n",
      "Requirement already satisfied: protobuf<4,>=3.12.2 in /home/simon/Simon/Hochschule/Innot/TFODCourse/tfod/lib/python3.10/site-packages (from apache-beam->object-detection==0.1) (3.20.1)\n",
      "Requirement already satisfied: proto-plus<2,>=1.7.1 in /home/simon/Simon/Hochschule/Innot/TFODCourse/tfod/lib/python3.10/site-packages (from apache-beam->object-detection==0.1) (1.20.3)\n",
      "Requirement already satisfied: pyarrow<7.0.0,>=0.15.1 in /home/simon/Simon/Hochschule/Innot/TFODCourse/tfod/lib/python3.10/site-packages (from apache-beam->object-detection==0.1) (6.0.1)\n",
      "Requirement already satisfied: pydot<2,>=1.2.0 in /home/simon/Simon/Hochschule/Innot/TFODCourse/tfod/lib/python3.10/site-packages (from apache-beam->object-detection==0.1) (1.4.2)\n",
      "Requirement already satisfied: requests<3.0.0,>=2.24.0 in /home/simon/Simon/Hochschule/Innot/TFODCourse/tfod/lib/python3.10/site-packages (from apache-beam->object-detection==0.1) (2.27.1)\n",
      "Requirement already satisfied: typing-extensions>=3.7.0 in /home/simon/Simon/Hochschule/Innot/TFODCourse/tfod/lib/python3.10/site-packages (from apache-beam->object-detection==0.1) (4.2.0)\n",
      "Requirement already satisfied: pyparsing>=2.4.0 in /home/simon/Simon/Hochschule/Innot/TFODCourse/tfod/lib/python3.10/site-packages (from lvis->object-detection==0.1) (2.4.7)\n",
      "Requirement already satisfied: cycler>=0.10.0 in /home/simon/Simon/Hochschule/Innot/TFODCourse/tfod/lib/python3.10/site-packages (from lvis->object-detection==0.1) (0.11.0)\n",
      "Requirement already satisfied: kiwisolver>=1.1.0 in /home/simon/Simon/Hochschule/Innot/TFODCourse/tfod/lib/python3.10/site-packages (from lvis->object-detection==0.1) (1.4.2)\n",
      "Requirement already satisfied: opencv-python>=4.1.0.25 in /home/simon/Simon/Hochschule/Innot/TFODCourse/tfod/lib/python3.10/site-packages (from lvis->object-detection==0.1) (4.5.5.64)\n",
      "Requirement already satisfied: packaging>=20.0 in /home/simon/Simon/Hochschule/Innot/TFODCourse/tfod/lib/python3.10/site-packages (from matplotlib->object-detection==0.1) (21.3)\n",
      "Requirement already satisfied: fonttools>=4.22.0 in /home/simon/Simon/Hochschule/Innot/TFODCourse/tfod/lib/python3.10/site-packages (from matplotlib->object-detection==0.1) (4.33.3)\n"
     ]
    },
    {
     "name": "stdout",
     "output_type": "stream",
     "text": [
      "Requirement already satisfied: tensorflow-io-gcs-filesystem==0.25.0 in /home/simon/Simon/Hochschule/Innot/TFODCourse/tfod/lib/python3.10/site-packages (from tensorflow_io->object-detection==0.1) (0.25.0)\n",
      "Requirement already satisfied: uritemplate<5,>=3.0.1 in /home/simon/Simon/Hochschule/Innot/TFODCourse/tfod/lib/python3.10/site-packages (from google-api-python-client>=1.6.7->tf-models-official>=2.5.1->object-detection==0.1) (4.1.1)\n",
      "Requirement already satisfied: google-auth-httplib2>=0.1.0 in /home/simon/Simon/Hochschule/Innot/TFODCourse/tfod/lib/python3.10/site-packages (from google-api-python-client>=1.6.7->tf-models-official>=2.5.1->object-detection==0.1) (0.1.0)\n",
      "Requirement already satisfied: google-api-core!=2.0.*,!=2.1.*,!=2.2.*,!=2.3.0,<3.0.0dev,>=1.31.5 in /home/simon/Simon/Hochschule/Innot/TFODCourse/tfod/lib/python3.10/site-packages (from google-api-python-client>=1.6.7->tf-models-official>=2.5.1->object-detection==0.1) (2.7.2)\n",
      "Requirement already satisfied: google-auth<3.0.0dev,>=1.16.0 in /home/simon/Simon/Hochschule/Innot/TFODCourse/tfod/lib/python3.10/site-packages (from google-api-python-client>=1.6.7->tf-models-official>=2.5.1->object-detection==0.1) (2.6.6)\n",
      "Requirement already satisfied: docopt in /home/simon/Simon/Hochschule/Innot/TFODCourse/tfod/lib/python3.10/site-packages (from hdfs<3.0.0,>=2.1.0->apache-beam->object-detection==0.1) (0.6.2)\n",
      "Requirement already satisfied: certifi in /home/simon/Simon/Hochschule/Innot/TFODCourse/tfod/lib/python3.10/site-packages (from kaggle>=1.3.9->tf-models-official>=2.5.1->object-detection==0.1) (2021.10.8)\n",
      "Requirement already satisfied: tqdm in /home/simon/Simon/Hochschule/Innot/TFODCourse/tfod/lib/python3.10/site-packages (from kaggle>=1.3.9->tf-models-official>=2.5.1->object-detection==0.1) (4.64.0)\n",
      "Requirement already satisfied: python-slugify in /home/simon/Simon/Hochschule/Innot/TFODCourse/tfod/lib/python3.10/site-packages (from kaggle>=1.3.9->tf-models-official>=2.5.1->object-detection==0.1) (6.1.1)\n",
      "Requirement already satisfied: urllib3 in /home/simon/Simon/Hochschule/Innot/TFODCourse/tfod/lib/python3.10/site-packages (from kaggle>=1.3.9->tf-models-official>=2.5.1->object-detection==0.1) (1.26.9)\n",
      "Requirement already satisfied: pyasn1-modules>=0.0.5 in /home/simon/Simon/Hochschule/Innot/TFODCourse/tfod/lib/python3.10/site-packages (from oauth2client->tf-models-official>=2.5.1->object-detection==0.1) (0.2.8)\n",
      "Requirement already satisfied: pyasn1>=0.1.7 in /home/simon/Simon/Hochschule/Innot/TFODCourse/tfod/lib/python3.10/site-packages (from oauth2client->tf-models-official>=2.5.1->object-detection==0.1) (0.4.8)\n",
      "Requirement already satisfied: rsa>=3.1.4 in /home/simon/Simon/Hochschule/Innot/TFODCourse/tfod/lib/python3.10/site-packages (from oauth2client->tf-models-official>=2.5.1->object-detection==0.1) (4.8)\n",
      "Requirement already satisfied: charset-normalizer~=2.0.0 in /home/simon/Simon/Hochschule/Innot/TFODCourse/tfod/lib/python3.10/site-packages (from requests<3.0.0,>=2.24.0->apache-beam->object-detection==0.1) (2.0.12)\n",
      "Requirement already satisfied: idna<4,>=2.5 in /home/simon/Simon/Hochschule/Innot/TFODCourse/tfod/lib/python3.10/site-packages (from requests<3.0.0,>=2.24.0->apache-beam->object-detection==0.1) (3.3)\n",
      "Requirement already satisfied: tensorboard<2.9,>=2.8 in /home/simon/Simon/Hochschule/Innot/TFODCourse/tfod/lib/python3.10/site-packages (from tensorflow~=2.8.0->tf-models-official>=2.5.1->object-detection==0.1) (2.8.0)\n",
      "Requirement already satisfied: setuptools in /home/simon/Simon/Hochschule/Innot/TFODCourse/tfod/lib/python3.10/site-packages (from tensorflow~=2.8.0->tf-models-official>=2.5.1->object-detection==0.1) (58.1.0)\n",
      "Requirement already satisfied: flatbuffers>=1.12 in /home/simon/Simon/Hochschule/Innot/TFODCourse/tfod/lib/python3.10/site-packages (from tensorflow~=2.8.0->tf-models-official>=2.5.1->object-detection==0.1) (2.0)\n",
      "Requirement already satisfied: tf-estimator-nightly==2.8.0.dev2021122109 in /home/simon/Simon/Hochschule/Innot/TFODCourse/tfod/lib/python3.10/site-packages (from tensorflow~=2.8.0->tf-models-official>=2.5.1->object-detection==0.1) (2.8.0.dev2021122109)\n",
      "Requirement already satisfied: keras-preprocessing>=1.1.1 in /home/simon/Simon/Hochschule/Innot/TFODCourse/tfod/lib/python3.10/site-packages (from tensorflow~=2.8.0->tf-models-official>=2.5.1->object-detection==0.1) (1.1.2)\n",
      "Requirement already satisfied: h5py>=2.9.0 in /home/simon/Simon/Hochschule/Innot/TFODCourse/tfod/lib/python3.10/site-packages (from tensorflow~=2.8.0->tf-models-official>=2.5.1->object-detection==0.1) (3.6.0)\n",
      "Requirement already satisfied: google-pasta>=0.1.1 in /home/simon/Simon/Hochschule/Innot/TFODCourse/tfod/lib/python3.10/site-packages (from tensorflow~=2.8.0->tf-models-official>=2.5.1->object-detection==0.1) (0.2.0)\n",
      "Requirement already satisfied: opt-einsum>=2.3.2 in /home/simon/Simon/Hochschule/Innot/TFODCourse/tfod/lib/python3.10/site-packages (from tensorflow~=2.8.0->tf-models-official>=2.5.1->object-detection==0.1) (3.3.0)\n",
      "Requirement already satisfied: termcolor>=1.1.0 in /home/simon/Simon/Hochschule/Innot/TFODCourse/tfod/lib/python3.10/site-packages (from tensorflow~=2.8.0->tf-models-official>=2.5.1->object-detection==0.1) (1.1.0)\n",
      "Requirement already satisfied: wrapt>=1.11.0 in /home/simon/Simon/Hochschule/Innot/TFODCourse/tfod/lib/python3.10/site-packages (from tensorflow~=2.8.0->tf-models-official>=2.5.1->object-detection==0.1) (1.14.0)\n",
      "Requirement already satisfied: gast>=0.2.1 in /home/simon/Simon/Hochschule/Innot/TFODCourse/tfod/lib/python3.10/site-packages (from tensorflow~=2.8.0->tf-models-official>=2.5.1->object-detection==0.1) (0.5.3)\n",
      "Requirement already satisfied: libclang>=9.0.1 in /home/simon/Simon/Hochschule/Innot/TFODCourse/tfod/lib/python3.10/site-packages (from tensorflow~=2.8.0->tf-models-official>=2.5.1->object-detection==0.1) (14.0.1)\n",
      "Requirement already satisfied: astunparse>=1.6.0 in /home/simon/Simon/Hochschule/Innot/TFODCourse/tfod/lib/python3.10/site-packages (from tensorflow~=2.8.0->tf-models-official>=2.5.1->object-detection==0.1) (1.6.3)\n",
      "Requirement already satisfied: dm-tree~=0.1.1 in /home/simon/Simon/Hochschule/Innot/TFODCourse/tfod/lib/python3.10/site-packages (from tensorflow-model-optimization>=0.4.1->tf-models-official>=2.5.1->object-detection==0.1) (0.1.7)\n",
      "Requirement already satisfied: regex in /home/simon/Simon/Hochschule/Innot/TFODCourse/tfod/lib/python3.10/site-packages (from sacrebleu->tf-models-official>=2.5.1->object-detection==0.1) (2022.4.24)\n",
      "Requirement already satisfied: portalocker in /home/simon/Simon/Hochschule/Innot/TFODCourse/tfod/lib/python3.10/site-packages (from sacrebleu->tf-models-official>=2.5.1->object-detection==0.1) (2.4.0)\n",
      "Requirement already satisfied: tabulate>=0.8.9 in /home/simon/Simon/Hochschule/Innot/TFODCourse/tfod/lib/python3.10/site-packages (from sacrebleu->tf-models-official>=2.5.1->object-detection==0.1) (0.8.9)\n",
      "Requirement already satisfied: colorama in /home/simon/Simon/Hochschule/Innot/TFODCourse/tfod/lib/python3.10/site-packages (from sacrebleu->tf-models-official>=2.5.1->object-detection==0.1) (0.4.4)\n",
      "Requirement already satisfied: scikit-learn>=0.21.3 in /home/simon/Simon/Hochschule/Innot/TFODCourse/tfod/lib/python3.10/site-packages (from seqeval->tf-models-official>=2.5.1->object-detection==0.1) (1.0.2)\n",
      "Requirement already satisfied: typeguard>=2.7 in /home/simon/Simon/Hochschule/Innot/TFODCourse/tfod/lib/python3.10/site-packages (from tensorflow-addons->tf-models-official>=2.5.1->object-detection==0.1) (2.13.3)\n",
      "Requirement already satisfied: promise in /home/simon/Simon/Hochschule/Innot/TFODCourse/tfod/lib/python3.10/site-packages (from tensorflow-datasets->tf-models-official>=2.5.1->object-detection==0.1) (2.3)\n",
      "Requirement already satisfied: tensorflow-metadata in /home/simon/Simon/Hochschule/Innot/TFODCourse/tfod/lib/python3.10/site-packages (from tensorflow-datasets->tf-models-official>=2.5.1->object-detection==0.1) (1.7.0)\n",
      "Requirement already satisfied: wheel<1.0,>=0.23.0 in /home/simon/Simon/Hochschule/Innot/TFODCourse/tfod/lib/python3.10/site-packages (from astunparse>=1.6.0->tensorflow~=2.8.0->tf-models-official>=2.5.1->object-detection==0.1) (0.37.1)\n",
      "Requirement already satisfied: googleapis-common-protos<2.0dev,>=1.52.0 in /home/simon/Simon/Hochschule/Innot/TFODCourse/tfod/lib/python3.10/site-packages (from google-api-core!=2.0.*,!=2.1.*,!=2.2.*,!=2.3.0,<3.0.0dev,>=1.31.5->google-api-python-client>=1.6.7->tf-models-official>=2.5.1->object-detection==0.1) (1.56.0)\n",
      "Requirement already satisfied: cachetools<6.0,>=2.0.0 in /home/simon/Simon/Hochschule/Innot/TFODCourse/tfod/lib/python3.10/site-packages (from google-auth<3.0.0dev,>=1.16.0->google-api-python-client>=1.6.7->tf-models-official>=2.5.1->object-detection==0.1) (5.0.0)\n"
     ]
    },
    {
     "name": "stdout",
     "output_type": "stream",
     "text": [
      "Requirement already satisfied: joblib>=0.11 in /home/simon/Simon/Hochschule/Innot/TFODCourse/tfod/lib/python3.10/site-packages (from scikit-learn>=0.21.3->seqeval->tf-models-official>=2.5.1->object-detection==0.1) (1.1.0)\n",
      "Requirement already satisfied: threadpoolctl>=2.0.0 in /home/simon/Simon/Hochschule/Innot/TFODCourse/tfod/lib/python3.10/site-packages (from scikit-learn>=0.21.3->seqeval->tf-models-official>=2.5.1->object-detection==0.1) (3.1.0)\n",
      "Requirement already satisfied: markdown>=2.6.8 in /home/simon/Simon/Hochschule/Innot/TFODCourse/tfod/lib/python3.10/site-packages (from tensorboard<2.9,>=2.8->tensorflow~=2.8.0->tf-models-official>=2.5.1->object-detection==0.1) (3.3.6)\n",
      "Requirement already satisfied: werkzeug>=0.11.15 in /home/simon/Simon/Hochschule/Innot/TFODCourse/tfod/lib/python3.10/site-packages (from tensorboard<2.9,>=2.8->tensorflow~=2.8.0->tf-models-official>=2.5.1->object-detection==0.1) (2.1.1)\n",
      "Requirement already satisfied: tensorboard-plugin-wit>=1.6.0 in /home/simon/Simon/Hochschule/Innot/TFODCourse/tfod/lib/python3.10/site-packages (from tensorboard<2.9,>=2.8->tensorflow~=2.8.0->tf-models-official>=2.5.1->object-detection==0.1) (1.8.1)\n",
      "Requirement already satisfied: tensorboard-data-server<0.7.0,>=0.6.0 in /home/simon/Simon/Hochschule/Innot/TFODCourse/tfod/lib/python3.10/site-packages (from tensorboard<2.9,>=2.8->tensorflow~=2.8.0->tf-models-official>=2.5.1->object-detection==0.1) (0.6.1)\n",
      "Requirement already satisfied: google-auth-oauthlib<0.5,>=0.4.1 in /home/simon/Simon/Hochschule/Innot/TFODCourse/tfod/lib/python3.10/site-packages (from tensorboard<2.9,>=2.8->tensorflow~=2.8.0->tf-models-official>=2.5.1->object-detection==0.1) (0.4.6)\n",
      "Requirement already satisfied: text-unidecode>=1.3 in /home/simon/Simon/Hochschule/Innot/TFODCourse/tfod/lib/python3.10/site-packages (from python-slugify->kaggle>=1.3.9->tf-models-official>=2.5.1->object-detection==0.1) (1.3)\n",
      "Requirement already satisfied: requests-oauthlib>=0.7.0 in /home/simon/Simon/Hochschule/Innot/TFODCourse/tfod/lib/python3.10/site-packages (from google-auth-oauthlib<0.5,>=0.4.1->tensorboard<2.9,>=2.8->tensorflow~=2.8.0->tf-models-official>=2.5.1->object-detection==0.1) (1.3.1)\n",
      "Requirement already satisfied: oauthlib>=3.0.0 in /home/simon/Simon/Hochschule/Innot/TFODCourse/tfod/lib/python3.10/site-packages (from requests-oauthlib>=0.7.0->google-auth-oauthlib<0.5,>=0.4.1->tensorboard<2.9,>=2.8->tensorflow~=2.8.0->tf-models-official>=2.5.1->object-detection==0.1) (3.2.0)\n",
      "Building wheels for collected packages: object-detection\n",
      "  Building wheel for object-detection (setup.py) ... \u001b[?25ldone\n",
      "\u001b[?25h  Created wheel for object-detection: filename=object_detection-0.1-py3-none-any.whl size=1664640 sha256=c79253c61ac1368d7c34d028e7b34663e4dcaf1096880627f3b2c509de914e73\n",
      "  Stored in directory: /tmp/pip-ephem-wheel-cache-q0b89_s7/wheels/fe/99/de/7accc5914ac24b853caed310c7584852a452cbd099de73926c\n",
      "Successfully built object-detection\n",
      "Installing collected packages: object-detection\n",
      "  Attempting uninstall: object-detection\n",
      "    Found existing installation: object-detection 0.1\n",
      "    Uninstalling object-detection-0.1:\n",
      "      Successfully uninstalled object-detection-0.1\n",
      "Successfully installed object-detection-0.1\n"
     ]
    }
   ],
   "source": [
    "# Install Tensorflow Object Detection \n",
    "if os.name=='posix':  \n",
    "    !apt-get install protobuf-compiler\n",
    "    !cd Tensorflow/models/research && protoc object_detection/protos/*.proto --python_out=. && cp object_detection/packages/tf2/setup.py . && python -m pip install . \n",
    "    \n",
    "if os.name=='nt':\n",
    "    url=\"https://github.com/protocolbuffers/protobuf/releases/download/v3.15.6/protoc-3.15.6-win64.zip\"\n",
    "    wget.download(url)\n",
    "    !move protoc-3.15.6-win64.zip {paths['PROTOC_PATH']}\n",
    "    !cd {paths['PROTOC_PATH']} && tar -xf protoc-3.15.6-win64.zip\n",
    "    os.environ['PATH'] += os.pathsep + os.path.abspath(os.path.join(paths['PROTOC_PATH'], 'bin'))   \n",
    "    !cd Tensorflow/models/research && protoc object_detection/protos/*.proto --python_out=. && copy object_detection\\\\packages\\\\tf2\\\\setup.py setup.py && python setup.py build && python setup.py install\n",
    "    !cd Tensorflow/models/research/slim && pip install -e . "
   ]
  },
  {
   "cell_type": "code",
   "execution_count": 36,
   "metadata": {
    "scrolled": true
   },
   "outputs": [
    {
     "name": "stdout",
     "output_type": "stream",
     "text": [
      "2022-05-04 00:10:56.519519: W tensorflow/stream_executor/platform/default/dso_loader.cc:64] Could not load dynamic library 'libcudart.so.11.0'; dlerror: libcudart.so.11.0: cannot open shared object file: No such file or directory\n",
      "2022-05-04 00:10:56.519535: I tensorflow/stream_executor/cuda/cudart_stub.cc:29] Ignore above cudart dlerror if you do not have a GPU set up on your machine.\n",
      "2022-05-04 00:10:57.877971: I tensorflow/stream_executor/cuda/cuda_gpu_executor.cc:936] successful NUMA node read from SysFS had negative value (-1), but there must be at least one NUMA node, so returning NUMA node zero\n",
      "2022-05-04 00:10:57.878156: W tensorflow/stream_executor/platform/default/dso_loader.cc:64] Could not load dynamic library 'libcudart.so.11.0'; dlerror: libcudart.so.11.0: cannot open shared object file: No such file or directory\n",
      "2022-05-04 00:10:57.878182: W tensorflow/stream_executor/platform/default/dso_loader.cc:64] Could not load dynamic library 'libcublas.so.11'; dlerror: libcublas.so.11: cannot open shared object file: No such file or directory\n",
      "2022-05-04 00:10:57.878199: W tensorflow/stream_executor/platform/default/dso_loader.cc:64] Could not load dynamic library 'libcublasLt.so.11'; dlerror: libcublasLt.so.11: cannot open shared object file: No such file or directory\n",
      "2022-05-04 00:10:57.878217: W tensorflow/stream_executor/platform/default/dso_loader.cc:64] Could not load dynamic library 'libcufft.so.10'; dlerror: libcufft.so.10: cannot open shared object file: No such file or directory\n",
      "2022-05-04 00:10:57.878234: W tensorflow/stream_executor/platform/default/dso_loader.cc:64] Could not load dynamic library 'libcurand.so.10'; dlerror: libcurand.so.10: cannot open shared object file: No such file or directory\n",
      "2022-05-04 00:10:57.878252: W tensorflow/stream_executor/platform/default/dso_loader.cc:64] Could not load dynamic library 'libcusolver.so.11'; dlerror: libcusolver.so.11: cannot open shared object file: No such file or directory\n",
      "2022-05-04 00:10:57.878268: W tensorflow/stream_executor/platform/default/dso_loader.cc:64] Could not load dynamic library 'libcusparse.so.11'; dlerror: libcusparse.so.11: cannot open shared object file: No such file or directory\n",
      "2022-05-04 00:10:57.878285: W tensorflow/stream_executor/platform/default/dso_loader.cc:64] Could not load dynamic library 'libcudnn.so.8'; dlerror: libcudnn.so.8: cannot open shared object file: No such file or directory\n",
      "2022-05-04 00:10:57.878290: W tensorflow/core/common_runtime/gpu/gpu_device.cc:1850] Cannot dlopen some GPU libraries. Please make sure the missing libraries mentioned above are installed properly if you would like to use GPU. Follow the guide at https://www.tensorflow.org/install/gpu for how to download and setup the required libraries for your platform.\n",
      "Skipping registering GPU devices...\n",
      "Running tests under Python 3.10.4: /home/simon/Simon/Hochschule/Innot/TFODCourse/tfod/bin/python\n",
      "[ RUN      ] ModelBuilderTF2Test.test_create_center_net_deepmac\n",
      "2022-05-04 00:10:57.882858: I tensorflow/core/platform/cpu_feature_guard.cc:151] This TensorFlow binary is optimized with oneAPI Deep Neural Network Library (oneDNN) to use the following CPU instructions in performance-critical operations:  AVX2 FMA\n",
      "To enable them in other operations, rebuild TensorFlow with the appropriate compiler flags.\n",
      "/home/simon/Simon/Hochschule/Innot/TFODCourse/tfod/lib/python3.10/site-packages/object_detection/builders/model_builder.py:1100: DeprecationWarning: The 'warn' function is deprecated, use 'warning' instead\n",
      "  logging.warn(('Building experimental DeepMAC meta-arch.'\n",
      "W0504 00:10:58.034728 140246354925376 model_builder.py:1100] Building experimental DeepMAC meta-arch. Some features may be omitted.\n",
      "INFO:tensorflow:time(__main__.ModelBuilderTF2Test.test_create_center_net_deepmac): 0.25s\n",
      "I0504 00:10:58.129707 140246354925376 test_util.py:2373] time(__main__.ModelBuilderTF2Test.test_create_center_net_deepmac): 0.25s\n",
      "[       OK ] ModelBuilderTF2Test.test_create_center_net_deepmac\n",
      "[ RUN      ] ModelBuilderTF2Test.test_create_center_net_model0 (customize_head_params=True)\n",
      "INFO:tensorflow:time(__main__.ModelBuilderTF2Test.test_create_center_net_model0 (customize_head_params=True)): 0.22s\n",
      "I0504 00:10:58.348885 140246354925376 test_util.py:2373] time(__main__.ModelBuilderTF2Test.test_create_center_net_model0 (customize_head_params=True)): 0.22s\n",
      "[       OK ] ModelBuilderTF2Test.test_create_center_net_model0 (customize_head_params=True)\n",
      "[ RUN      ] ModelBuilderTF2Test.test_create_center_net_model1 (customize_head_params=False)\n",
      "INFO:tensorflow:time(__main__.ModelBuilderTF2Test.test_create_center_net_model1 (customize_head_params=False)): 0.1s\n",
      "I0504 00:10:58.446683 140246354925376 test_util.py:2373] time(__main__.ModelBuilderTF2Test.test_create_center_net_model1 (customize_head_params=False)): 0.1s\n",
      "[       OK ] ModelBuilderTF2Test.test_create_center_net_model1 (customize_head_params=False)\n",
      "[ RUN      ] ModelBuilderTF2Test.test_create_center_net_model_from_keypoints\n",
      "INFO:tensorflow:time(__main__.ModelBuilderTF2Test.test_create_center_net_model_from_keypoints): 0.09s\n",
      "I0504 00:10:58.536911 140246354925376 test_util.py:2373] time(__main__.ModelBuilderTF2Test.test_create_center_net_model_from_keypoints): 0.09s\n",
      "[       OK ] ModelBuilderTF2Test.test_create_center_net_model_from_keypoints\n",
      "[ RUN      ] ModelBuilderTF2Test.test_create_center_net_model_mobilenet\n",
      "INFO:tensorflow:time(__main__.ModelBuilderTF2Test.test_create_center_net_model_mobilenet): 0.69s\n",
      "I0504 00:10:59.228513 140246354925376 test_util.py:2373] time(__main__.ModelBuilderTF2Test.test_create_center_net_model_mobilenet): 0.69s\n",
      "[       OK ] ModelBuilderTF2Test.test_create_center_net_model_mobilenet\n",
      "[ RUN      ] ModelBuilderTF2Test.test_create_experimental_model\n",
      "INFO:tensorflow:time(__main__.ModelBuilderTF2Test.test_create_experimental_model): 0.0s\n",
      "I0504 00:10:59.229022 140246354925376 test_util.py:2373] time(__main__.ModelBuilderTF2Test.test_create_experimental_model): 0.0s\n",
      "[       OK ] ModelBuilderTF2Test.test_create_experimental_model\n",
      "[ RUN      ] ModelBuilderTF2Test.test_create_faster_rcnn_from_config_with_crop_feature0 (True)\n",
      "INFO:tensorflow:time(__main__.ModelBuilderTF2Test.test_create_faster_rcnn_from_config_with_crop_feature0 (True)): 0.01s\n",
      "I0504 00:10:59.238175 140246354925376 test_util.py:2373] time(__main__.ModelBuilderTF2Test.test_create_faster_rcnn_from_config_with_crop_feature0 (True)): 0.01s\n",
      "[       OK ] ModelBuilderTF2Test.test_create_faster_rcnn_from_config_with_crop_feature0 (True)\n",
      "[ RUN      ] ModelBuilderTF2Test.test_create_faster_rcnn_from_config_with_crop_feature1 (False)\n",
      "INFO:tensorflow:time(__main__.ModelBuilderTF2Test.test_create_faster_rcnn_from_config_with_crop_feature1 (False)): 0.01s\n",
      "I0504 00:10:59.243657 140246354925376 test_util.py:2373] time(__main__.ModelBuilderTF2Test.test_create_faster_rcnn_from_config_with_crop_feature1 (False)): 0.01s\n",
      "[       OK ] ModelBuilderTF2Test.test_create_faster_rcnn_from_config_with_crop_feature1 (False)\n",
      "[ RUN      ] ModelBuilderTF2Test.test_create_faster_rcnn_model_from_config_with_example_miner\n",
      "INFO:tensorflow:time(__main__.ModelBuilderTF2Test.test_create_faster_rcnn_model_from_config_with_example_miner): 0.01s\n",
      "I0504 00:10:59.249995 140246354925376 test_util.py:2373] time(__main__.ModelBuilderTF2Test.test_create_faster_rcnn_model_from_config_with_example_miner): 0.01s\n",
      "[       OK ] ModelBuilderTF2Test.test_create_faster_rcnn_model_from_config_with_example_miner\n",
      "[ RUN      ] ModelBuilderTF2Test.test_create_faster_rcnn_models_from_config_faster_rcnn_with_matmul\n",
      "INFO:tensorflow:time(__main__.ModelBuilderTF2Test.test_create_faster_rcnn_models_from_config_faster_rcnn_with_matmul): 0.04s\n",
      "I0504 00:10:59.287772 140246354925376 test_util.py:2373] time(__main__.ModelBuilderTF2Test.test_create_faster_rcnn_models_from_config_faster_rcnn_with_matmul): 0.04s\n",
      "[       OK ] ModelBuilderTF2Test.test_create_faster_rcnn_models_from_config_faster_rcnn_with_matmul\n",
      "[ RUN      ] ModelBuilderTF2Test.test_create_faster_rcnn_models_from_config_faster_rcnn_without_matmul\n",
      "INFO:tensorflow:time(__main__.ModelBuilderTF2Test.test_create_faster_rcnn_models_from_config_faster_rcnn_without_matmul): 0.04s\n",
      "I0504 00:10:59.323380 140246354925376 test_util.py:2373] time(__main__.ModelBuilderTF2Test.test_create_faster_rcnn_models_from_config_faster_rcnn_without_matmul): 0.04s\n",
      "[       OK ] ModelBuilderTF2Test.test_create_faster_rcnn_models_from_config_faster_rcnn_without_matmul\n",
      "[ RUN      ] ModelBuilderTF2Test.test_create_faster_rcnn_models_from_config_mask_rcnn_with_matmul\n"
     ]
    },
    {
     "name": "stdout",
     "output_type": "stream",
     "text": [
      "INFO:tensorflow:time(__main__.ModelBuilderTF2Test.test_create_faster_rcnn_models_from_config_mask_rcnn_with_matmul): 0.04s\n",
      "I0504 00:10:59.362385 140246354925376 test_util.py:2373] time(__main__.ModelBuilderTF2Test.test_create_faster_rcnn_models_from_config_mask_rcnn_with_matmul): 0.04s\n",
      "[       OK ] ModelBuilderTF2Test.test_create_faster_rcnn_models_from_config_mask_rcnn_with_matmul\n",
      "[ RUN      ] ModelBuilderTF2Test.test_create_faster_rcnn_models_from_config_mask_rcnn_without_matmul\n",
      "INFO:tensorflow:time(__main__.ModelBuilderTF2Test.test_create_faster_rcnn_models_from_config_mask_rcnn_without_matmul): 0.04s\n",
      "I0504 00:10:59.399160 140246354925376 test_util.py:2373] time(__main__.ModelBuilderTF2Test.test_create_faster_rcnn_models_from_config_mask_rcnn_without_matmul): 0.04s\n",
      "[       OK ] ModelBuilderTF2Test.test_create_faster_rcnn_models_from_config_mask_rcnn_without_matmul\n",
      "[ RUN      ] ModelBuilderTF2Test.test_create_rfcn_model_from_config\n",
      "INFO:tensorflow:time(__main__.ModelBuilderTF2Test.test_create_rfcn_model_from_config): 0.03s\n",
      "I0504 00:10:59.433824 140246354925376 test_util.py:2373] time(__main__.ModelBuilderTF2Test.test_create_rfcn_model_from_config): 0.03s\n",
      "[       OK ] ModelBuilderTF2Test.test_create_rfcn_model_from_config\n",
      "[ RUN      ] ModelBuilderTF2Test.test_create_ssd_fpn_model_from_config\n",
      "INFO:tensorflow:time(__main__.ModelBuilderTF2Test.test_create_ssd_fpn_model_from_config): 0.01s\n",
      "I0504 00:10:59.444655 140246354925376 test_util.py:2373] time(__main__.ModelBuilderTF2Test.test_create_ssd_fpn_model_from_config): 0.01s\n",
      "[       OK ] ModelBuilderTF2Test.test_create_ssd_fpn_model_from_config\n",
      "[ RUN      ] ModelBuilderTF2Test.test_create_ssd_models_from_config\n",
      "I0504 00:10:59.511224 140246354925376 ssd_efficientnet_bifpn_feature_extractor.py:145] EfficientDet EfficientNet backbone version: efficientnet-b0\n",
      "I0504 00:10:59.511298 140246354925376 ssd_efficientnet_bifpn_feature_extractor.py:147] EfficientDet BiFPN num filters: 64\n",
      "I0504 00:10:59.511349 140246354925376 ssd_efficientnet_bifpn_feature_extractor.py:148] EfficientDet BiFPN num iterations: 3\n",
      "I0504 00:10:59.512422 140246354925376 efficientnet_model.py:144] round_filter input=32 output=32\n",
      "I0504 00:10:59.518898 140246354925376 efficientnet_model.py:144] round_filter input=32 output=32\n",
      "I0504 00:10:59.518955 140246354925376 efficientnet_model.py:144] round_filter input=16 output=16\n",
      "I0504 00:10:59.540249 140246354925376 efficientnet_model.py:144] round_filter input=16 output=16\n",
      "I0504 00:10:59.540315 140246354925376 efficientnet_model.py:144] round_filter input=24 output=24\n",
      "I0504 00:10:59.665662 140246354925376 efficientnet_model.py:144] round_filter input=24 output=24\n",
      "I0504 00:10:59.665757 140246354925376 efficientnet_model.py:144] round_filter input=40 output=40\n",
      "I0504 00:10:59.721315 140246354925376 efficientnet_model.py:144] round_filter input=40 output=40\n",
      "I0504 00:10:59.721387 140246354925376 efficientnet_model.py:144] round_filter input=80 output=80\n",
      "I0504 00:10:59.806523 140246354925376 efficientnet_model.py:144] round_filter input=80 output=80\n",
      "I0504 00:10:59.806602 140246354925376 efficientnet_model.py:144] round_filter input=112 output=112\n",
      "I0504 00:10:59.893782 140246354925376 efficientnet_model.py:144] round_filter input=112 output=112\n",
      "I0504 00:10:59.893853 140246354925376 efficientnet_model.py:144] round_filter input=192 output=192\n",
      "I0504 00:11:00.013725 140246354925376 efficientnet_model.py:144] round_filter input=192 output=192\n",
      "I0504 00:11:00.013796 140246354925376 efficientnet_model.py:144] round_filter input=320 output=320\n",
      "I0504 00:11:00.043165 140246354925376 efficientnet_model.py:144] round_filter input=1280 output=1280\n",
      "I0504 00:11:00.057064 140246354925376 efficientnet_model.py:454] Building model efficientnet with params ModelConfig(width_coefficient=1.0, depth_coefficient=1.0, resolution=224, dropout_rate=0.2, blocks=(BlockConfig(input_filters=32, output_filters=16, kernel_size=3, num_repeat=1, expand_ratio=1, strides=(1, 1), se_ratio=0.25, id_skip=True, fused_conv=False, conv_type='depthwise'), BlockConfig(input_filters=16, output_filters=24, kernel_size=3, num_repeat=2, expand_ratio=6, strides=(2, 2), se_ratio=0.25, id_skip=True, fused_conv=False, conv_type='depthwise'), BlockConfig(input_filters=24, output_filters=40, kernel_size=5, num_repeat=2, expand_ratio=6, strides=(2, 2), se_ratio=0.25, id_skip=True, fused_conv=False, conv_type='depthwise'), BlockConfig(input_filters=40, output_filters=80, kernel_size=3, num_repeat=3, expand_ratio=6, strides=(2, 2), se_ratio=0.25, id_skip=True, fused_conv=False, conv_type='depthwise'), BlockConfig(input_filters=80, output_filters=112, kernel_size=5, num_repeat=3, expand_ratio=6, strides=(1, 1), se_ratio=0.25, id_skip=True, fused_conv=False, conv_type='depthwise'), BlockConfig(input_filters=112, output_filters=192, kernel_size=5, num_repeat=4, expand_ratio=6, strides=(2, 2), se_ratio=0.25, id_skip=True, fused_conv=False, conv_type='depthwise'), BlockConfig(input_filters=192, output_filters=320, kernel_size=3, num_repeat=1, expand_ratio=6, strides=(1, 1), se_ratio=0.25, id_skip=True, fused_conv=False, conv_type='depthwise')), stem_base_filters=32, top_base_filters=1280, activation='simple_swish', batch_norm='default', bn_momentum=0.99, bn_epsilon=0.001, weight_decay=5e-06, drop_connect_rate=0.2, depth_divisor=8, min_depth=None, use_se=True, input_channels=3, num_classes=1000, model_name='efficientnet', rescale_input=False, data_format='channels_last', dtype='float32')\n",
      "I0504 00:11:00.077927 140246354925376 ssd_efficientnet_bifpn_feature_extractor.py:145] EfficientDet EfficientNet backbone version: efficientnet-b1\n",
      "I0504 00:11:00.078000 140246354925376 ssd_efficientnet_bifpn_feature_extractor.py:147] EfficientDet BiFPN num filters: 88\n",
      "I0504 00:11:00.078024 140246354925376 ssd_efficientnet_bifpn_feature_extractor.py:148] EfficientDet BiFPN num iterations: 4\n",
      "I0504 00:11:00.078681 140246354925376 efficientnet_model.py:144] round_filter input=32 output=32\n",
      "I0504 00:11:00.084624 140246354925376 efficientnet_model.py:144] round_filter input=32 output=32\n",
      "I0504 00:11:00.084677 140246354925376 efficientnet_model.py:144] round_filter input=16 output=16\n",
      "I0504 00:11:00.129604 140246354925376 efficientnet_model.py:144] round_filter input=16 output=16\n",
      "I0504 00:11:00.129673 140246354925376 efficientnet_model.py:144] round_filter input=24 output=24\n",
      "I0504 00:11:00.210821 140246354925376 efficientnet_model.py:144] round_filter input=24 output=24\n",
      "I0504 00:11:00.210887 140246354925376 efficientnet_model.py:144] round_filter input=40 output=40\n",
      "I0504 00:11:00.294853 140246354925376 efficientnet_model.py:144] round_filter input=40 output=40\n",
      "I0504 00:11:00.294921 140246354925376 efficientnet_model.py:144] round_filter input=80 output=80\n",
      "I0504 00:11:00.407785 140246354925376 efficientnet_model.py:144] round_filter input=80 output=80\n",
      "I0504 00:11:00.407854 140246354925376 efficientnet_model.py:144] round_filter input=112 output=112\n",
      "I0504 00:11:00.525771 140246354925376 efficientnet_model.py:144] round_filter input=112 output=112\n",
      "I0504 00:11:00.525843 140246354925376 efficientnet_model.py:144] round_filter input=192 output=192\n",
      "I0504 00:11:00.677410 140246354925376 efficientnet_model.py:144] round_filter input=192 output=192\n",
      "I0504 00:11:00.677483 140246354925376 efficientnet_model.py:144] round_filter input=320 output=320\n",
      "I0504 00:11:00.745842 140246354925376 efficientnet_model.py:144] round_filter input=1280 output=1280\n",
      "I0504 00:11:00.760293 140246354925376 efficientnet_model.py:454] Building model efficientnet with params ModelConfig(width_coefficient=1.0, depth_coefficient=1.1, resolution=240, dropout_rate=0.2, blocks=(BlockConfig(input_filters=32, output_filters=16, kernel_size=3, num_repeat=1, expand_ratio=1, strides=(1, 1), se_ratio=0.25, id_skip=True, fused_conv=False, conv_type='depthwise'), BlockConfig(input_filters=16, output_filters=24, kernel_size=3, num_repeat=2, expand_ratio=6, strides=(2, 2), se_ratio=0.25, id_skip=True, fused_conv=False, conv_type='depthwise'), BlockConfig(input_filters=24, output_filters=40, kernel_size=5, num_repeat=2, expand_ratio=6, strides=(2, 2), se_ratio=0.25, id_skip=True, fused_conv=False, conv_type='depthwise'), BlockConfig(input_filters=40, output_filters=80, kernel_size=3, num_repeat=3, expand_ratio=6, strides=(2, 2), se_ratio=0.25, id_skip=True, fused_conv=False, conv_type='depthwise'), BlockConfig(input_filters=80, output_filters=112, kernel_size=5, num_repeat=3, expand_ratio=6, strides=(1, 1), se_ratio=0.25, id_skip=True, fused_conv=False, conv_type='depthwise'), BlockConfig(input_filters=112, output_filters=192, kernel_size=5, num_repeat=4, expand_ratio=6, strides=(2, 2), se_ratio=0.25, id_skip=True, fused_conv=False, conv_type='depthwise'), BlockConfig(input_filters=192, output_filters=320, kernel_size=3, num_repeat=1, expand_ratio=6, strides=(1, 1), se_ratio=0.25, id_skip=True, fused_conv=False, conv_type='depthwise')), stem_base_filters=32, top_base_filters=1280, activation='simple_swish', batch_norm='default', bn_momentum=0.99, bn_epsilon=0.001, weight_decay=5e-06, drop_connect_rate=0.2, depth_divisor=8, min_depth=None, use_se=True, input_channels=3, num_classes=1000, model_name='efficientnet', rescale_input=False, data_format='channels_last', dtype='float32')\n",
      "I0504 00:11:00.784590 140246354925376 ssd_efficientnet_bifpn_feature_extractor.py:145] EfficientDet EfficientNet backbone version: efficientnet-b2\n",
      "I0504 00:11:00.784663 140246354925376 ssd_efficientnet_bifpn_feature_extractor.py:147] EfficientDet BiFPN num filters: 112\n",
      "I0504 00:11:00.784686 140246354925376 ssd_efficientnet_bifpn_feature_extractor.py:148] EfficientDet BiFPN num iterations: 5\n",
      "I0504 00:11:00.785392 140246354925376 efficientnet_model.py:144] round_filter input=32 output=32\n"
     ]
    },
    {
     "name": "stdout",
     "output_type": "stream",
     "text": [
      "I0504 00:11:00.791207 140246354925376 efficientnet_model.py:144] round_filter input=32 output=32\n",
      "I0504 00:11:00.791264 140246354925376 efficientnet_model.py:144] round_filter input=16 output=16\n",
      "I0504 00:11:00.835570 140246354925376 efficientnet_model.py:144] round_filter input=16 output=16\n",
      "I0504 00:11:00.835640 140246354925376 efficientnet_model.py:144] round_filter input=24 output=24\n",
      "I0504 00:11:00.920077 140246354925376 efficientnet_model.py:144] round_filter input=24 output=24\n",
      "I0504 00:11:00.920152 140246354925376 efficientnet_model.py:144] round_filter input=40 output=48\n",
      "I0504 00:11:01.008179 140246354925376 efficientnet_model.py:144] round_filter input=40 output=48\n",
      "I0504 00:11:01.008254 140246354925376 efficientnet_model.py:144] round_filter input=80 output=88\n",
      "I0504 00:11:01.206413 140246354925376 efficientnet_model.py:144] round_filter input=80 output=88\n",
      "I0504 00:11:01.206484 140246354925376 efficientnet_model.py:144] round_filter input=112 output=120\n",
      "I0504 00:11:01.327767 140246354925376 efficientnet_model.py:144] round_filter input=112 output=120\n",
      "I0504 00:11:01.327840 140246354925376 efficientnet_model.py:144] round_filter input=192 output=208\n",
      "I0504 00:11:01.479871 140246354925376 efficientnet_model.py:144] round_filter input=192 output=208\n",
      "I0504 00:11:01.479944 140246354925376 efficientnet_model.py:144] round_filter input=320 output=352\n",
      "I0504 00:11:01.560324 140246354925376 efficientnet_model.py:144] round_filter input=1280 output=1408\n",
      "I0504 00:11:01.573591 140246354925376 efficientnet_model.py:454] Building model efficientnet with params ModelConfig(width_coefficient=1.1, depth_coefficient=1.2, resolution=260, dropout_rate=0.3, blocks=(BlockConfig(input_filters=32, output_filters=16, kernel_size=3, num_repeat=1, expand_ratio=1, strides=(1, 1), se_ratio=0.25, id_skip=True, fused_conv=False, conv_type='depthwise'), BlockConfig(input_filters=16, output_filters=24, kernel_size=3, num_repeat=2, expand_ratio=6, strides=(2, 2), se_ratio=0.25, id_skip=True, fused_conv=False, conv_type='depthwise'), BlockConfig(input_filters=24, output_filters=40, kernel_size=5, num_repeat=2, expand_ratio=6, strides=(2, 2), se_ratio=0.25, id_skip=True, fused_conv=False, conv_type='depthwise'), BlockConfig(input_filters=40, output_filters=80, kernel_size=3, num_repeat=3, expand_ratio=6, strides=(2, 2), se_ratio=0.25, id_skip=True, fused_conv=False, conv_type='depthwise'), BlockConfig(input_filters=80, output_filters=112, kernel_size=5, num_repeat=3, expand_ratio=6, strides=(1, 1), se_ratio=0.25, id_skip=True, fused_conv=False, conv_type='depthwise'), BlockConfig(input_filters=112, output_filters=192, kernel_size=5, num_repeat=4, expand_ratio=6, strides=(2, 2), se_ratio=0.25, id_skip=True, fused_conv=False, conv_type='depthwise'), BlockConfig(input_filters=192, output_filters=320, kernel_size=3, num_repeat=1, expand_ratio=6, strides=(1, 1), se_ratio=0.25, id_skip=True, fused_conv=False, conv_type='depthwise')), stem_base_filters=32, top_base_filters=1280, activation='simple_swish', batch_norm='default', bn_momentum=0.99, bn_epsilon=0.001, weight_decay=5e-06, drop_connect_rate=0.2, depth_divisor=8, min_depth=None, use_se=True, input_channels=3, num_classes=1000, model_name='efficientnet', rescale_input=False, data_format='channels_last', dtype='float32')\n",
      "I0504 00:11:01.599242 140246354925376 ssd_efficientnet_bifpn_feature_extractor.py:145] EfficientDet EfficientNet backbone version: efficientnet-b3\n",
      "I0504 00:11:01.599320 140246354925376 ssd_efficientnet_bifpn_feature_extractor.py:147] EfficientDet BiFPN num filters: 160\n",
      "I0504 00:11:01.599354 140246354925376 ssd_efficientnet_bifpn_feature_extractor.py:148] EfficientDet BiFPN num iterations: 6\n",
      "I0504 00:11:01.600082 140246354925376 efficientnet_model.py:144] round_filter input=32 output=40\n",
      "I0504 00:11:01.606454 140246354925376 efficientnet_model.py:144] round_filter input=32 output=40\n",
      "I0504 00:11:01.606520 140246354925376 efficientnet_model.py:144] round_filter input=16 output=24\n",
      "I0504 00:11:01.654379 140246354925376 efficientnet_model.py:144] round_filter input=16 output=24\n",
      "I0504 00:11:01.654454 140246354925376 efficientnet_model.py:144] round_filter input=24 output=32\n",
      "I0504 00:11:01.742975 140246354925376 efficientnet_model.py:144] round_filter input=24 output=32\n",
      "I0504 00:11:01.743049 140246354925376 efficientnet_model.py:144] round_filter input=40 output=48\n",
      "I0504 00:11:01.831704 140246354925376 efficientnet_model.py:144] round_filter input=40 output=48\n",
      "I0504 00:11:01.831781 140246354925376 efficientnet_model.py:144] round_filter input=80 output=96\n",
      "I0504 00:11:01.977637 140246354925376 efficientnet_model.py:144] round_filter input=80 output=96\n",
      "I0504 00:11:01.977710 140246354925376 efficientnet_model.py:144] round_filter input=112 output=136\n",
      "I0504 00:11:02.141838 140246354925376 efficientnet_model.py:144] round_filter input=112 output=136\n",
      "I0504 00:11:02.141915 140246354925376 efficientnet_model.py:144] round_filter input=192 output=232\n",
      "I0504 00:11:02.336289 140246354925376 efficientnet_model.py:144] round_filter input=192 output=232\n",
      "I0504 00:11:02.336368 140246354925376 efficientnet_model.py:144] round_filter input=320 output=384\n",
      "I0504 00:11:02.401134 140246354925376 efficientnet_model.py:144] round_filter input=1280 output=1536\n",
      "I0504 00:11:02.414554 140246354925376 efficientnet_model.py:454] Building model efficientnet with params ModelConfig(width_coefficient=1.2, depth_coefficient=1.4, resolution=300, dropout_rate=0.3, blocks=(BlockConfig(input_filters=32, output_filters=16, kernel_size=3, num_repeat=1, expand_ratio=1, strides=(1, 1), se_ratio=0.25, id_skip=True, fused_conv=False, conv_type='depthwise'), BlockConfig(input_filters=16, output_filters=24, kernel_size=3, num_repeat=2, expand_ratio=6, strides=(2, 2), se_ratio=0.25, id_skip=True, fused_conv=False, conv_type='depthwise'), BlockConfig(input_filters=24, output_filters=40, kernel_size=5, num_repeat=2, expand_ratio=6, strides=(2, 2), se_ratio=0.25, id_skip=True, fused_conv=False, conv_type='depthwise'), BlockConfig(input_filters=40, output_filters=80, kernel_size=3, num_repeat=3, expand_ratio=6, strides=(2, 2), se_ratio=0.25, id_skip=True, fused_conv=False, conv_type='depthwise'), BlockConfig(input_filters=80, output_filters=112, kernel_size=5, num_repeat=3, expand_ratio=6, strides=(1, 1), se_ratio=0.25, id_skip=True, fused_conv=False, conv_type='depthwise'), BlockConfig(input_filters=112, output_filters=192, kernel_size=5, num_repeat=4, expand_ratio=6, strides=(2, 2), se_ratio=0.25, id_skip=True, fused_conv=False, conv_type='depthwise'), BlockConfig(input_filters=192, output_filters=320, kernel_size=3, num_repeat=1, expand_ratio=6, strides=(1, 1), se_ratio=0.25, id_skip=True, fused_conv=False, conv_type='depthwise')), stem_base_filters=32, top_base_filters=1280, activation='simple_swish', batch_norm='default', bn_momentum=0.99, bn_epsilon=0.001, weight_decay=5e-06, drop_connect_rate=0.2, depth_divisor=8, min_depth=None, use_se=True, input_channels=3, num_classes=1000, model_name='efficientnet', rescale_input=False, data_format='channels_last', dtype='float32')\n",
      "I0504 00:11:02.442899 140246354925376 ssd_efficientnet_bifpn_feature_extractor.py:145] EfficientDet EfficientNet backbone version: efficientnet-b4\n",
      "I0504 00:11:02.442977 140246354925376 ssd_efficientnet_bifpn_feature_extractor.py:147] EfficientDet BiFPN num filters: 224\n",
      "I0504 00:11:02.443002 140246354925376 ssd_efficientnet_bifpn_feature_extractor.py:148] EfficientDet BiFPN num iterations: 7\n",
      "I0504 00:11:02.443674 140246354925376 efficientnet_model.py:144] round_filter input=32 output=48\n",
      "I0504 00:11:02.449622 140246354925376 efficientnet_model.py:144] round_filter input=32 output=48\n",
      "I0504 00:11:02.449674 140246354925376 efficientnet_model.py:144] round_filter input=16 output=24\n",
      "I0504 00:11:02.496178 140246354925376 efficientnet_model.py:144] round_filter input=16 output=24\n",
      "I0504 00:11:02.496277 140246354925376 efficientnet_model.py:144] round_filter input=24 output=32\n",
      "I0504 00:11:02.609879 140246354925376 efficientnet_model.py:144] round_filter input=24 output=32\n",
      "I0504 00:11:02.609948 140246354925376 efficientnet_model.py:144] round_filter input=40 output=56\n",
      "I0504 00:11:02.728013 140246354925376 efficientnet_model.py:144] round_filter input=40 output=56\n",
      "I0504 00:11:02.728087 140246354925376 efficientnet_model.py:144] round_filter input=80 output=112\n"
     ]
    },
    {
     "name": "stdout",
     "output_type": "stream",
     "text": [
      "I0504 00:11:02.902462 140246354925376 efficientnet_model.py:144] round_filter input=80 output=112\n",
      "I0504 00:11:02.902556 140246354925376 efficientnet_model.py:144] round_filter input=112 output=160\n",
      "I0504 00:11:03.195093 140246354925376 efficientnet_model.py:144] round_filter input=112 output=160\n",
      "I0504 00:11:03.195166 140246354925376 efficientnet_model.py:144] round_filter input=192 output=272\n",
      "I0504 00:11:03.481552 140246354925376 efficientnet_model.py:144] round_filter input=192 output=272\n",
      "I0504 00:11:03.481628 140246354925376 efficientnet_model.py:144] round_filter input=320 output=448\n",
      "I0504 00:11:03.554146 140246354925376 efficientnet_model.py:144] round_filter input=1280 output=1792\n",
      "I0504 00:11:03.569806 140246354925376 efficientnet_model.py:454] Building model efficientnet with params ModelConfig(width_coefficient=1.4, depth_coefficient=1.8, resolution=380, dropout_rate=0.4, blocks=(BlockConfig(input_filters=32, output_filters=16, kernel_size=3, num_repeat=1, expand_ratio=1, strides=(1, 1), se_ratio=0.25, id_skip=True, fused_conv=False, conv_type='depthwise'), BlockConfig(input_filters=16, output_filters=24, kernel_size=3, num_repeat=2, expand_ratio=6, strides=(2, 2), se_ratio=0.25, id_skip=True, fused_conv=False, conv_type='depthwise'), BlockConfig(input_filters=24, output_filters=40, kernel_size=5, num_repeat=2, expand_ratio=6, strides=(2, 2), se_ratio=0.25, id_skip=True, fused_conv=False, conv_type='depthwise'), BlockConfig(input_filters=40, output_filters=80, kernel_size=3, num_repeat=3, expand_ratio=6, strides=(2, 2), se_ratio=0.25, id_skip=True, fused_conv=False, conv_type='depthwise'), BlockConfig(input_filters=80, output_filters=112, kernel_size=5, num_repeat=3, expand_ratio=6, strides=(1, 1), se_ratio=0.25, id_skip=True, fused_conv=False, conv_type='depthwise'), BlockConfig(input_filters=112, output_filters=192, kernel_size=5, num_repeat=4, expand_ratio=6, strides=(2, 2), se_ratio=0.25, id_skip=True, fused_conv=False, conv_type='depthwise'), BlockConfig(input_filters=192, output_filters=320, kernel_size=3, num_repeat=1, expand_ratio=6, strides=(1, 1), se_ratio=0.25, id_skip=True, fused_conv=False, conv_type='depthwise')), stem_base_filters=32, top_base_filters=1280, activation='simple_swish', batch_norm='default', bn_momentum=0.99, bn_epsilon=0.001, weight_decay=5e-06, drop_connect_rate=0.2, depth_divisor=8, min_depth=None, use_se=True, input_channels=3, num_classes=1000, model_name='efficientnet', rescale_input=False, data_format='channels_last', dtype='float32')\n",
      "I0504 00:11:03.600954 140246354925376 ssd_efficientnet_bifpn_feature_extractor.py:145] EfficientDet EfficientNet backbone version: efficientnet-b5\n",
      "I0504 00:11:03.601037 140246354925376 ssd_efficientnet_bifpn_feature_extractor.py:147] EfficientDet BiFPN num filters: 288\n",
      "I0504 00:11:03.601062 140246354925376 ssd_efficientnet_bifpn_feature_extractor.py:148] EfficientDet BiFPN num iterations: 7\n",
      "I0504 00:11:03.601755 140246354925376 efficientnet_model.py:144] round_filter input=32 output=48\n",
      "I0504 00:11:03.607574 140246354925376 efficientnet_model.py:144] round_filter input=32 output=48\n",
      "I0504 00:11:03.607627 140246354925376 efficientnet_model.py:144] round_filter input=16 output=24\n",
      "I0504 00:11:03.673450 140246354925376 efficientnet_model.py:144] round_filter input=16 output=24\n",
      "I0504 00:11:03.673521 140246354925376 efficientnet_model.py:144] round_filter input=24 output=40\n",
      "I0504 00:11:03.820964 140246354925376 efficientnet_model.py:144] round_filter input=24 output=40\n",
      "I0504 00:11:03.821042 140246354925376 efficientnet_model.py:144] round_filter input=40 output=64\n",
      "I0504 00:11:03.971759 140246354925376 efficientnet_model.py:144] round_filter input=40 output=64\n",
      "I0504 00:11:03.971833 140246354925376 efficientnet_model.py:144] round_filter input=80 output=128\n",
      "I0504 00:11:04.184095 140246354925376 efficientnet_model.py:144] round_filter input=80 output=128\n",
      "I0504 00:11:04.184170 140246354925376 efficientnet_model.py:144] round_filter input=112 output=176\n",
      "I0504 00:11:04.400317 140246354925376 efficientnet_model.py:144] round_filter input=112 output=176\n",
      "I0504 00:11:04.400392 140246354925376 efficientnet_model.py:144] round_filter input=192 output=304\n",
      "I0504 00:11:04.701346 140246354925376 efficientnet_model.py:144] round_filter input=192 output=304\n",
      "I0504 00:11:04.701418 140246354925376 efficientnet_model.py:144] round_filter input=320 output=512\n",
      "I0504 00:11:04.823050 140246354925376 efficientnet_model.py:144] round_filter input=1280 output=2048\n",
      "I0504 00:11:04.840097 140246354925376 efficientnet_model.py:454] Building model efficientnet with params ModelConfig(width_coefficient=1.6, depth_coefficient=2.2, resolution=456, dropout_rate=0.4, blocks=(BlockConfig(input_filters=32, output_filters=16, kernel_size=3, num_repeat=1, expand_ratio=1, strides=(1, 1), se_ratio=0.25, id_skip=True, fused_conv=False, conv_type='depthwise'), BlockConfig(input_filters=16, output_filters=24, kernel_size=3, num_repeat=2, expand_ratio=6, strides=(2, 2), se_ratio=0.25, id_skip=True, fused_conv=False, conv_type='depthwise'), BlockConfig(input_filters=24, output_filters=40, kernel_size=5, num_repeat=2, expand_ratio=6, strides=(2, 2), se_ratio=0.25, id_skip=True, fused_conv=False, conv_type='depthwise'), BlockConfig(input_filters=40, output_filters=80, kernel_size=3, num_repeat=3, expand_ratio=6, strides=(2, 2), se_ratio=0.25, id_skip=True, fused_conv=False, conv_type='depthwise'), BlockConfig(input_filters=80, output_filters=112, kernel_size=5, num_repeat=3, expand_ratio=6, strides=(1, 1), se_ratio=0.25, id_skip=True, fused_conv=False, conv_type='depthwise'), BlockConfig(input_filters=112, output_filters=192, kernel_size=5, num_repeat=4, expand_ratio=6, strides=(2, 2), se_ratio=0.25, id_skip=True, fused_conv=False, conv_type='depthwise'), BlockConfig(input_filters=192, output_filters=320, kernel_size=3, num_repeat=1, expand_ratio=6, strides=(1, 1), se_ratio=0.25, id_skip=True, fused_conv=False, conv_type='depthwise')), stem_base_filters=32, top_base_filters=1280, activation='simple_swish', batch_norm='default', bn_momentum=0.99, bn_epsilon=0.001, weight_decay=5e-06, drop_connect_rate=0.2, depth_divisor=8, min_depth=None, use_se=True, input_channels=3, num_classes=1000, model_name='efficientnet', rescale_input=False, data_format='channels_last', dtype='float32')\n",
      "I0504 00:11:04.876619 140246354925376 ssd_efficientnet_bifpn_feature_extractor.py:145] EfficientDet EfficientNet backbone version: efficientnet-b6\n",
      "I0504 00:11:04.876692 140246354925376 ssd_efficientnet_bifpn_feature_extractor.py:147] EfficientDet BiFPN num filters: 384\n",
      "I0504 00:11:04.876714 140246354925376 ssd_efficientnet_bifpn_feature_extractor.py:148] EfficientDet BiFPN num iterations: 8\n",
      "I0504 00:11:04.877377 140246354925376 efficientnet_model.py:144] round_filter input=32 output=56\n",
      "I0504 00:11:04.883200 140246354925376 efficientnet_model.py:144] round_filter input=32 output=56\n",
      "I0504 00:11:04.883253 140246354925376 efficientnet_model.py:144] round_filter input=16 output=32\n",
      "I0504 00:11:05.067347 140246354925376 efficientnet_model.py:144] round_filter input=16 output=32\n",
      "I0504 00:11:05.067448 140246354925376 efficientnet_model.py:144] round_filter input=24 output=40\n",
      "I0504 00:11:05.250864 140246354925376 efficientnet_model.py:144] round_filter input=24 output=40\n",
      "I0504 00:11:05.250960 140246354925376 efficientnet_model.py:144] round_filter input=40 output=72\n",
      "I0504 00:11:05.435078 140246354925376 efficientnet_model.py:144] round_filter input=40 output=72\n",
      "I0504 00:11:05.435151 140246354925376 efficientnet_model.py:144] round_filter input=80 output=144\n",
      "I0504 00:11:05.696934 140246354925376 efficientnet_model.py:144] round_filter input=80 output=144\n",
      "I0504 00:11:05.697006 140246354925376 efficientnet_model.py:144] round_filter input=112 output=200\n",
      "I0504 00:11:05.953388 140246354925376 efficientnet_model.py:144] round_filter input=112 output=200\n",
      "I0504 00:11:05.953464 140246354925376 efficientnet_model.py:144] round_filter input=192 output=344\n",
      "I0504 00:11:06.319609 140246354925376 efficientnet_model.py:144] round_filter input=192 output=344\n",
      "I0504 00:11:06.319684 140246354925376 efficientnet_model.py:144] round_filter input=320 output=576\n",
      "I0504 00:11:06.439256 140246354925376 efficientnet_model.py:144] round_filter input=1280 output=2304\n",
      "I0504 00:11:06.458625 140246354925376 efficientnet_model.py:454] Building model efficientnet with params ModelConfig(width_coefficient=1.8, depth_coefficient=2.6, resolution=528, dropout_rate=0.5, blocks=(BlockConfig(input_filters=32, output_filters=16, kernel_size=3, num_repeat=1, expand_ratio=1, strides=(1, 1), se_ratio=0.25, id_skip=True, fused_conv=False, conv_type='depthwise'), BlockConfig(input_filters=16, output_filters=24, kernel_size=3, num_repeat=2, expand_ratio=6, strides=(2, 2), se_ratio=0.25, id_skip=True, fused_conv=False, conv_type='depthwise'), BlockConfig(input_filters=24, output_filters=40, kernel_size=5, num_repeat=2, expand_ratio=6, strides=(2, 2), se_ratio=0.25, id_skip=True, fused_conv=False, conv_type='depthwise'), BlockConfig(input_filters=40, output_filters=80, kernel_size=3, num_repeat=3, expand_ratio=6, strides=(2, 2), se_ratio=0.25, id_skip=True, fused_conv=False, conv_type='depthwise'), BlockConfig(input_filters=80, output_filters=112, kernel_size=5, num_repeat=3, expand_ratio=6, strides=(1, 1), se_ratio=0.25, id_skip=True, fused_conv=False, conv_type='depthwise'), BlockConfig(input_filters=112, output_filters=192, kernel_size=5, num_repeat=4, expand_ratio=6, strides=(2, 2), se_ratio=0.25, id_skip=True, fused_conv=False, conv_type='depthwise'), BlockConfig(input_filters=192, output_filters=320, kernel_size=3, num_repeat=1, expand_ratio=6, strides=(1, 1), se_ratio=0.25, id_skip=True, fused_conv=False, conv_type='depthwise')), stem_base_filters=32, top_base_filters=1280, activation='simple_swish', batch_norm='default', bn_momentum=0.99, bn_epsilon=0.001, weight_decay=5e-06, drop_connect_rate=0.2, depth_divisor=8, min_depth=None, use_se=True, input_channels=3, num_classes=1000, model_name='efficientnet', rescale_input=False, data_format='channels_last', dtype='float32')\n"
     ]
    },
    {
     "name": "stdout",
     "output_type": "stream",
     "text": [
      "I0504 00:11:06.499092 140246354925376 ssd_efficientnet_bifpn_feature_extractor.py:145] EfficientDet EfficientNet backbone version: efficientnet-b7\n",
      "I0504 00:11:06.499168 140246354925376 ssd_efficientnet_bifpn_feature_extractor.py:147] EfficientDet BiFPN num filters: 384\n",
      "I0504 00:11:06.499192 140246354925376 ssd_efficientnet_bifpn_feature_extractor.py:148] EfficientDet BiFPN num iterations: 8\n",
      "I0504 00:11:06.499868 140246354925376 efficientnet_model.py:144] round_filter input=32 output=64\n",
      "I0504 00:11:06.506445 140246354925376 efficientnet_model.py:144] round_filter input=32 output=64\n",
      "I0504 00:11:06.506518 140246354925376 efficientnet_model.py:144] round_filter input=16 output=32\n",
      "I0504 00:11:06.599472 140246354925376 efficientnet_model.py:144] round_filter input=16 output=32\n",
      "I0504 00:11:06.599542 140246354925376 efficientnet_model.py:144] round_filter input=24 output=48\n",
      "I0504 00:11:06.798581 140246354925376 efficientnet_model.py:144] round_filter input=24 output=48\n",
      "I0504 00:11:06.798655 140246354925376 efficientnet_model.py:144] round_filter input=40 output=80\n",
      "I0504 00:11:07.149056 140246354925376 efficientnet_model.py:144] round_filter input=40 output=80\n",
      "I0504 00:11:07.149129 140246354925376 efficientnet_model.py:144] round_filter input=80 output=160\n",
      "I0504 00:11:07.462924 140246354925376 efficientnet_model.py:144] round_filter input=80 output=160\n",
      "I0504 00:11:07.463061 140246354925376 efficientnet_model.py:144] round_filter input=112 output=224\n",
      "I0504 00:11:07.779150 140246354925376 efficientnet_model.py:144] round_filter input=112 output=224\n",
      "I0504 00:11:07.779227 140246354925376 efficientnet_model.py:144] round_filter input=192 output=384\n",
      "I0504 00:11:08.241729 140246354925376 efficientnet_model.py:144] round_filter input=192 output=384\n",
      "I0504 00:11:08.241807 140246354925376 efficientnet_model.py:144] round_filter input=320 output=640\n",
      "I0504 00:11:08.420664 140246354925376 efficientnet_model.py:144] round_filter input=1280 output=2560\n",
      "I0504 00:11:08.437712 140246354925376 efficientnet_model.py:454] Building model efficientnet with params ModelConfig(width_coefficient=2.0, depth_coefficient=3.1, resolution=600, dropout_rate=0.5, blocks=(BlockConfig(input_filters=32, output_filters=16, kernel_size=3, num_repeat=1, expand_ratio=1, strides=(1, 1), se_ratio=0.25, id_skip=True, fused_conv=False, conv_type='depthwise'), BlockConfig(input_filters=16, output_filters=24, kernel_size=3, num_repeat=2, expand_ratio=6, strides=(2, 2), se_ratio=0.25, id_skip=True, fused_conv=False, conv_type='depthwise'), BlockConfig(input_filters=24, output_filters=40, kernel_size=5, num_repeat=2, expand_ratio=6, strides=(2, 2), se_ratio=0.25, id_skip=True, fused_conv=False, conv_type='depthwise'), BlockConfig(input_filters=40, output_filters=80, kernel_size=3, num_repeat=3, expand_ratio=6, strides=(2, 2), se_ratio=0.25, id_skip=True, fused_conv=False, conv_type='depthwise'), BlockConfig(input_filters=80, output_filters=112, kernel_size=5, num_repeat=3, expand_ratio=6, strides=(1, 1), se_ratio=0.25, id_skip=True, fused_conv=False, conv_type='depthwise'), BlockConfig(input_filters=112, output_filters=192, kernel_size=5, num_repeat=4, expand_ratio=6, strides=(2, 2), se_ratio=0.25, id_skip=True, fused_conv=False, conv_type='depthwise'), BlockConfig(input_filters=192, output_filters=320, kernel_size=3, num_repeat=1, expand_ratio=6, strides=(1, 1), se_ratio=0.25, id_skip=True, fused_conv=False, conv_type='depthwise')), stem_base_filters=32, top_base_filters=1280, activation='simple_swish', batch_norm='default', bn_momentum=0.99, bn_epsilon=0.001, weight_decay=5e-06, drop_connect_rate=0.2, depth_divisor=8, min_depth=None, use_se=True, input_channels=3, num_classes=1000, model_name='efficientnet', rescale_input=False, data_format='channels_last', dtype='float32')\n",
      "INFO:tensorflow:time(__main__.ModelBuilderTF2Test.test_create_ssd_models_from_config): 9.04s\n",
      "I0504 00:11:08.489674 140246354925376 test_util.py:2373] time(__main__.ModelBuilderTF2Test.test_create_ssd_models_from_config): 9.04s\n",
      "[       OK ] ModelBuilderTF2Test.test_create_ssd_models_from_config\n",
      "[ RUN      ] ModelBuilderTF2Test.test_invalid_faster_rcnn_batchnorm_update\n",
      "INFO:tensorflow:time(__main__.ModelBuilderTF2Test.test_invalid_faster_rcnn_batchnorm_update): 0.0s\n",
      "I0504 00:11:08.494482 140246354925376 test_util.py:2373] time(__main__.ModelBuilderTF2Test.test_invalid_faster_rcnn_batchnorm_update): 0.0s\n",
      "[       OK ] ModelBuilderTF2Test.test_invalid_faster_rcnn_batchnorm_update\n",
      "[ RUN      ] ModelBuilderTF2Test.test_invalid_first_stage_nms_iou_threshold\n",
      "INFO:tensorflow:time(__main__.ModelBuilderTF2Test.test_invalid_first_stage_nms_iou_threshold): 0.0s\n",
      "I0504 00:11:08.495217 140246354925376 test_util.py:2373] time(__main__.ModelBuilderTF2Test.test_invalid_first_stage_nms_iou_threshold): 0.0s\n",
      "[       OK ] ModelBuilderTF2Test.test_invalid_first_stage_nms_iou_threshold\n",
      "[ RUN      ] ModelBuilderTF2Test.test_invalid_model_config_proto\n",
      "INFO:tensorflow:time(__main__.ModelBuilderTF2Test.test_invalid_model_config_proto): 0.0s\n",
      "I0504 00:11:08.495396 140246354925376 test_util.py:2373] time(__main__.ModelBuilderTF2Test.test_invalid_model_config_proto): 0.0s\n",
      "[       OK ] ModelBuilderTF2Test.test_invalid_model_config_proto\n",
      "[ RUN      ] ModelBuilderTF2Test.test_invalid_second_stage_batch_size\n",
      "INFO:tensorflow:time(__main__.ModelBuilderTF2Test.test_invalid_second_stage_batch_size): 0.0s\n",
      "I0504 00:11:08.495938 140246354925376 test_util.py:2373] time(__main__.ModelBuilderTF2Test.test_invalid_second_stage_batch_size): 0.0s\n",
      "[       OK ] ModelBuilderTF2Test.test_invalid_second_stage_batch_size\n",
      "[ RUN      ] ModelBuilderTF2Test.test_session\n",
      "[  SKIPPED ] ModelBuilderTF2Test.test_session\n",
      "[ RUN      ] ModelBuilderTF2Test.test_unknown_faster_rcnn_feature_extractor\n",
      "INFO:tensorflow:time(__main__.ModelBuilderTF2Test.test_unknown_faster_rcnn_feature_extractor): 0.0s\n",
      "I0504 00:11:08.496422 140246354925376 test_util.py:2373] time(__main__.ModelBuilderTF2Test.test_unknown_faster_rcnn_feature_extractor): 0.0s\n",
      "[       OK ] ModelBuilderTF2Test.test_unknown_faster_rcnn_feature_extractor\n",
      "[ RUN      ] ModelBuilderTF2Test.test_unknown_meta_architecture\n",
      "INFO:tensorflow:time(__main__.ModelBuilderTF2Test.test_unknown_meta_architecture): 0.0s\n",
      "I0504 00:11:08.496559 140246354925376 test_util.py:2373] time(__main__.ModelBuilderTF2Test.test_unknown_meta_architecture): 0.0s\n",
      "[       OK ] ModelBuilderTF2Test.test_unknown_meta_architecture\n",
      "[ RUN      ] ModelBuilderTF2Test.test_unknown_ssd_feature_extractor\n",
      "INFO:tensorflow:time(__main__.ModelBuilderTF2Test.test_unknown_ssd_feature_extractor): 0.0s\n",
      "I0504 00:11:08.496928 140246354925376 test_util.py:2373] time(__main__.ModelBuilderTF2Test.test_unknown_ssd_feature_extractor): 0.0s\n",
      "[       OK ] ModelBuilderTF2Test.test_unknown_ssd_feature_extractor\n",
      "----------------------------------------------------------------------\n",
      "Ran 24 tests in 10.618s\n",
      "\n",
      "OK (skipped=1)\n"
     ]
    }
   ],
   "source": [
    "VERIFICATION_SCRIPT = os.path.join(paths['APIMODEL_PATH'], 'research', 'object_detection', 'builders', 'model_builder_tf2_test.py')\n",
    "# Verify Installation\n",
    "!python {VERIFICATION_SCRIPT}"
   ]
  },
  {
   "cell_type": "code",
   "execution_count": null,
   "metadata": {},
   "outputs": [],
   "source": [
    "!pip install pyyaml"
   ]
  },
  {
   "cell_type": "code",
   "execution_count": null,
   "metadata": {},
   "outputs": [],
   "source": [
    "!python -m pip install numpy scipy matplotlib ipython jupyter pandas sympy nose"
   ]
  },
  {
   "cell_type": "code",
   "execution_count": null,
   "metadata": {},
   "outputs": [],
   "source": [
    "!pip install tensorflow --upgrade"
   ]
  },
  {
   "cell_type": "code",
   "execution_count": null,
   "metadata": {},
   "outputs": [],
   "source": [
    "!pip uninstall protobuf matplotlib -y\n",
    "!pip install protobuf matplotlib==3.2"
   ]
  },
  {
   "cell_type": "code",
   "execution_count": 12,
   "metadata": {},
   "outputs": [],
   "source": [
    "import object_detection"
   ]
  },
  {
   "cell_type": "code",
   "execution_count": 13,
   "metadata": {
    "scrolled": true
   },
   "outputs": [
    {
     "name": "stdout",
     "output_type": "stream",
     "text": [
      "Package                       Version\r\n",
      "----------------------------- -------------------\r\n",
      "absl-py                       1.0.0\r\n",
      "apache-beam                   2.38.0\r\n",
      "argon2-cffi                   21.3.0\r\n",
      "argon2-cffi-bindings          21.2.0\r\n",
      "asttokens                     2.0.5\r\n",
      "astunparse                    1.6.3\r\n",
      "attrs                         21.4.0\r\n",
      "avro-python3                  1.10.2\r\n",
      "backcall                      0.2.0\r\n",
      "beautifulsoup4                4.11.1\r\n",
      "bleach                        5.0.0\r\n",
      "cachetools                    5.0.0\r\n",
      "certifi                       2021.10.8\r\n",
      "cffi                          1.15.0\r\n",
      "charset-normalizer            2.0.12\r\n",
      "cloudpickle                   2.0.0\r\n",
      "colorama                      0.4.4\r\n",
      "contextlib2                   21.6.0\r\n",
      "crcmod                        1.7\r\n",
      "cycler                        0.11.0\r\n",
      "Cython                        0.29.28\r\n",
      "debugpy                       1.6.0\r\n",
      "decorator                     5.1.1\r\n",
      "defusedxml                    0.7.1\r\n",
      "dill                          0.3.1.1\r\n",
      "dm-tree                       0.1.7\r\n",
      "docopt                        0.6.2\r\n",
      "entrypoints                   0.4\r\n",
      "executing                     0.8.3\r\n",
      "fastavro                      1.4.10\r\n",
      "fastjsonschema                2.15.3\r\n",
      "flatbuffers                   2.0\r\n",
      "fonttools                     4.33.3\r\n",
      "gast                          0.5.3\r\n",
      "gin-config                    0.5.0\r\n",
      "google-api-core               2.7.2\r\n",
      "google-api-python-client      2.46.0\r\n",
      "google-auth                   2.6.6\r\n",
      "google-auth-httplib2          0.1.0\r\n",
      "google-auth-oauthlib          0.4.6\r\n",
      "google-pasta                  0.2.0\r\n",
      "googleapis-common-protos      1.56.0\r\n",
      "grpcio                        1.44.0\r\n",
      "h5py                          3.6.0\r\n",
      "hdfs                          2.7.0\r\n",
      "httplib2                      0.19.1\r\n",
      "idna                          3.3\r\n",
      "ipykernel                     6.13.0\r\n",
      "ipython                       8.2.0\r\n",
      "ipython-genutils              0.2.0\r\n",
      "ipywidgets                    7.7.0\r\n",
      "jedi                          0.18.1\r\n",
      "Jinja2                        3.1.1\r\n",
      "joblib                        1.1.0\r\n",
      "jsonschema                    4.4.0\r\n",
      "jupyter                       1.0.0\r\n",
      "jupyter-client                7.3.0\r\n",
      "jupyter-console               6.4.3\r\n",
      "jupyter-core                  4.10.0\r\n",
      "jupyterlab-pygments           0.2.2\r\n",
      "jupyterlab-widgets            1.1.0\r\n",
      "kaggle                        1.5.12\r\n",
      "keras                         2.8.0\r\n",
      "Keras-Preprocessing           1.1.2\r\n",
      "kiwisolver                    1.4.2\r\n",
      "libclang                      14.0.1\r\n",
      "lvis                          0.5.3\r\n",
      "lxml                          4.8.0\r\n",
      "Markdown                      3.3.6\r\n",
      "MarkupSafe                    2.1.1\r\n",
      "matplotlib                    3.5.1\r\n",
      "matplotlib-inline             0.1.3\r\n",
      "mistune                       0.8.4\r\n",
      "nbclient                      0.6.0\r\n",
      "nbconvert                     6.5.0\r\n",
      "nbformat                      5.3.0\r\n",
      "nest-asyncio                  1.5.5\r\n",
      "notebook                      6.4.11\r\n",
      "numpy                         1.22.3\r\n",
      "oauth2client                  4.1.3\r\n",
      "oauthlib                      3.2.0\r\n",
      "object-detection              0.1\r\n",
      "opencv-python                 4.5.5.64\r\n",
      "opencv-python-headless        4.5.5.64\r\n",
      "opt-einsum                    3.3.0\r\n",
      "orjson                        3.6.8\r\n",
      "packaging                     21.3\r\n",
      "pandas                        1.4.2\r\n",
      "pandocfilters                 1.5.0\r\n",
      "parso                         0.8.3\r\n",
      "pexpect                       4.8.0\r\n",
      "pickleshare                   0.7.5\r\n",
      "Pillow                        9.1.0\r\n",
      "pip                           22.0.4\r\n",
      "portalocker                   2.4.0\r\n",
      "prometheus-client             0.14.1\r\n",
      "promise                       2.3\r\n",
      "prompt-toolkit                3.0.29\r\n",
      "proto-plus                    1.20.3\r\n",
      "protobuf                      3.20.1\r\n",
      "psutil                        5.9.0\r\n",
      "ptyprocess                    0.7.0\r\n",
      "pure-eval                     0.2.2\r\n",
      "py-cpuinfo                    8.0.0\r\n",
      "pyarrow                       6.0.1\r\n",
      "pyasn1                        0.4.8\r\n",
      "pyasn1-modules                0.2.8\r\n",
      "pycocotools                   2.0.4\r\n",
      "pycparser                     2.21\r\n",
      "pydot                         1.4.2\r\n",
      "Pygments                      2.12.0\r\n",
      "pymongo                       3.12.3\r\n",
      "pyparsing                     2.4.7\r\n",
      "PyQt5                         5.15.6\r\n",
      "PyQt5-Qt5                     5.15.2\r\n",
      "PyQt5-sip                     12.10.1\r\n",
      "pyrsistent                    0.18.1\r\n",
      "python-dateutil               2.8.2\r\n",
      "python-slugify                6.1.1\r\n",
      "pytz                          2022.1\r\n",
      "PyYAML                        5.4.1\r\n",
      "pyzmq                         22.3.0\r\n",
      "qtconsole                     5.3.0\r\n",
      "QtPy                          2.0.1\r\n",
      "regex                         2022.4.24\r\n",
      "requests                      2.27.1\r\n",
      "requests-oauthlib             1.3.1\r\n",
      "rsa                           4.8\r\n",
      "sacrebleu                     2.0.0\r\n",
      "scikit-learn                  1.0.2\r\n",
      "scipy                         1.8.0\r\n",
      "Send2Trash                    1.8.0\r\n",
      "sentencepiece                 0.1.96\r\n",
      "seqeval                       1.2.2\r\n",
      "setuptools                    58.1.0\r\n",
      "six                           1.16.0\r\n",
      "soupsieve                     2.3.2.post1\r\n",
      "stack-data                    0.2.0\r\n",
      "tabulate                      0.8.9\r\n",
      "tensorboard                   2.8.0\r\n",
      "tensorboard-data-server       0.6.1\r\n",
      "tensorboard-plugin-wit        1.8.1\r\n",
      "tensorflow                    2.8.0\r\n",
      "tensorflow-addons             0.16.1\r\n",
      "tensorflow-datasets           4.5.2\r\n",
      "tensorflow-hub                0.12.0\r\n",
      "tensorflow-io                 0.25.0\r\n",
      "tensorflow-io-gcs-filesystem  0.25.0\r\n",
      "tensorflow-metadata           1.7.0\r\n",
      "tensorflow-model-optimization 0.7.2\r\n",
      "tensorflow-text               2.8.2\r\n",
      "termcolor                     1.1.0\r\n",
      "terminado                     0.13.3\r\n",
      "text-unidecode                1.3\r\n",
      "tf-estimator-nightly          2.8.0.dev2021122109\r\n",
      "tf-models-official            2.8.0\r\n",
      "tf-slim                       1.1.0\r\n",
      "threadpoolctl                 3.1.0\r\n",
      "tinycss2                      1.1.1\r\n",
      "tornado                       6.1\r\n",
      "tqdm                          4.64.0\r\n",
      "traitlets                     5.1.1\r\n",
      "typeguard                     2.13.3\r\n",
      "typing_extensions             4.2.0\r\n",
      "uritemplate                   4.1.1\r\n",
      "urllib3                       1.26.9\r\n",
      "wcwidth                       0.2.5\r\n",
      "webencodings                  0.5.1\r\n",
      "Werkzeug                      2.1.1\r\n",
      "wheel                         0.37.1\r\n",
      "widgetsnbextension            3.6.0\r\n",
      "wrapt                         1.14.0\r\n",
      "\u001b[33mWARNING: You are using pip version 22.0.4; however, version 22.1 is available.\r\n",
      "You should consider upgrading via the '/home/simon/Simon/Hochschule/Innot/TFODCourse/tfod/bin/python -m pip install --upgrade pip' command.\u001b[0m\u001b[33m\r\n",
      "\u001b[0m"
     ]
    }
   ],
   "source": [
    "!pip list"
   ]
  },
  {
   "cell_type": "code",
   "execution_count": 14,
   "metadata": {
    "colab": {
     "base_uri": "https://localhost:8080/"
    },
    "id": "csofht2npfDE",
    "outputId": "ff5471b2-bed2-43f2-959c-327a706527b6"
   },
   "outputs": [
    {
     "name": "stdout",
     "output_type": "stream",
     "text": [
      "--2022-05-18 12:38:27--  http://download.tensorflow.org/models/object_detection/tf2/20200711/ssd_mobilenet_v1_fpn_640x640_coco17_tpu-8.tar.gz\n",
      "Auflösen des Hostnamens download.tensorflow.org (download.tensorflow.org)… 2a00:1450:4001:828::2010, 142.250.186.80\n",
      "Verbindungsaufbau zu download.tensorflow.org (download.tensorflow.org)|2a00:1450:4001:828::2010|:80 … verbunden.\n",
      "HTTP-Anforderung gesendet, auf Antwort wird gewartet … 200 OK\n",
      "Länge: 90453990 (86M) [application/x-tar]\n",
      "Wird in »ssd_mobilenet_v1_fpn_640x640_coco17_tpu-8.tar.gz« gespeichert.\n",
      "\n",
      "ssd_mobilenet_v1_fp 100%[===================>]  86,26M  10,4MB/s    in 8,3s    \n",
      "\n",
      "2022-05-18 12:38:36 (10,4 MB/s) - »ssd_mobilenet_v1_fpn_640x640_coco17_tpu-8.tar.gz« gespeichert [90453990/90453990]\n",
      "\n",
      "ssd_mobilenet_v1_fpn_640x640_coco17_tpu-8/\n",
      "ssd_mobilenet_v1_fpn_640x640_coco17_tpu-8/checkpoint/\n",
      "ssd_mobilenet_v1_fpn_640x640_coco17_tpu-8/checkpoint/ckpt-0.data-00000-of-00001\n",
      "ssd_mobilenet_v1_fpn_640x640_coco17_tpu-8/checkpoint/checkpoint\n",
      "ssd_mobilenet_v1_fpn_640x640_coco17_tpu-8/checkpoint/ckpt-0.index\n",
      "ssd_mobilenet_v1_fpn_640x640_coco17_tpu-8/pipeline.config\n",
      "ssd_mobilenet_v1_fpn_640x640_coco17_tpu-8/saved_model/\n",
      "ssd_mobilenet_v1_fpn_640x640_coco17_tpu-8/saved_model/saved_model.pb\n",
      "ssd_mobilenet_v1_fpn_640x640_coco17_tpu-8/saved_model/variables/\n",
      "ssd_mobilenet_v1_fpn_640x640_coco17_tpu-8/saved_model/variables/variables.data-00000-of-00001\n",
      "ssd_mobilenet_v1_fpn_640x640_coco17_tpu-8/saved_model/variables/variables.index\n"
     ]
    }
   ],
   "source": [
    "if os.name =='posix':\n",
    "    !wget {PRETRAINED_MODEL_URL}\n",
    "    !mv {PRETRAINED_MODEL_NAME+'.tar.gz'} {paths['PRETRAINED_MODEL_PATH']}\n",
    "    !cd {paths['PRETRAINED_MODEL_PATH']} && tar -zxvf {PRETRAINED_MODEL_NAME+'.tar.gz'}\n",
    "if os.name == 'nt':\n",
    "    wget.download(PRETRAINED_MODEL_URL)\n",
    "    !move {PRETRAINED_MODEL_NAME+'.tar.gz'} {paths['PRETRAINED_MODEL_PATH']}\n",
    "    !cd {paths['PRETRAINED_MODEL_PATH']} && tar -zxvf {PRETRAINED_MODEL_NAME+'.tar.gz'}"
   ]
  },
  {
   "cell_type": "code",
   "execution_count": 15,
   "metadata": {},
   "outputs": [
    {
     "name": "stdout",
     "output_type": "stream",
     "text": [
      "ssd_mobilenet_v1_fpn_640x640_coco17_tpu-8/\n",
      "ssd_mobilenet_v1_fpn_640x640_coco17_tpu-8/checkpoint/\n",
      "ssd_mobilenet_v1_fpn_640x640_coco17_tpu-8/checkpoint/ckpt-0.data-00000-of-00001\n",
      "ssd_mobilenet_v1_fpn_640x640_coco17_tpu-8/checkpoint/checkpoint\n",
      "ssd_mobilenet_v1_fpn_640x640_coco17_tpu-8/checkpoint/ckpt-0.index\n",
      "ssd_mobilenet_v1_fpn_640x640_coco17_tpu-8/pipeline.config\n",
      "ssd_mobilenet_v1_fpn_640x640_coco17_tpu-8/saved_model/\n",
      "ssd_mobilenet_v1_fpn_640x640_coco17_tpu-8/saved_model/saved_model.pb\n",
      "ssd_mobilenet_v1_fpn_640x640_coco17_tpu-8/saved_model/variables/\n",
      "ssd_mobilenet_v1_fpn_640x640_coco17_tpu-8/saved_model/variables/variables.data-00000-of-00001\n",
      "ssd_mobilenet_v1_fpn_640x640_coco17_tpu-8/saved_model/variables/variables.index\n"
     ]
    }
   ],
   "source": [
    "!cd {paths['PRETRAINED_MODEL_PATH']} && tar -zxvf {PRETRAINED_MODEL_NAME+'.tar.gz'}"
   ]
  },
  {
   "cell_type": "markdown",
   "metadata": {
    "id": "M5KJTnkfpfDC"
   },
   "source": [
    "# 2. Create Label Map"
   ]
  },
  {
   "cell_type": "code",
   "execution_count": 18,
   "metadata": {
    "id": "p1BVDWo7pfDC"
   },
   "outputs": [],
   "source": [
    "# labels = [{'name':'Up','id':1},{'name':'Down','id':2},{'name':'Left','id':3},{'name':'Right','id':4}]\n",
    "labels = [{\"name\": \"jacket\", \"id\": 1},{\"name\": \"krawatte\", \"id\": 2},{\"name\": \"kleid\", \"id\": 3},{\"name\": \"rock\", \"id\": 4},{\"name\": \"jogginghose\", \"id\": 5},{\"name\": \"joggingjacke\", \"id\": 6},{\"name\": \"shorts\", \"id\": 7},{\"name\": \"tanktop\", \"id\": 8},{\"name\": \"freizeithemd\", \"id\": 9},{\"name\": \"strohhut\", \"id\": 10},{\"name\": \"tshirt\", \"id\": 11}]\t\n",
    "with open(files['LABELMAP'], 'w') as f:\n",
    "    for label in labels:\n",
    "        f.write('item { \\n')\n",
    "        f.write('\\tname:\\'{}\\'\\n'.format(label['name']))\n",
    "        f.write('\\tid:{}\\n'.format(label['id']))\n",
    "        f.write('}\\n')"
   ]
  },
  {
   "cell_type": "markdown",
   "metadata": {
    "id": "C88zyVELpfDC"
   },
   "source": [
    "# 3. Create TF records"
   ]
  },
  {
   "cell_type": "code",
   "execution_count": 19,
   "metadata": {
    "colab": {
     "base_uri": "https://localhost:8080/"
    },
    "id": "kvf5WccwrFGq",
    "outputId": "49902aeb-0bd7-4298-e1a0-5b4a64eb2064"
   },
   "outputs": [],
   "source": [
    "# OPTIONAL IF RUNNING ON COLAB\n",
    "ARCHIVE_FILES = os.path.join(paths['IMAGE_PATH'], 'archive.tar.gz')\n",
    "if os.path.exists(ARCHIVE_FILES):\n",
    "  !tar -zxvf {ARCHIVE_FILES}"
   ]
  },
  {
   "cell_type": "code",
   "execution_count": 20,
   "metadata": {
    "colab": {
     "base_uri": "https://localhost:8080/"
    },
    "id": "KWpb_BVUpfDD",
    "outputId": "56ce2a3f-3933-4ee6-8a9d-d5ec65f7d73c"
   },
   "outputs": [],
   "source": [
    "if not os.path.exists(files['TF_RECORD_SCRIPT']):\n",
    "    !git clone https://github.com/nicknochnack/GenerateTFRecord {paths['SCRIPTS_PATH']}"
   ]
  },
  {
   "cell_type": "code",
   "execution_count": 21,
   "metadata": {
    "colab": {
     "base_uri": "https://localhost:8080/"
    },
    "id": "UPFToGZqpfDD",
    "outputId": "0ebb456f-aadc-4a1f-96e6-fbfec1923e1c",
    "scrolled": false
   },
   "outputs": [
    {
     "name": "stdout",
     "output_type": "stream",
     "text": [
      "Successfully created the TFRecord file: Tensorflow/workspaceInnot/annotations/train.record\n",
      "Successfully created the TFRecord file: Tensorflow/workspaceInnot/annotations/test.record\n"
     ]
    }
   ],
   "source": [
    "!python {files['TF_RECORD_SCRIPT']} -x {os.path.join(paths['IMAGE_PATH'], 'train')} -l {files['LABELMAP']} -o {os.path.join(paths['ANNOTATION_PATH'], 'train.record')} \n",
    "!python {files['TF_RECORD_SCRIPT']} -x {os.path.join(paths['IMAGE_PATH'], 'test')} -l {files['LABELMAP']} -o {os.path.join(paths['ANNOTATION_PATH'], 'test.record')} "
   ]
  },
  {
   "cell_type": "markdown",
   "metadata": {
    "id": "qT4QU7pLpfDE"
   },
   "source": [
    "# 4. Copy Model Config to Training Folder"
   ]
  },
  {
   "cell_type": "markdown",
   "metadata": {
    "id": "Ga8gpNslpfDF"
   },
   "source": [
    "# 5. Update Config For Transfer Learning"
   ]
  },
  {
   "cell_type": "code",
   "execution_count": 38,
   "metadata": {
    "id": "cOjuTFbwpfDF"
   },
   "outputs": [],
   "source": [
    "if os.name =='posix':\n",
    "    !cp {os.path.join(paths['PRETRAINED_MODEL_PATH'], PRETRAINED_MODEL_NAME, 'pipeline.config')} {os.path.join(paths['CHECKPOINT_PATH'])}\n",
    "if os.name == 'nt':\n",
    "    !copy {os.path.join(paths['PRETRAINED_MODEL_PATH'], PRETRAINED_MODEL_NAME, 'pipeline.config')} {os.path.join(paths['CHECKPOINT_PATH'])}"
   ]
  },
  {
   "cell_type": "code",
   "execution_count": 39,
   "metadata": {
    "id": "Z9hRrO_ppfDF"
   },
   "outputs": [],
   "source": [
    "import tensorflow as tf\n",
    "from object_detection.utils import config_util\n",
    "from object_detection.protos import pipeline_pb2\n",
    "from google.protobuf import text_format"
   ]
  },
  {
   "cell_type": "code",
   "execution_count": 40,
   "metadata": {
    "id": "c2A0mn4ipfDF"
   },
   "outputs": [],
   "source": [
    "config = config_util.get_configs_from_pipeline_file(files['PIPELINE_CONFIG'])"
   ]
  },
  {
   "cell_type": "code",
   "execution_count": 41,
   "metadata": {
    "colab": {
     "base_uri": "https://localhost:8080/"
    },
    "id": "uQA13-afpfDF",
    "outputId": "907496a4-a39d-4b13-8c2c-e5978ecb1f10"
   },
   "outputs": [
    {
     "data": {
      "text/plain": [
       "{'model': ssd {\n",
       "   num_classes: 90\n",
       "   image_resizer {\n",
       "     fixed_shape_resizer {\n",
       "       height: 640\n",
       "       width: 640\n",
       "     }\n",
       "   }\n",
       "   feature_extractor {\n",
       "     type: \"ssd_mobilenet_v1_fpn_keras\"\n",
       "     depth_multiplier: 1.0\n",
       "     min_depth: 16\n",
       "     conv_hyperparams {\n",
       "       regularizer {\n",
       "         l2_regularizer {\n",
       "           weight: 3.9999998989515007e-05\n",
       "         }\n",
       "       }\n",
       "       initializer {\n",
       "         random_normal_initializer {\n",
       "           mean: 0.0\n",
       "           stddev: 0.009999999776482582\n",
       "         }\n",
       "       }\n",
       "       activation: RELU_6\n",
       "       batch_norm {\n",
       "         decay: 0.996999979019165\n",
       "         scale: true\n",
       "         epsilon: 0.0010000000474974513\n",
       "       }\n",
       "     }\n",
       "     override_base_feature_extractor_hyperparams: true\n",
       "     fpn {\n",
       "       min_level: 3\n",
       "       max_level: 7\n",
       "     }\n",
       "   }\n",
       "   box_coder {\n",
       "     faster_rcnn_box_coder {\n",
       "       y_scale: 10.0\n",
       "       x_scale: 10.0\n",
       "       height_scale: 5.0\n",
       "       width_scale: 5.0\n",
       "     }\n",
       "   }\n",
       "   matcher {\n",
       "     argmax_matcher {\n",
       "       matched_threshold: 0.5\n",
       "       unmatched_threshold: 0.5\n",
       "       ignore_thresholds: false\n",
       "       negatives_lower_than_unmatched: true\n",
       "       force_match_for_each_row: true\n",
       "       use_matmul_gather: true\n",
       "     }\n",
       "   }\n",
       "   similarity_calculator {\n",
       "     iou_similarity {\n",
       "     }\n",
       "   }\n",
       "   box_predictor {\n",
       "     weight_shared_convolutional_box_predictor {\n",
       "       conv_hyperparams {\n",
       "         regularizer {\n",
       "           l2_regularizer {\n",
       "             weight: 3.9999998989515007e-05\n",
       "           }\n",
       "         }\n",
       "         initializer {\n",
       "           random_normal_initializer {\n",
       "             mean: 0.0\n",
       "             stddev: 0.009999999776482582\n",
       "           }\n",
       "         }\n",
       "         activation: RELU_6\n",
       "         batch_norm {\n",
       "           decay: 0.996999979019165\n",
       "           scale: true\n",
       "           epsilon: 0.0010000000474974513\n",
       "         }\n",
       "       }\n",
       "       depth: 256\n",
       "       num_layers_before_predictor: 4\n",
       "       kernel_size: 3\n",
       "       class_prediction_bias_init: -4.599999904632568\n",
       "     }\n",
       "   }\n",
       "   anchor_generator {\n",
       "     multiscale_anchor_generator {\n",
       "       min_level: 3\n",
       "       max_level: 7\n",
       "       anchor_scale: 4.0\n",
       "       aspect_ratios: 1.0\n",
       "       aspect_ratios: 2.0\n",
       "       aspect_ratios: 0.5\n",
       "       scales_per_octave: 2\n",
       "     }\n",
       "   }\n",
       "   post_processing {\n",
       "     batch_non_max_suppression {\n",
       "       score_threshold: 9.99999993922529e-09\n",
       "       iou_threshold: 0.6000000238418579\n",
       "       max_detections_per_class: 100\n",
       "       max_total_detections: 100\n",
       "       use_static_shapes: false\n",
       "     }\n",
       "     score_converter: SIGMOID\n",
       "   }\n",
       "   normalize_loss_by_num_matches: true\n",
       "   loss {\n",
       "     localization_loss {\n",
       "       weighted_smooth_l1 {\n",
       "       }\n",
       "     }\n",
       "     classification_loss {\n",
       "       weighted_sigmoid_focal {\n",
       "         gamma: 2.0\n",
       "         alpha: 0.25\n",
       "       }\n",
       "     }\n",
       "     classification_weight: 1.0\n",
       "     localization_weight: 1.0\n",
       "   }\n",
       "   encode_background_as_zeros: true\n",
       "   normalize_loc_loss_by_codesize: true\n",
       "   inplace_batchnorm_update: true\n",
       "   freeze_batchnorm: false\n",
       " },\n",
       " 'train_config': batch_size: 64\n",
       " data_augmentation_options {\n",
       "   random_horizontal_flip {\n",
       "   }\n",
       " }\n",
       " data_augmentation_options {\n",
       "   random_crop_image {\n",
       "     min_object_covered: 0.0\n",
       "     min_aspect_ratio: 0.75\n",
       "     max_aspect_ratio: 3.0\n",
       "     min_area: 0.75\n",
       "     max_area: 1.0\n",
       "     overlap_thresh: 0.0\n",
       "   }\n",
       " }\n",
       " sync_replicas: true\n",
       " optimizer {\n",
       "   momentum_optimizer {\n",
       "     learning_rate {\n",
       "       cosine_decay_learning_rate {\n",
       "         learning_rate_base: 0.03999999910593033\n",
       "         total_steps: 25000\n",
       "         warmup_learning_rate: 0.013333000242710114\n",
       "         warmup_steps: 2000\n",
       "       }\n",
       "     }\n",
       "     momentum_optimizer_value: 0.8999999761581421\n",
       "   }\n",
       "   use_moving_average: false\n",
       " }\n",
       " fine_tune_checkpoint: \"PATH_TO_BE_CONFIGURED\"\n",
       " num_steps: 25000\n",
       " startup_delay_steps: 0.0\n",
       " replicas_to_aggregate: 8\n",
       " max_number_of_boxes: 100\n",
       " unpad_groundtruth_tensors: false\n",
       " fine_tune_checkpoint_type: \"classification\"\n",
       " fine_tune_checkpoint_version: V2,\n",
       " 'train_input_config': tf_record_input_reader {\n",
       "   input_path: \"PATH_TO_BE_CONFIGURED\"\n",
       " },\n",
       " 'eval_config': metrics_set: \"coco_detection_metrics\"\n",
       " use_moving_averages: false\n",
       " batch_size: 1,\n",
       " 'eval_input_configs': [label_map_path: \"PATH_TO_BE_CONFIGURED\"\n",
       " shuffle: false\n",
       " num_epochs: 1\n",
       " tf_record_input_reader {\n",
       "   input_path: \"PATH_TO_BE_CONFIGURED\"\n",
       " }\n",
       " ],\n",
       " 'eval_input_config': label_map_path: \"PATH_TO_BE_CONFIGURED\"\n",
       " shuffle: false\n",
       " num_epochs: 1\n",
       " tf_record_input_reader {\n",
       "   input_path: \"PATH_TO_BE_CONFIGURED\"\n",
       " }}"
      ]
     },
     "execution_count": 41,
     "metadata": {},
     "output_type": "execute_result"
    }
   ],
   "source": [
    "config"
   ]
  },
  {
   "cell_type": "code",
   "execution_count": 42,
   "metadata": {
    "id": "9vK5lotDpfDF"
   },
   "outputs": [],
   "source": [
    "pipeline_config = pipeline_pb2.TrainEvalPipelineConfig()\n",
    "with tf.io.gfile.GFile(files['PIPELINE_CONFIG'], \"r\") as f:                                                                                                                                                                                                                     \n",
    "    proto_str = f.read()                                                                                                                                                                                                                                          \n",
    "    text_format.Merge(proto_str, pipeline_config)  "
   ]
  },
  {
   "cell_type": "code",
   "execution_count": 43,
   "metadata": {
    "id": "rP43Ph0JpfDG"
   },
   "outputs": [],
   "source": [
    "pipeline_config.model.ssd.num_classes = len(labels)\n",
    "pipeline_config.train_config.batch_size = 4\n",
    "pipeline_config.train_config.fine_tune_checkpoint = os.path.join(paths['PRETRAINED_MODEL_PATH'], PRETRAINED_MODEL_NAME, 'checkpoint', 'ckpt-0')\n",
    "pipeline_config.train_config.fine_tune_checkpoint_type = \"detection\"\n",
    "pipeline_config.train_input_reader.label_map_path= files['LABELMAP']\n",
    "pipeline_config.train_input_reader.tf_record_input_reader.input_path[:] = [os.path.join(paths['ANNOTATION_PATH'], 'train.record')]\n",
    "pipeline_config.eval_input_reader[0].label_map_path = files['LABELMAP']\n",
    "pipeline_config.eval_input_reader[0].tf_record_input_reader.input_path[:] = [os.path.join(paths['ANNOTATION_PATH'], 'test.record')]"
   ]
  },
  {
   "cell_type": "code",
   "execution_count": 44,
   "metadata": {
    "id": "oJvfgwWqpfDG"
   },
   "outputs": [],
   "source": [
    "config_text = text_format.MessageToString(pipeline_config)                                                                                                                                                                                                        \n",
    "with tf.io.gfile.GFile(files['PIPELINE_CONFIG'], \"wb\") as f:                                                                                                                                                                                                                     \n",
    "    f.write(config_text)   "
   ]
  },
  {
   "cell_type": "markdown",
   "metadata": {
    "id": "Zr3ON7xMpfDG"
   },
   "source": [
    "# 6. Train the model"
   ]
  },
  {
   "cell_type": "code",
   "execution_count": 22,
   "metadata": {
    "scrolled": true
   },
   "outputs": [
    {
     "name": "stdout",
     "output_type": "stream",
     "text": [
      "2.8.0\n",
      "GPU AVAILABLE: (https://www.youtube.com/watch?v=OEFKlRSd8Ic&ab_channel=JeffHeaton)\n",
      "[]\n"
     ]
    }
   ],
   "source": [
    "import tensorflow as tf\n",
    "print(tf.__version__)\n",
    "print('GPU AVAILABLE: (https://www.youtube.com/watch?v=OEFKlRSd8Ic&ab_channel=JeffHeaton)')\n",
    "len(tf.config.list_physical_devices('GPU'))>0\n",
    "print(tf.config.list_physical_devices('GPU'))"
   ]
  },
  {
   "cell_type": "code",
   "execution_count": 23,
   "metadata": {
    "id": "B-Y2UQmQpfDG"
   },
   "outputs": [],
   "source": [
    "TRAINING_SCRIPT = os.path.join(paths['APIMODEL_PATH'], 'research', 'object_detection', 'model_main_tf2.py')"
   ]
  },
  {
   "cell_type": "code",
   "execution_count": 10,
   "metadata": {
    "id": "jMP2XDfQpfDH"
   },
   "outputs": [],
   "source": [
    "command = \"python {} --model_dir={} --pipeline_config_path={} --num_train_steps=10000\".format(TRAINING_SCRIPT, paths['CHECKPOINT_PATH'],files['PIPELINE_CONFIG'])"
   ]
  },
  {
   "cell_type": "code",
   "execution_count": 12,
   "metadata": {
    "colab": {
     "base_uri": "https://localhost:8080/"
    },
    "id": "A4OXXi-ApfDH",
    "outputId": "117a0e83-012b-466e-b7a6-ccaa349ac5ab"
   },
   "outputs": [
    {
     "name": "stdout",
     "output_type": "stream",
     "text": [
      "python Tensorflow/models/research/object_detection/model_main_tf2.py --model_dir=Tensorflow/workspaceInnot/models/mainModel02 --pipeline_config_path=Tensorflow/workspaceInnot/models/mainModel02/pipeline.config --num_train_steps=10000\n"
     ]
    }
   ],
   "source": [
    "print(command)"
   ]
  },
  {
   "cell_type": "code",
   "execution_count": 92,
   "metadata": {
    "colab": {
     "base_uri": "https://localhost:8080/"
    },
    "id": "i3ZsJR-qpfDH",
    "outputId": "cabec5e1-45e6-4f2f-d9cf-297d9c1d0225",
    "scrolled": true
   },
   "outputs": [
    {
     "name": "stdout",
     "output_type": "stream",
     "text": [
      "2022-05-07 15:26:07.935146: W tensorflow/stream_executor/platform/default/dso_loader.cc:64] Could not load dynamic library 'libcudart.so.11.0'; dlerror: libcudart.so.11.0: cannot open shared object file: No such file or directory\n",
      "2022-05-07 15:26:07.935162: I tensorflow/stream_executor/cuda/cudart_stub.cc:29] Ignore above cudart dlerror if you do not have a GPU set up on your machine.\n",
      "2022-05-07 15:26:09.267900: I tensorflow/stream_executor/cuda/cuda_gpu_executor.cc:936] successful NUMA node read from SysFS had negative value (-1), but there must be at least one NUMA node, so returning NUMA node zero\n",
      "2022-05-07 15:26:09.268084: W tensorflow/stream_executor/platform/default/dso_loader.cc:64] Could not load dynamic library 'libcudart.so.11.0'; dlerror: libcudart.so.11.0: cannot open shared object file: No such file or directory; LD_LIBRARY_PATH: /home/simon/Simon/Hochschule/Innot/TFODCourse/tfod/lib/python3.10/site-packages/cv2/../../lib64:\n",
      "2022-05-07 15:26:09.268108: W tensorflow/stream_executor/platform/default/dso_loader.cc:64] Could not load dynamic library 'libcublas.so.11'; dlerror: libcublas.so.11: cannot open shared object file: No such file or directory; LD_LIBRARY_PATH: /home/simon/Simon/Hochschule/Innot/TFODCourse/tfod/lib/python3.10/site-packages/cv2/../../lib64:\n",
      "2022-05-07 15:26:09.268126: W tensorflow/stream_executor/platform/default/dso_loader.cc:64] Could not load dynamic library 'libcublasLt.so.11'; dlerror: libcublasLt.so.11: cannot open shared object file: No such file or directory; LD_LIBRARY_PATH: /home/simon/Simon/Hochschule/Innot/TFODCourse/tfod/lib/python3.10/site-packages/cv2/../../lib64:\n",
      "2022-05-07 15:26:09.268144: W tensorflow/stream_executor/platform/default/dso_loader.cc:64] Could not load dynamic library 'libcufft.so.10'; dlerror: libcufft.so.10: cannot open shared object file: No such file or directory; LD_LIBRARY_PATH: /home/simon/Simon/Hochschule/Innot/TFODCourse/tfod/lib/python3.10/site-packages/cv2/../../lib64:\n",
      "2022-05-07 15:26:09.268161: W tensorflow/stream_executor/platform/default/dso_loader.cc:64] Could not load dynamic library 'libcurand.so.10'; dlerror: libcurand.so.10: cannot open shared object file: No such file or directory; LD_LIBRARY_PATH: /home/simon/Simon/Hochschule/Innot/TFODCourse/tfod/lib/python3.10/site-packages/cv2/../../lib64:\n",
      "2022-05-07 15:26:09.268179: W tensorflow/stream_executor/platform/default/dso_loader.cc:64] Could not load dynamic library 'libcusolver.so.11'; dlerror: libcusolver.so.11: cannot open shared object file: No such file or directory; LD_LIBRARY_PATH: /home/simon/Simon/Hochschule/Innot/TFODCourse/tfod/lib/python3.10/site-packages/cv2/../../lib64:\n",
      "2022-05-07 15:26:09.268195: W tensorflow/stream_executor/platform/default/dso_loader.cc:64] Could not load dynamic library 'libcusparse.so.11'; dlerror: libcusparse.so.11: cannot open shared object file: No such file or directory; LD_LIBRARY_PATH: /home/simon/Simon/Hochschule/Innot/TFODCourse/tfod/lib/python3.10/site-packages/cv2/../../lib64:\n",
      "2022-05-07 15:26:09.268213: W tensorflow/stream_executor/platform/default/dso_loader.cc:64] Could not load dynamic library 'libcudnn.so.8'; dlerror: libcudnn.so.8: cannot open shared object file: No such file or directory; LD_LIBRARY_PATH: /home/simon/Simon/Hochschule/Innot/TFODCourse/tfod/lib/python3.10/site-packages/cv2/../../lib64:\n",
      "2022-05-07 15:26:09.268217: W tensorflow/core/common_runtime/gpu/gpu_device.cc:1850] Cannot dlopen some GPU libraries. Please make sure the missing libraries mentioned above are installed properly if you would like to use GPU. Follow the guide at https://www.tensorflow.org/install/gpu for how to download and setup the required libraries for your platform.\n",
      "Skipping registering GPU devices...\n",
      "2022-05-07 15:26:09.268444: I tensorflow/core/platform/cpu_feature_guard.cc:151] This TensorFlow binary is optimized with oneAPI Deep Neural Network Library (oneDNN) to use the following CPU instructions in performance-critical operations:  AVX2 FMA\n",
      "To enable them in other operations, rebuild TensorFlow with the appropriate compiler flags.\n",
      "WARNING:tensorflow:There are non-GPU devices in `tf.distribute.Strategy`, not using nccl allreduce.\n",
      "W0507 15:26:09.270254 140435210819392 cross_device_ops.py:1386] There are non-GPU devices in `tf.distribute.Strategy`, not using nccl allreduce.\n",
      "INFO:tensorflow:Using MirroredStrategy with devices ('/job:localhost/replica:0/task:0/device:CPU:0',)\n",
      "I0507 15:26:09.272504 140435210819392 mirrored_strategy.py:374] Using MirroredStrategy with devices ('/job:localhost/replica:0/task:0/device:CPU:0',)\n",
      "INFO:tensorflow:Maybe overwriting train_steps: 10000\n",
      "I0507 15:26:09.274042 140435210819392 config_util.py:552] Maybe overwriting train_steps: 10000\n",
      "INFO:tensorflow:Maybe overwriting use_bfloat16: False\n",
      "I0507 15:26:09.274094 140435210819392 config_util.py:552] Maybe overwriting use_bfloat16: False\n",
      "WARNING:tensorflow:From /home/simon/Simon/Hochschule/Innot/TFODCourse/tfod/lib/python3.10/site-packages/object_detection/model_lib_v2.py:563: StrategyBase.experimental_distribute_datasets_from_function (from tensorflow.python.distribute.distribute_lib) is deprecated and will be removed in a future version.\n",
      "Instructions for updating:\n",
      "rename to distribute_datasets_from_function\n",
      "W0507 15:26:09.284242 140435210819392 deprecation.py:337] From /home/simon/Simon/Hochschule/Innot/TFODCourse/tfod/lib/python3.10/site-packages/object_detection/model_lib_v2.py:563: StrategyBase.experimental_distribute_datasets_from_function (from tensorflow.python.distribute.distribute_lib) is deprecated and will be removed in a future version.\n",
      "Instructions for updating:\n",
      "rename to distribute_datasets_from_function\n",
      "INFO:tensorflow:Reading unweighted datasets: ['Tensorflow/workspaceInnot/annotations/train.record']\n",
      "I0507 15:26:09.286295 140435210819392 dataset_builder.py:163] Reading unweighted datasets: ['Tensorflow/workspaceInnot/annotations/train.record']\n",
      "INFO:tensorflow:Reading record datasets for input file: ['Tensorflow/workspaceInnot/annotations/train.record']\n",
      "I0507 15:26:09.286360 140435210819392 dataset_builder.py:80] Reading record datasets for input file: ['Tensorflow/workspaceInnot/annotations/train.record']\n",
      "INFO:tensorflow:Number of filenames to read: 1\n",
      "I0507 15:26:09.286384 140435210819392 dataset_builder.py:81] Number of filenames to read: 1\n",
      "WARNING:tensorflow:num_readers has been reduced to 1 to match input file shards.\n",
      "W0507 15:26:09.286403 140435210819392 dataset_builder.py:87] num_readers has been reduced to 1 to match input file shards.\n",
      "WARNING:tensorflow:From /home/simon/Simon/Hochschule/Innot/TFODCourse/tfod/lib/python3.10/site-packages/object_detection/builders/dataset_builder.py:101: parallel_interleave (from tensorflow.python.data.experimental.ops.interleave_ops) is deprecated and will be removed in a future version.\n",
      "Instructions for updating:\n",
      "Use `tf.data.Dataset.interleave(map_func, cycle_length, block_length, num_parallel_calls=tf.data.AUTOTUNE)` instead. If sloppy execution is desired, use `tf.data.Options.deterministic`.\n",
      "W0507 15:26:09.287261 140435210819392 deprecation.py:337] From /home/simon/Simon/Hochschule/Innot/TFODCourse/tfod/lib/python3.10/site-packages/object_detection/builders/dataset_builder.py:101: parallel_interleave (from tensorflow.python.data.experimental.ops.interleave_ops) is deprecated and will be removed in a future version.\n",
      "Instructions for updating:\n",
      "Use `tf.data.Dataset.interleave(map_func, cycle_length, block_length, num_parallel_calls=tf.data.AUTOTUNE)` instead. If sloppy execution is desired, use `tf.data.Options.deterministic`.\n",
      "WARNING:tensorflow:From /home/simon/Simon/Hochschule/Innot/TFODCourse/tfod/lib/python3.10/site-packages/object_detection/builders/dataset_builder.py:236: DatasetV1.map_with_legacy_function (from tensorflow.python.data.ops.dataset_ops) is deprecated and will be removed in a future version.\n",
      "Instructions for updating:\n",
      "Use `tf.data.Dataset.map()\n",
      "W0507 15:26:09.296869 140435210819392 deprecation.py:337] From /home/simon/Simon/Hochschule/Innot/TFODCourse/tfod/lib/python3.10/site-packages/object_detection/builders/dataset_builder.py:236: DatasetV1.map_with_legacy_function (from tensorflow.python.data.ops.dataset_ops) is deprecated and will be removed in a future version.\n",
      "Instructions for updating:\n",
      "Use `tf.data.Dataset.map()\n"
     ]
    },
    {
     "name": "stdout",
     "output_type": "stream",
     "text": [
      "WARNING:tensorflow:From /home/simon/Simon/Hochschule/Innot/TFODCourse/tfod/lib/python3.10/site-packages/tensorflow/python/util/dispatch.py:1082: sparse_to_dense (from tensorflow.python.ops.sparse_ops) is deprecated and will be removed in a future version.\n",
      "Instructions for updating:\n",
      "Create a `tf.sparse.SparseTensor` and use `tf.sparse.to_dense` instead.\n",
      "W0507 15:26:11.784435 140435210819392 deprecation.py:337] From /home/simon/Simon/Hochschule/Innot/TFODCourse/tfod/lib/python3.10/site-packages/tensorflow/python/util/dispatch.py:1082: sparse_to_dense (from tensorflow.python.ops.sparse_ops) is deprecated and will be removed in a future version.\n",
      "Instructions for updating:\n",
      "Create a `tf.sparse.SparseTensor` and use `tf.sparse.to_dense` instead.\n",
      "WARNING:tensorflow:From /home/simon/Simon/Hochschule/Innot/TFODCourse/tfod/lib/python3.10/site-packages/tensorflow/python/util/dispatch.py:1082: sample_distorted_bounding_box (from tensorflow.python.ops.image_ops_impl) is deprecated and will be removed in a future version.\n",
      "Instructions for updating:\n",
      "`seed2` arg is deprecated.Use sample_distorted_bounding_box_v2 instead.\n",
      "W0507 15:26:12.869941 140435210819392 deprecation.py:337] From /home/simon/Simon/Hochschule/Innot/TFODCourse/tfod/lib/python3.10/site-packages/tensorflow/python/util/dispatch.py:1082: sample_distorted_bounding_box (from tensorflow.python.ops.image_ops_impl) is deprecated and will be removed in a future version.\n",
      "Instructions for updating:\n",
      "`seed2` arg is deprecated.Use sample_distorted_bounding_box_v2 instead.\n",
      "WARNING:tensorflow:From /home/simon/Simon/Hochschule/Innot/TFODCourse/tfod/lib/python3.10/site-packages/tensorflow/python/util/dispatch.py:1082: to_float (from tensorflow.python.ops.math_ops) is deprecated and will be removed in a future version.\n",
      "Instructions for updating:\n",
      "Use `tf.cast` instead.\n",
      "W0507 15:26:13.496259 140435210819392 deprecation.py:337] From /home/simon/Simon/Hochschule/Innot/TFODCourse/tfod/lib/python3.10/site-packages/tensorflow/python/util/dispatch.py:1082: to_float (from tensorflow.python.ops.math_ops) is deprecated and will be removed in a future version.\n",
      "Instructions for updating:\n",
      "Use `tf.cast` instead.\n",
      "2022-05-07 15:26:14.416214: W tensorflow/core/framework/dataset.cc:768] Input of GeneratorDatasetOp::Dataset will not be optimized because the dataset does not implement the AsGraphDefInternal() method needed to apply optimizations.\n",
      "/home/simon/Simon/Hochschule/Innot/TFODCourse/tfod/lib/python3.10/site-packages/keras/backend.py:450: UserWarning: `tf.keras.backend.set_learning_phase` is deprecated and will be removed after 2020-10-11. To update it, simply pass a True/False value to the `training` argument of the `__call__` method of your layer or model.\n",
      "  warnings.warn('`tf.keras.backend.set_learning_phase` is deprecated and '\n",
      "WARNING:tensorflow:From /home/simon/Simon/Hochschule/Innot/TFODCourse/tfod/lib/python3.10/site-packages/tensorflow/python/util/deprecation.py:616: calling map_fn_v2 (from tensorflow.python.ops.map_fn) with dtype is deprecated and will be removed in a future version.\n",
      "Instructions for updating:\n",
      "Use fn_output_signature instead\n",
      "W0507 15:26:21.939163 140425985758784 deprecation.py:541] From /home/simon/Simon/Hochschule/Innot/TFODCourse/tfod/lib/python3.10/site-packages/tensorflow/python/util/deprecation.py:616: calling map_fn_v2 (from tensorflow.python.ops.map_fn) with dtype is deprecated and will be removed in a future version.\n",
      "Instructions for updating:\n",
      "Use fn_output_signature instead\n"
     ]
    }
   ],
   "source": [
    "!{command}"
   ]
  },
  {
   "cell_type": "markdown",
   "metadata": {
    "id": "4_YRZu7npfDH"
   },
   "source": [
    "# 7. Evaluate the Model"
   ]
  },
  {
   "cell_type": "code",
   "execution_count": 24,
   "metadata": {
    "id": "80L7-fdPpfDH"
   },
   "outputs": [],
   "source": [
    "command = \"python {} --model_dir={} --pipeline_config_path={} --checkpoint_dir={}\".format(TRAINING_SCRIPT, paths['CHECKPOINT_PATH'],files['PIPELINE_CONFIG'], paths['CHECKPOINT_PATH'])"
   ]
  },
  {
   "cell_type": "code",
   "execution_count": 25,
   "metadata": {
    "colab": {
     "base_uri": "https://localhost:8080/"
    },
    "id": "lYsgEPx9pfDH",
    "outputId": "8632d48b-91d2-45d9-bcb8-c1b172bf6eed"
   },
   "outputs": [
    {
     "name": "stdout",
     "output_type": "stream",
     "text": [
      "python Tensorflow/models/research/object_detection/model_main_tf2.py --model_dir=Tensorflow/workspaceInnot/models/mainModel02 --pipeline_config_path=Tensorflow/workspaceInnot/models/mainModel02/pipeline.config --checkpoint_dir=Tensorflow/workspaceInnot/models/mainModel02\n"
     ]
    }
   ],
   "source": [
    "print(command)"
   ]
  },
  {
   "cell_type": "code",
   "execution_count": 51,
   "metadata": {
    "id": "lqTV2jGBpfDH"
   },
   "outputs": [
    {
     "name": "stdout",
     "output_type": "stream",
     "text": [
      "2022-05-25 18:17:24.814143: W tensorflow/stream_executor/platform/default/dso_loader.cc:64] Could not load dynamic library 'libcudart.so.11.0'; dlerror: libcudart.so.11.0: cannot open shared object file: No such file or directory\n",
      "2022-05-25 18:17:24.814163: I tensorflow/stream_executor/cuda/cudart_stub.cc:29] Ignore above cudart dlerror if you do not have a GPU set up on your machine.\n",
      "2022-05-25 18:17:26.166620: I tensorflow/stream_executor/cuda/cuda_gpu_executor.cc:936] successful NUMA node read from SysFS had negative value (-1), but there must be at least one NUMA node, so returning NUMA node zero\n",
      "2022-05-25 18:17:26.166959: W tensorflow/stream_executor/platform/default/dso_loader.cc:64] Could not load dynamic library 'libcudart.so.11.0'; dlerror: libcudart.so.11.0: cannot open shared object file: No such file or directory; LD_LIBRARY_PATH: /home/simon/Simon/Hochschule/Innot/TFODCourse/tfod/lib/python3.10/site-packages/cv2/../../lib64:\n",
      "2022-05-25 18:17:26.166988: W tensorflow/stream_executor/platform/default/dso_loader.cc:64] Could not load dynamic library 'libcublas.so.11'; dlerror: libcublas.so.11: cannot open shared object file: No such file or directory; LD_LIBRARY_PATH: /home/simon/Simon/Hochschule/Innot/TFODCourse/tfod/lib/python3.10/site-packages/cv2/../../lib64:\n",
      "2022-05-25 18:17:26.167006: W tensorflow/stream_executor/platform/default/dso_loader.cc:64] Could not load dynamic library 'libcublasLt.so.11'; dlerror: libcublasLt.so.11: cannot open shared object file: No such file or directory; LD_LIBRARY_PATH: /home/simon/Simon/Hochschule/Innot/TFODCourse/tfod/lib/python3.10/site-packages/cv2/../../lib64:\n",
      "2022-05-25 18:17:26.167025: W tensorflow/stream_executor/platform/default/dso_loader.cc:64] Could not load dynamic library 'libcufft.so.10'; dlerror: libcufft.so.10: cannot open shared object file: No such file or directory; LD_LIBRARY_PATH: /home/simon/Simon/Hochschule/Innot/TFODCourse/tfod/lib/python3.10/site-packages/cv2/../../lib64:\n",
      "2022-05-25 18:17:26.167043: W tensorflow/stream_executor/platform/default/dso_loader.cc:64] Could not load dynamic library 'libcurand.so.10'; dlerror: libcurand.so.10: cannot open shared object file: No such file or directory; LD_LIBRARY_PATH: /home/simon/Simon/Hochschule/Innot/TFODCourse/tfod/lib/python3.10/site-packages/cv2/../../lib64:\n",
      "2022-05-25 18:17:26.167060: W tensorflow/stream_executor/platform/default/dso_loader.cc:64] Could not load dynamic library 'libcusolver.so.11'; dlerror: libcusolver.so.11: cannot open shared object file: No such file or directory; LD_LIBRARY_PATH: /home/simon/Simon/Hochschule/Innot/TFODCourse/tfod/lib/python3.10/site-packages/cv2/../../lib64:\n",
      "2022-05-25 18:17:26.167078: W tensorflow/stream_executor/platform/default/dso_loader.cc:64] Could not load dynamic library 'libcusparse.so.11'; dlerror: libcusparse.so.11: cannot open shared object file: No such file or directory; LD_LIBRARY_PATH: /home/simon/Simon/Hochschule/Innot/TFODCourse/tfod/lib/python3.10/site-packages/cv2/../../lib64:\n",
      "2022-05-25 18:17:26.167096: W tensorflow/stream_executor/platform/default/dso_loader.cc:64] Could not load dynamic library 'libcudnn.so.8'; dlerror: libcudnn.so.8: cannot open shared object file: No such file or directory; LD_LIBRARY_PATH: /home/simon/Simon/Hochschule/Innot/TFODCourse/tfod/lib/python3.10/site-packages/cv2/../../lib64:\n",
      "2022-05-25 18:17:26.167100: W tensorflow/core/common_runtime/gpu/gpu_device.cc:1850] Cannot dlopen some GPU libraries. Please make sure the missing libraries mentioned above are installed properly if you would like to use GPU. Follow the guide at https://www.tensorflow.org/install/gpu for how to download and setup the required libraries for your platform.\n",
      "Skipping registering GPU devices...\n",
      "WARNING:tensorflow:Forced number of epochs for all eval validations to be 1.\n",
      "W0525 18:17:26.168400 140560035055424 model_lib_v2.py:1089] Forced number of epochs for all eval validations to be 1.\n",
      "INFO:tensorflow:Maybe overwriting sample_1_of_n_eval_examples: None\n",
      "I0525 18:17:26.168478 140560035055424 config_util.py:552] Maybe overwriting sample_1_of_n_eval_examples: None\n",
      "INFO:tensorflow:Maybe overwriting use_bfloat16: False\n",
      "I0525 18:17:26.168504 140560035055424 config_util.py:552] Maybe overwriting use_bfloat16: False\n",
      "INFO:tensorflow:Maybe overwriting eval_num_epochs: 1\n",
      "I0525 18:17:26.168526 140560035055424 config_util.py:552] Maybe overwriting eval_num_epochs: 1\n",
      "WARNING:tensorflow:Expected number of evaluation epochs is 1, but instead encountered `eval_on_train_input_config.num_epochs` = 0. Overwriting `num_epochs` to 1.\n",
      "W0525 18:17:26.168557 140560035055424 model_lib_v2.py:1107] Expected number of evaluation epochs is 1, but instead encountered `eval_on_train_input_config.num_epochs` = 0. Overwriting `num_epochs` to 1.\n",
      "2022-05-25 18:17:26.170022: I tensorflow/core/platform/cpu_feature_guard.cc:151] This TensorFlow binary is optimized with oneAPI Deep Neural Network Library (oneDNN) to use the following CPU instructions in performance-critical operations:  AVX2 FMA\n",
      "To enable them in other operations, rebuild TensorFlow with the appropriate compiler flags.\n",
      "INFO:tensorflow:Reading unweighted datasets: ['Tensorflow/workspaceInnot/annotations/test.record']\n",
      "I0525 18:17:26.183985 140560035055424 dataset_builder.py:163] Reading unweighted datasets: ['Tensorflow/workspaceInnot/annotations/test.record']\n",
      "INFO:tensorflow:Reading record datasets for input file: ['Tensorflow/workspaceInnot/annotations/test.record']\n",
      "I0525 18:17:26.184077 140560035055424 dataset_builder.py:80] Reading record datasets for input file: ['Tensorflow/workspaceInnot/annotations/test.record']\n",
      "INFO:tensorflow:Number of filenames to read: 1\n",
      "I0525 18:17:26.184103 140560035055424 dataset_builder.py:81] Number of filenames to read: 1\n",
      "WARNING:tensorflow:num_readers has been reduced to 1 to match input file shards.\n",
      "W0525 18:17:26.184122 140560035055424 dataset_builder.py:87] num_readers has been reduced to 1 to match input file shards.\n",
      "WARNING:tensorflow:From /home/simon/Simon/Hochschule/Innot/TFODCourse/tfod/lib/python3.10/site-packages/object_detection/builders/dataset_builder.py:101: parallel_interleave (from tensorflow.python.data.experimental.ops.interleave_ops) is deprecated and will be removed in a future version.\n",
      "Instructions for updating:\n",
      "Use `tf.data.Dataset.interleave(map_func, cycle_length, block_length, num_parallel_calls=tf.data.AUTOTUNE)` instead. If sloppy execution is desired, use `tf.data.Options.deterministic`.\n",
      "W0525 18:17:26.184770 140560035055424 deprecation.py:337] From /home/simon/Simon/Hochschule/Innot/TFODCourse/tfod/lib/python3.10/site-packages/object_detection/builders/dataset_builder.py:101: parallel_interleave (from tensorflow.python.data.experimental.ops.interleave_ops) is deprecated and will be removed in a future version.\n",
      "Instructions for updating:\n",
      "Use `tf.data.Dataset.interleave(map_func, cycle_length, block_length, num_parallel_calls=tf.data.AUTOTUNE)` instead. If sloppy execution is desired, use `tf.data.Options.deterministic`.\n",
      "WARNING:tensorflow:From /home/simon/Simon/Hochschule/Innot/TFODCourse/tfod/lib/python3.10/site-packages/object_detection/builders/dataset_builder.py:236: DatasetV1.map_with_legacy_function (from tensorflow.python.data.ops.dataset_ops) is deprecated and will be removed in a future version.\n",
      "Instructions for updating:\n",
      "Use `tf.data.Dataset.map()\n",
      "W0525 18:17:26.195746 140560035055424 deprecation.py:337] From /home/simon/Simon/Hochschule/Innot/TFODCourse/tfod/lib/python3.10/site-packages/object_detection/builders/dataset_builder.py:236: DatasetV1.map_with_legacy_function (from tensorflow.python.data.ops.dataset_ops) is deprecated and will be removed in a future version.\n",
      "Instructions for updating:\n",
      "Use `tf.data.Dataset.map()\n",
      "WARNING:tensorflow:From /home/simon/Simon/Hochschule/Innot/TFODCourse/tfod/lib/python3.10/site-packages/tensorflow/python/util/dispatch.py:1082: sparse_to_dense (from tensorflow.python.ops.sparse_ops) is deprecated and will be removed in a future version.\n",
      "Instructions for updating:\n",
      "Create a `tf.sparse.SparseTensor` and use `tf.sparse.to_dense` instead.\n",
      "W0525 18:17:27.668692 140560035055424 deprecation.py:337] From /home/simon/Simon/Hochschule/Innot/TFODCourse/tfod/lib/python3.10/site-packages/tensorflow/python/util/dispatch.py:1082: sparse_to_dense (from tensorflow.python.ops.sparse_ops) is deprecated and will be removed in a future version.\n",
      "Instructions for updating:\n",
      "Create a `tf.sparse.SparseTensor` and use `tf.sparse.to_dense` instead.\n"
     ]
    },
    {
     "name": "stdout",
     "output_type": "stream",
     "text": [
      "WARNING:tensorflow:From /home/simon/Simon/Hochschule/Innot/TFODCourse/tfod/lib/python3.10/site-packages/tensorflow/python/util/dispatch.py:1082: to_float (from tensorflow.python.ops.math_ops) is deprecated and will be removed in a future version.\n",
      "Instructions for updating:\n",
      "Use `tf.cast` instead.\n",
      "W0525 18:17:28.083731 140560035055424 deprecation.py:337] From /home/simon/Simon/Hochschule/Innot/TFODCourse/tfod/lib/python3.10/site-packages/tensorflow/python/util/dispatch.py:1082: to_float (from tensorflow.python.ops.math_ops) is deprecated and will be removed in a future version.\n",
      "Instructions for updating:\n",
      "Use `tf.cast` instead.\n",
      "INFO:tensorflow:Waiting for new checkpoint at Tensorflow/workspaceInnot/models/mainModel02\n",
      "I0525 18:17:28.963701 140560035055424 checkpoint_utils.py:136] Waiting for new checkpoint at Tensorflow/workspaceInnot/models/mainModel02\n",
      "INFO:tensorflow:Found new checkpoint at Tensorflow/workspaceInnot/models/mainModel02/ckpt-21\n",
      "I0525 18:17:28.964203 140560035055424 checkpoint_utils.py:145] Found new checkpoint at Tensorflow/workspaceInnot/models/mainModel02/ckpt-21\n",
      "/home/simon/Simon/Hochschule/Innot/TFODCourse/tfod/lib/python3.10/site-packages/keras/backend.py:450: UserWarning: `tf.keras.backend.set_learning_phase` is deprecated and will be removed after 2020-10-11. To update it, simply pass a True/False value to the `training` argument of the `__call__` method of your layer or model.\n",
      "  warnings.warn('`tf.keras.backend.set_learning_phase` is deprecated and '\n",
      "^C\n",
      "Traceback (most recent call last):\n",
      "  File \"/home/simon/Simon/Hochschule/Innot/TFODCourse/Tensorflow/models/research/object_detection/model_main_tf2.py\", line 115, in <module>\n",
      "    tf.compat.v1.app.run()\n",
      "  File \"/home/simon/Simon/Hochschule/Innot/TFODCourse/tfod/lib/python3.10/site-packages/tensorflow/python/platform/app.py\", line 36, in run\n",
      "    _run(main=main, argv=argv, flags_parser=_parse_flags_tolerate_undef)\n",
      "  File \"/home/simon/Simon/Hochschule/Innot/TFODCourse/tfod/lib/python3.10/site-packages/absl/app.py\", line 312, in run\n",
      "    _run_main(main, args)\n",
      "  File \"/home/simon/Simon/Hochschule/Innot/TFODCourse/tfod/lib/python3.10/site-packages/absl/app.py\", line 258, in _run_main\n",
      "    sys.exit(main(argv))\n",
      "  File \"/home/simon/Simon/Hochschule/Innot/TFODCourse/Tensorflow/models/research/object_detection/model_main_tf2.py\", line 82, in main\n",
      "    model_lib_v2.eval_continuously(\n",
      "  File \"/home/simon/Simon/Hochschule/Innot/TFODCourse/tfod/lib/python3.10/site-packages/object_detection/model_lib_v2.py\", line 1159, in eval_continuously\n",
      "    eager_eval_loop(\n",
      "  File \"/home/simon/Simon/Hochschule/Innot/TFODCourse/tfod/lib/python3.10/site-packages/object_detection/model_lib_v2.py\", line 939, in eager_eval_loop\n",
      "    eval_features) = strategy.run(\n",
      "  File \"/home/simon/Simon/Hochschule/Innot/TFODCourse/tfod/lib/python3.10/site-packages/tensorflow/python/distribute/distribute_lib.py\", line 1312, in run\n",
      "    return self._extended.call_for_each_replica(fn, args=args, kwargs=kwargs)\n",
      "  File \"/home/simon/Simon/Hochschule/Innot/TFODCourse/tfod/lib/python3.10/site-packages/tensorflow/python/distribute/distribute_lib.py\", line 2888, in call_for_each_replica\n",
      "    return self._call_for_each_replica(fn, args, kwargs)\n",
      "  File \"/home/simon/Simon/Hochschule/Innot/TFODCourse/tfod/lib/python3.10/site-packages/tensorflow/python/distribute/distribute_lib.py\", line 3689, in _call_for_each_replica\n",
      "    return fn(*args, **kwargs)\n",
      "  File \"/home/simon/Simon/Hochschule/Innot/TFODCourse/tfod/lib/python3.10/site-packages/tensorflow/python/util/traceback_utils.py\", line 150, in error_handler\n",
      "    return fn(*args, **kwargs)\n",
      "  File \"/home/simon/Simon/Hochschule/Innot/TFODCourse/tfod/lib/python3.10/site-packages/tensorflow/python/eager/def_function.py\", line 915, in __call__\n",
      "    result = self._call(*args, **kwds)\n",
      "  File \"/home/simon/Simon/Hochschule/Innot/TFODCourse/tfod/lib/python3.10/site-packages/tensorflow/python/eager/def_function.py\", line 963, in _call\n",
      "    self._initialize(args, kwds, add_initializers_to=initializers)\n",
      "  File \"/home/simon/Simon/Hochschule/Innot/TFODCourse/tfod/lib/python3.10/site-packages/tensorflow/python/eager/def_function.py\", line 785, in _initialize\n",
      "    self._stateful_fn._get_concrete_function_internal_garbage_collected(  # pylint: disable=protected-access\n",
      "  File \"/home/simon/Simon/Hochschule/Innot/TFODCourse/tfod/lib/python3.10/site-packages/tensorflow/python/eager/function.py\", line 2983, in _get_concrete_function_internal_garbage_collected\n",
      "    graph_function, _ = self._maybe_define_function(args, kwargs)\n",
      "  File \"/home/simon/Simon/Hochschule/Innot/TFODCourse/tfod/lib/python3.10/site-packages/tensorflow/python/eager/function.py\", line 3292, in _maybe_define_function\n",
      "    graph_function = self._create_graph_function(args, kwargs)\n",
      "  File \"/home/simon/Simon/Hochschule/Innot/TFODCourse/tfod/lib/python3.10/site-packages/tensorflow/python/eager/function.py\", line 3130, in _create_graph_function\n",
      "    func_graph_module.func_graph_from_py_func(\n",
      "  File \"/home/simon/Simon/Hochschule/Innot/TFODCourse/tfod/lib/python3.10/site-packages/tensorflow/python/framework/func_graph.py\", line 1161, in func_graph_from_py_func\n",
      "    func_outputs = python_func(*func_args, **func_kwargs)\n",
      "  File \"/home/simon/Simon/Hochschule/Innot/TFODCourse/tfod/lib/python3.10/site-packages/tensorflow/python/eager/def_function.py\", line 677, in wrapped_fn\n",
      "    out = weak_wrapped_fn().__wrapped__(*args, **kwds)\n",
      "  File \"/home/simon/Simon/Hochschule/Innot/TFODCourse/tfod/lib/python3.10/site-packages/tensorflow/python/framework/func_graph.py\", line 1136, in autograph_handler\n",
      "    return autograph.converted_call(\n",
      "  File \"/home/simon/Simon/Hochschule/Innot/TFODCourse/tfod/lib/python3.10/site-packages/tensorflow/python/autograph/impl/api.py\", line 439, in converted_call\n",
      "    result = converted_f(*effective_args, **kwargs)\n",
      "  File \"/tmp/__autograph_generated_file6r3z5jwk.py\", line 20, in tf__compute_eval_dict\n",
      "    (losses_dict, prediction_dict) = ag__.converted_call(ag__.ld(_compute_losses_and_predictions_dicts), (ag__.ld(detection_model), ag__.ld(features), ag__.ld(labels)), dict(training_step=None, add_regularization_loss=ag__.ld(add_regularization_loss)), fscope)\n",
      "  File \"/home/simon/Simon/Hochschule/Innot/TFODCourse/tfod/lib/python3.10/site-packages/tensorflow/python/autograph/impl/api.py\", line 439, in converted_call\n",
      "    result = converted_f(*effective_args, **kwargs)\n",
      "  File \"/tmp/__autograph_generated_filetqblkpmt.py\", line 79, in tf___compute_losses_and_predictions_dicts\n",
      "    losses_dict = ag__.converted_call(ag__.ld(model).loss, (ag__.ld(prediction_dict), ag__.ld(features)[ag__.ld(fields).InputDataFields.true_image_shape]), None, fscope)\n",
      "  File \"/home/simon/Simon/Hochschule/Innot/TFODCourse/tfod/lib/python3.10/site-packages/tensorflow/python/autograph/impl/api.py\", line 441, in converted_call\n",
      "    result = converted_f(*effective_args)\n",
      "  File \"/tmp/__autograph_generated_fileaw4xom49.py\", line 100, in tf__loss\n",
      "    ag__.if_stmt(ag__.ld(self)._add_summaries, if_body_3, else_body_3, get_state_3, set_state_3, (), 0)\n",
      "  File \"/home/simon/Simon/Hochschule/Innot/TFODCourse/tfod/lib/python3.10/site-packages/tensorflow/python/autograph/operators/control_flow.py\", line 1321, in if_stmt\n",
      "    _py_if_stmt(cond, body, orelse)\n",
      "  File \"/home/simon/Simon/Hochschule/Innot/TFODCourse/tfod/lib/python3.10/site-packages/tensorflow/python/autograph/operators/control_flow.py\", line 1374, in _py_if_stmt\n",
      "    return body() if cond else orelse()\n",
      "  File \"/tmp/__autograph_generated_fileaw4xom49.py\", line 96, in if_body_3\n",
      "    ag__.converted_call(ag__.ld(self)._summarize_target_assignment, (ag__.converted_call(ag__.ld(self).groundtruth_lists, (ag__.ld(fields).BoxListFields.boxes,), None, fscope), ag__.ld(match_list)), None, fscope)\n",
      "  File \"/home/simon/Simon/Hochschule/Innot/TFODCourse/tfod/lib/python3.10/site-packages/tensorflow/python/autograph/impl/api.py\", line 427, in converted_call\n",
      "    converted_f = _convert_actual(target_entity, program_ctx)\n",
      "  File \"/home/simon/Simon/Hochschule/Innot/TFODCourse/tfod/lib/python3.10/site-packages/tensorflow/python/autograph/impl/api.py\", line 269, in _convert_actual\n",
      "    transformed, module, source_map = _TRANSPILER.transform(entity, program_ctx)\n",
      "  File \"/home/simon/Simon/Hochschule/Innot/TFODCourse/tfod/lib/python3.10/site-packages/tensorflow/python/autograph/pyct/transpiler.py\", line 282, in transform\n",
      "    return self.transform_function(obj, user_context)\n",
      "  File \"/home/simon/Simon/Hochschule/Innot/TFODCourse/tfod/lib/python3.10/site-packages/tensorflow/python/autograph/pyct/transpiler.py\", line 466, in transform_function\n",
      "    nodes, ctx = super(PyToPy, self).transform_function(fn, user_context)\n",
      "  File \"/home/simon/Simon/Hochschule/Innot/TFODCourse/tfod/lib/python3.10/site-packages/tensorflow/python/autograph/pyct/transpiler.py\", line 359, in transform_function\n",
      "    result = self.transform_ast(node, context)\n",
      "  File \"/home/simon/Simon/Hochschule/Innot/TFODCourse/tfod/lib/python3.10/site-packages/tensorflow/python/autograph/impl/api.py\", line 255, in transform_ast\n",
      "    node = logical_expressions.transform(node, ctx)\n",
      "  File \"/home/simon/Simon/Hochschule/Innot/TFODCourse/tfod/lib/python3.10/site-packages/tensorflow/python/autograph/converters/logical_expressions.py\", line 133, in transform\n",
      "    return transformer.visit(node)\n",
      "  File \"/home/simon/Simon/Hochschule/Innot/TFODCourse/tfod/lib/python3.10/site-packages/tensorflow/python/autograph/core/converter.py\", line 315, in visit\n",
      "    return super(Base, self).visit(node)\n",
      "  File \"/home/simon/Simon/Hochschule/Innot/TFODCourse/tfod/lib/python3.10/site-packages/tensorflow/python/autograph/pyct/transformer.py\", line 441, in visit\n",
      "    result = super(Base, self).visit(node)\n",
      "  File \"/usr/lib/python3.10/ast.py\", line 410, in visit\n",
      "    return visitor(node)\n",
      "  File \"/usr/lib/python3.10/ast.py\", line 486, in generic_visit\n",
      "    value = self.visit(value)\n",
      "  File \"/home/simon/Simon/Hochschule/Innot/TFODCourse/tfod/lib/python3.10/site-packages/tensorflow/python/autograph/core/converter.py\", line 315, in visit\n",
      "    return super(Base, self).visit(node)\n",
      "  File \"/home/simon/Simon/Hochschule/Innot/TFODCourse/tfod/lib/python3.10/site-packages/tensorflow/python/autograph/pyct/transformer.py\", line 441, in visit\n",
      "    result = super(Base, self).visit(node)\n",
      "  File \"/usr/lib/python3.10/ast.py\", line 410, in visit\n",
      "    return visitor(node)\n",
      "  File \"/usr/lib/python3.10/ast.py\", line 486, in generic_visit\n",
      "    value = self.visit(value)\n",
      "  File \"/home/simon/Simon/Hochschule/Innot/TFODCourse/tfod/lib/python3.10/site-packages/tensorflow/python/autograph/core/converter.py\", line 315, in visit\n",
      "    return super(Base, self).visit(node)\n",
      "  File \"/home/simon/Simon/Hochschule/Innot/TFODCourse/tfod/lib/python3.10/site-packages/tensorflow/python/autograph/pyct/transformer.py\", line 441, in visit\n",
      "    result = super(Base, self).visit(node)\n",
      "  File \"/usr/lib/python3.10/ast.py\", line 410, in visit\n",
      "    return visitor(node)\n",
      "  File \"/usr/lib/python3.10/ast.py\", line 486, in generic_visit\n",
      "    value = self.visit(value)\n",
      "  File \"/home/simon/Simon/Hochschule/Innot/TFODCourse/tfod/lib/python3.10/site-packages/tensorflow/python/autograph/core/converter.py\", line 315, in visit\n",
      "    return super(Base, self).visit(node)\n",
      "  File \"/home/simon/Simon/Hochschule/Innot/TFODCourse/tfod/lib/python3.10/site-packages/tensorflow/python/autograph/pyct/transformer.py\", line 441, in visit\n",
      "    result = super(Base, self).visit(node)\n",
      "  File \"/usr/lib/python3.10/ast.py\", line 410, in visit\n",
      "    return visitor(node)\n",
      "  File \"/usr/lib/python3.10/ast.py\", line 495, in generic_visit\n",
      "    new_node = self.visit(old_value)\n",
      "  File \"/home/simon/Simon/Hochschule/Innot/TFODCourse/tfod/lib/python3.10/site-packages/tensorflow/python/autograph/core/converter.py\", line 315, in visit\n",
      "    return super(Base, self).visit(node)\n",
      "  File \"/home/simon/Simon/Hochschule/Innot/TFODCourse/tfod/lib/python3.10/site-packages/tensorflow/python/autograph/pyct/transformer.py\", line 441, in visit\n",
      "    result = super(Base, self).visit(node)\n",
      "  File \"/usr/lib/python3.10/ast.py\", line 410, in visit\n",
      "    return visitor(node)\n",
      "  File \"/usr/lib/python3.10/ast.py\", line 486, in generic_visit\n",
      "    value = self.visit(value)\n",
      "  File \"/home/simon/Simon/Hochschule/Innot/TFODCourse/tfod/lib/python3.10/site-packages/tensorflow/python/autograph/core/converter.py\", line 315, in visit\n",
      "    return super(Base, self).visit(node)\n",
      "  File \"/home/simon/Simon/Hochschule/Innot/TFODCourse/tfod/lib/python3.10/site-packages/tensorflow/python/autograph/pyct/transformer.py\", line 441, in visit\n",
      "    result = super(Base, self).visit(node)\n",
      "  File \"/usr/lib/python3.10/ast.py\", line 410, in visit\n",
      "    return visitor(node)\n",
      "  File \"/usr/lib/python3.10/ast.py\", line 486, in generic_visit\n",
      "    value = self.visit(value)\n",
      "  File \"/home/simon/Simon/Hochschule/Innot/TFODCourse/tfod/lib/python3.10/site-packages/tensorflow/python/autograph/core/converter.py\", line 315, in visit\n",
      "    return super(Base, self).visit(node)\n",
      "  File \"/home/simon/Simon/Hochschule/Innot/TFODCourse/tfod/lib/python3.10/site-packages/tensorflow/python/autograph/pyct/transformer.py\", line 441, in visit\n",
      "    result = super(Base, self).visit(node)\n",
      "  File \"/usr/lib/python3.10/ast.py\", line 410, in visit\n",
      "    return visitor(node)\n",
      "  File \"/usr/lib/python3.10/ast.py\", line 486, in generic_visit\n",
      "    value = self.visit(value)\n",
      "  File \"/home/simon/Simon/Hochschule/Innot/TFODCourse/tfod/lib/python3.10/site-packages/tensorflow/python/autograph/core/converter.py\", line 315, in visit\n",
      "    return super(Base, self).visit(node)\n",
      "  File \"/home/simon/Simon/Hochschule/Innot/TFODCourse/tfod/lib/python3.10/site-packages/tensorflow/python/autograph/pyct/transformer.py\", line 441, in visit\n",
      "    result = super(Base, self).visit(node)\n",
      "  File \"/usr/lib/python3.10/ast.py\", line 410, in visit\n",
      "    return visitor(node)\n",
      "  File \"/usr/lib/python3.10/ast.py\", line 486, in generic_visit\n",
      "    value = self.visit(value)\n",
      "  File \"/home/simon/Simon/Hochschule/Innot/TFODCourse/tfod/lib/python3.10/site-packages/tensorflow/python/autograph/core/converter.py\", line 315, in visit\n",
      "    return super(Base, self).visit(node)\n",
      "  File \"/home/simon/Simon/Hochschule/Innot/TFODCourse/tfod/lib/python3.10/site-packages/tensorflow/python/autograph/pyct/transformer.py\", line 441, in visit\n",
      "    result = super(Base, self).visit(node)\n",
      "  File \"/usr/lib/python3.10/ast.py\", line 410, in visit\n",
      "    return visitor(node)\n",
      "  File \"/usr/lib/python3.10/ast.py\", line 486, in generic_visit\n",
      "    value = self.visit(value)\n",
      "  File \"/home/simon/Simon/Hochschule/Innot/TFODCourse/tfod/lib/python3.10/site-packages/tensorflow/python/autograph/core/converter.py\", line 315, in visit\n",
      "    return super(Base, self).visit(node)\n",
      "  File \"/home/simon/Simon/Hochschule/Innot/TFODCourse/tfod/lib/python3.10/site-packages/tensorflow/python/autograph/pyct/transformer.py\", line 441, in visit\n",
      "    result = super(Base, self).visit(node)\n",
      "  File \"/usr/lib/python3.10/ast.py\", line 410, in visit\n",
      "    return visitor(node)\n",
      "  File \"/usr/lib/python3.10/ast.py\", line 495, in generic_visit\n",
      "    new_node = self.visit(old_value)\n",
      "  File \"/home/simon/Simon/Hochschule/Innot/TFODCourse/tfod/lib/python3.10/site-packages/tensorflow/python/autograph/core/converter.py\", line 315, in visit\n",
      "    return super(Base, self).visit(node)\n",
      "  File \"/home/simon/Simon/Hochschule/Innot/TFODCourse/tfod/lib/python3.10/site-packages/tensorflow/python/autograph/pyct/transformer.py\", line 441, in visit\n",
      "    result = super(Base, self).visit(node)\n",
      "  File \"/usr/lib/python3.10/ast.py\", line 410, in visit\n",
      "    return visitor(node)\n",
      "  File \"/usr/lib/python3.10/ast.py\", line 495, in generic_visit\n",
      "    new_node = self.visit(old_value)\n",
      "  File \"/home/simon/Simon/Hochschule/Innot/TFODCourse/tfod/lib/python3.10/site-packages/tensorflow/python/autograph/core/converter.py\", line 315, in visit\n",
      "    return super(Base, self).visit(node)\n",
      "  File \"/home/simon/Simon/Hochschule/Innot/TFODCourse/tfod/lib/python3.10/site-packages/tensorflow/python/autograph/pyct/transformer.py\", line 417, in visit\n",
      "    def visit(self, node):\n",
      "KeyboardInterrupt\n"
     ]
    }
   ],
   "source": [
    "!{command}"
   ]
  },
  {
   "cell_type": "code",
   "execution_count": 67,
   "metadata": {},
   "outputs": [
    {
     "ename": "SyntaxError",
     "evalue": "unmatched ')' (3282965694.py, line 1)",
     "output_type": "error",
     "traceback": [
      "\u001b[0;36m  Input \u001b[0;32mIn [67]\u001b[0;36m\u001b[0m\n\u001b[0;31m    command = \"cd \"+ TRAINING_SCRIPT, paths['CHECKPOINT_PATH'],files['PIPELINE_CONFIG'], paths['CHECKPOINT_PATH'])\u001b[0m\n\u001b[0m                                                                                                                 ^\u001b[0m\n\u001b[0;31mSyntaxError\u001b[0m\u001b[0;31m:\u001b[0m unmatched ')'\n"
     ]
    }
   ],
   "source": [
    "command = \"cd \"+ TRAINING_SCRIPT + paths['CHECKPOINT_PATH'] + files['PIPELINE_CONFIG']paths['CHECKPOINT_PATH'])\n",
    "print(command)"
   ]
  },
  {
   "cell_type": "code",
   "execution_count": 64,
   "metadata": {},
   "outputs": [
    {
     "name": "stdout",
     "output_type": "stream",
     "text": [
      "Tensorflow/workspaceInnot/models/clothesModel\n",
      "'1. Image Collection.ipynb'\t\t\t    'Error Guide.md'\n",
      " 1.Projekt2_ImageCollection.ipynb\t\t     README.md\n",
      " 2.Innot_Fashion.ipynb\t\t\t\t     requirements.txt\n",
      "'2. LoadFashenpedia.ipynb'\t\t\t     Tensorflow\n",
      "'2. Projekt2_Training and Detection - Kopie.ipynb'   tfod\n",
      "'2. Training and Detection.ipynb'\t\t     Untitled.ipynb\n",
      "/home/simon/Schreibtisch/Simon/Hochschule/Innot/TFODCourse\n"
     ]
    }
   ],
   "source": [
    "!cd Tensorflow\n",
    "print(paths['CHECKPOINT_PATH'])\n",
    "!ls\n",
    "!pwd"
   ]
  },
  {
   "cell_type": "code",
   "execution_count": 57,
   "metadata": {},
   "outputs": [
    {
     "name": "stdout",
     "output_type": "stream",
     "text": [
      "/home/simon/Schreibtisch/Simon/Hochschule/Innot/TFODCourse\r\n"
     ]
    }
   ],
   "source": []
  },
  {
   "cell_type": "markdown",
   "metadata": {
    "id": "orvRk02UpfDI"
   },
   "source": [
    "# 8. Load Train Model From Checkpoint"
   ]
  },
  {
   "cell_type": "code",
   "execution_count": 26,
   "metadata": {
    "id": "8TYk4_oIpfDI"
   },
   "outputs": [],
   "source": [
    "import os\n",
    "import tensorflow as tf\n",
    "from object_detection.utils import label_map_util\n",
    "from object_detection.utils import visualization_utils as viz_utils\n",
    "from object_detection.builders import model_builder\n",
    "from object_detection.utils import config_util"
   ]
  },
  {
   "cell_type": "code",
   "execution_count": 27,
   "metadata": {
    "id": "tDnQg-cYpfDI"
   },
   "outputs": [
    {
     "name": "stderr",
     "output_type": "stream",
     "text": [
      "2022-07-10 18:06:33.501282: I tensorflow/core/platform/cpu_feature_guard.cc:151] This TensorFlow binary is optimized with oneAPI Deep Neural Network Library (oneDNN) to use the following CPU instructions in performance-critical operations:  AVX2 FMA\n",
      "To enable them in other operations, rebuild TensorFlow with the appropriate compiler flags.\n"
     ]
    }
   ],
   "source": [
    "# Load pipeline config and build a detection model\n",
    "configs = config_util.get_configs_from_pipeline_file(files['PIPELINE_CONFIG'])\n",
    "detection_model = model_builder.build(model_config=configs['model'], is_training=False)\n",
    "\n",
    "# Restore checkpoint\n",
    "ckpt = tf.compat.v2.train.Checkpoint(model=detection_model)\n",
    "ckpt.restore(os.path.join(paths['CHECKPOINT_PATH'], 'ckpt-31')).expect_partial()\n",
    "\n",
    "@tf.function\n",
    "def detect_fn(image):\n",
    "    image, shapes = detection_model.preprocess(image)\n",
    "    prediction_dict = detection_model.predict(image, shapes)\n",
    "    detections = detection_model.postprocess(prediction_dict, shapes)\n",
    "    return detections"
   ]
  },
  {
   "cell_type": "markdown",
   "metadata": {
    "id": "0EmsmbBZpfDI"
   },
   "source": [
    "# 9. Detect from an Image"
   ]
  },
  {
   "cell_type": "code",
   "execution_count": 28,
   "metadata": {
    "id": "Y_MKiuZ4pfDI"
   },
   "outputs": [],
   "source": [
    "import cv2 \n",
    "import numpy as np\n",
    "from matplotlib import pyplot as plt\n",
    "%matplotlib inline"
   ]
  },
  {
   "cell_type": "code",
   "execution_count": 29,
   "metadata": {
    "id": "cBDbIhNapfDI"
   },
   "outputs": [],
   "source": [
    "category_index = label_map_util.create_category_index_from_labelmap(files['LABELMAP'])"
   ]
  },
  {
   "cell_type": "code",
   "execution_count": 32,
   "metadata": {
    "id": "Lx3crOhOzITB"
   },
   "outputs": [
    {
     "name": "stdout",
     "output_type": "stream",
     "text": [
      "Tensorflow/workspaceInnot/images/validation/Tanktop/Tanktop3.png\n"
     ]
    }
   ],
   "source": [
    "IMAGE_PATH = os.path.join(paths['IMAGE_PATH'], 'validation','Tanktop', \"Tanktop3.png\")\n",
    "IMAGE_PATH2 = os.path.join(paths['IMAGE_PATH'], 'validation','Jacket', \"Jacket1.png\")\n",
    "IMAGE_PATH3 = os.path.join(paths['IMAGE_PATH'], 'validation','Jogginghose', \"Jogginghose2.png\")\n",
    "IMAGE_PATH4 = os.path.join(paths['IMAGE_PATH'], 'validation','Kleid', \"Kleid2.png\")\n",
    "IMAGE_PATH5 = os.path.join(paths['IMAGE_PATH'], 'validation','Krawatte', \"Krawatte1.png\")\n",
    "IMAGE_PATH6 = os.path.join(paths['IMAGE_PATH'], 'validation','app', \"090221_plaid_skirts_lead-2000.jpg\")\n",
    "\n",
    "\n",
    "print(IMAGE_PATH)"
   ]
  },
  {
   "cell_type": "code",
   "execution_count": 33,
   "metadata": {
    "colab": {
     "base_uri": "https://localhost:8080/",
     "height": 269
    },
    "id": "Tpzn1SMry1yK",
    "outputId": "c392a2c5-10fe-4fc4-9998-a1d4c7db2bd3",
    "scrolled": true
   },
   "outputs": [
    {
     "data": {
      "image/png": "[encoded data removed]",
      "text/plain": [
       "<Figure size 432x288 with 1 Axes>"
      ]
     },
     "metadata": {
      "needs_background": "light"
     },
     "output_type": "display_data"
    },
    {
     "name": "stdout",
     "output_type": "stream",
     "text": [
      "[0.97928065 0.09179226 0.08036903 0.07355359 0.06653133 0.06408119\n",
      " 0.06345549 0.06172958 0.05640781 0.05236581 0.05141997 0.05038851\n",
      " 0.02934819 0.02780762 0.02546966 0.02519792 0.02328596 0.02314803\n",
      " 0.02192482 0.02084339 0.02081919 0.02067566 0.01914635 0.01911646\n",
      " 0.01889265 0.01852623 0.01771292 0.01746112 0.01609269 0.01555172\n",
      " 0.01546744 0.01543462 0.01477239 0.01449221 0.01448897 0.01448202\n",
      " 0.01394266 0.01381424 0.01362899 0.01357099 0.01340291 0.01336014\n",
      " 0.01325718 0.01288792 0.01266831 0.01255861 0.01253578 0.01250628\n",
      " 0.01240513 0.01170766 0.01169604 0.01161382 0.01150566 0.01145288\n",
      " 0.01140359 0.01136711 0.01124844 0.01096436 0.01075074 0.01071683\n",
      " 0.01068619 0.01064479 0.01026458 0.01024672 0.01001599 0.00986388\n",
      " 0.00983039 0.00970635 0.00949463 0.00948924 0.00946417 0.00942051\n",
      " 0.0094102  0.00936782 0.00932637 0.00916705 0.00893664 0.00892341\n",
      " 0.00889775 0.0088405  0.00881726 0.00877917 0.00877786 0.00873375\n",
      " 0.00859973 0.00859284 0.00858903 0.00851795 0.00848034 0.00840908\n",
      " 0.00823048 0.00813097 0.00811809 0.00809526 0.00803092 0.00801358\n",
      " 0.0079565  0.00795391 0.00786445 0.00784358] 1\n"
     ]
    }
   ],
   "source": [
    "img = cv2.imread(IMAGE_PATH6)\n",
    "image_np = np.array(img)\n",
    "\n",
    "input_tensor = tf.convert_to_tensor(np.expand_dims(image_np, 0), dtype=tf.float32)\n",
    "detections = detect_fn(input_tensor)\n",
    "\n",
    "num_detections = int(detections.pop('num_detections'))\n",
    "detections = {key: value[0, :num_detections].numpy()\n",
    "              for key, value in detections.items()}\n",
    "detections['num_detections'] = num_detections\n",
    "\n",
    "# detection_classes should be ints.\n",
    "detections['detection_classes'] = detections['detection_classes'].astype(np.int64)\n",
    "\n",
    "label_id_offset = 1\n",
    "image_np_with_detections = image_np.copy()\n",
    "\n",
    "viz_utils.visualize_boxes_and_labels_on_image_array(\n",
    "            image_np_with_detections,\n",
    "            detections['detection_boxes'],\n",
    "            detections['detection_classes']+label_id_offset,\n",
    "            detections['detection_scores'],\n",
    "            category_index,\n",
    "            use_normalized_coordinates=True,\n",
    "            max_boxes_to_draw=5,\n",
    "            min_score_thresh=.40,\n",
    "            agnostic_mode=False)\n",
    "\n",
    "plt.imshow(cv2.cvtColor(image_np_with_detections, cv2.COLOR_BGR2RGB))\n",
    "plt.show()\n",
    "print(detections['detection_scores'], label_id_offset)"
   ]
  },
  {
   "cell_type": "markdown",
   "metadata": {
    "id": "IsNAaYAo0WVL"
   },
   "source": [
    "# 10. Real Time Detections from your Webcam"
   ]
  },
  {
   "cell_type": "code",
   "execution_count": null,
   "metadata": {},
   "outputs": [],
   "source": [
    "!pip uninstall opencv-python-headless -y"
   ]
  },
  {
   "cell_type": "code",
   "execution_count": null,
   "metadata": {
    "id": "o_grs6OGpfDJ"
   },
   "outputs": [],
   "source": [
    "cap = cv2.VideoCapture(0)\n",
    "width = int(cap.get(cv2.CAP_PROP_FRAME_WIDTH))\n",
    "height = int(cap.get(cv2.CAP_PROP_FRAME_HEIGHT))\n",
    "\n",
    "while cap.isOpened(): \n",
    "    ret, frame = cap.read()\n",
    "    image_np = np.array(frame)\n",
    "    \n",
    "    input_tensor = tf.convert_to_tensor(np.expand_dims(image_np, 0), dtype=tf.float32)\n",
    "    detections = detect_fn(input_tensor)\n",
    "    \n",
    "    num_detections = int(detections.pop('num_detections'))\n",
    "    detections = {key: value[0, :num_detections].numpy()\n",
    "                  for key, value in detections.items()}\n",
    "    detections['num_detections'] = num_detections\n",
    "\n",
    "    # detection_classes should be ints.\n",
    "    detections['detection_classes'] = detections['detection_classes'].astype(np.int64)\n",
    "\n",
    "    label_id_offset = 1\n",
    "    image_np_with_detections = image_np.copy()\n",
    "\n",
    "    viz_utils.visualize_boxes_and_labels_on_image_array(\n",
    "                image_np_with_detections,\n",
    "                detections['detection_boxes'],\n",
    "                detections['detection_classes']+label_id_offset,\n",
    "                detections['detection_scores'],\n",
    "                category_index,\n",
    "                use_normalized_coordinates=True,\n",
    "                max_boxes_to_draw=5,\n",
    "                min_score_thresh=.8,\n",
    "                agnostic_mode=False)\n",
    "\n",
    "    cv2.imshow('object detection',  cv2.resize(image_np_with_detections, (800, 600)))\n",
    "    \n",
    "    if cv2.waitKey(10) & 0xFF == ord('q'):\n",
    "        cap.release()\n",
    "        cv2.destroyAllWindows()\n",
    "        break"
   ]
  },
  {
   "cell_type": "markdown",
   "metadata": {
    "id": "rzlM4jt0pfDJ"
   },
   "source": [
    "# 10. Freezing the Graph"
   ]
  },
  {
   "cell_type": "code",
   "execution_count": 28,
   "metadata": {
    "id": "n4olHB2npfDJ"
   },
   "outputs": [],
   "source": [
    "FREEZE_SCRIPT = os.path.join(paths['APIMODEL_PATH'], 'research', 'object_detection', 'exporter_main_v2.py ')"
   ]
  },
  {
   "cell_type": "code",
   "execution_count": 29,
   "metadata": {
    "id": "0AjO93QDpfDJ"
   },
   "outputs": [],
   "source": [
    "command = \"python {} --input_type=image_tensor --pipeline_config_path={} --trained_checkpoint_dir={} --output_directory={}\".format(FREEZE_SCRIPT ,files['PIPELINE_CONFIG'], paths['CHECKPOINT_PATH'], paths['OUTPUT_PATH'])"
   ]
  },
  {
   "cell_type": "code",
   "execution_count": 30,
   "metadata": {
    "colab": {
     "base_uri": "https://localhost:8080/"
    },
    "id": "F6Lsp3tCpfDJ",
    "outputId": "c3828529-bf06-4df5-d7f3-145890ec3edd"
   },
   "outputs": [
    {
     "name": "stdout",
     "output_type": "stream",
     "text": [
      "python Tensorflow/models/research/object_detection/exporter_main_v2.py  --input_type=image_tensor --pipeline_config_path=Tensorflow/workspaceInnot/models/mainModel02/pipeline.config --trained_checkpoint_dir=Tensorflow/workspaceInnot/models/mainModel02 --output_directory=Tensorflow/workspaceInnot/models/mainModel02/export\n"
     ]
    }
   ],
   "source": [
    "print(command)"
   ]
  },
  {
   "cell_type": "code",
   "execution_count": 31,
   "metadata": {
    "colab": {
     "base_uri": "https://localhost:8080/"
    },
    "id": "1Sw1ULgHpfDJ",
    "outputId": "6fd441e1-9fc9-4889-d072-3395c21e40b6"
   },
   "outputs": [
    {
     "name": "stdout",
     "output_type": "stream",
     "text": [
      "2022-07-08 20:22:50.117450: W tensorflow/stream_executor/platform/default/dso_loader.cc:64] Could not load dynamic library 'libcudart.so.11.0'; dlerror: libcudart.so.11.0: cannot open shared object file: No such file or directory; LD_LIBRARY_PATH: /home/simon/Simon/Hochschule/Innot/TFODCourse/tfod/lib/python3.10/site-packages/cv2/../../lib64:\n",
      "2022-07-08 20:22:50.117466: I tensorflow/stream_executor/cuda/cudart_stub.cc:29] Ignore above cudart dlerror if you do not have a GPU set up on your machine.\n",
      "2022-07-08 20:22:51.355524: I tensorflow/stream_executor/cuda/cuda_gpu_executor.cc:936] successful NUMA node read from SysFS had negative value (-1), but there must be at least one NUMA node, so returning NUMA node zero\n",
      "2022-07-08 20:22:51.355721: W tensorflow/stream_executor/platform/default/dso_loader.cc:64] Could not load dynamic library 'libcudart.so.11.0'; dlerror: libcudart.so.11.0: cannot open shared object file: No such file or directory; LD_LIBRARY_PATH: /home/simon/Simon/Hochschule/Innot/TFODCourse/tfod/lib/python3.10/site-packages/cv2/../../lib64:\n",
      "2022-07-08 20:22:51.355754: W tensorflow/stream_executor/platform/default/dso_loader.cc:64] Could not load dynamic library 'libcublas.so.11'; dlerror: libcublas.so.11: cannot open shared object file: No such file or directory; LD_LIBRARY_PATH: /home/simon/Simon/Hochschule/Innot/TFODCourse/tfod/lib/python3.10/site-packages/cv2/../../lib64:\n",
      "2022-07-08 20:22:51.355777: W tensorflow/stream_executor/platform/default/dso_loader.cc:64] Could not load dynamic library 'libcublasLt.so.11'; dlerror: libcublasLt.so.11: cannot open shared object file: No such file or directory; LD_LIBRARY_PATH: /home/simon/Simon/Hochschule/Innot/TFODCourse/tfod/lib/python3.10/site-packages/cv2/../../lib64:\n",
      "2022-07-08 20:22:51.355800: W tensorflow/stream_executor/platform/default/dso_loader.cc:64] Could not load dynamic library 'libcufft.so.10'; dlerror: libcufft.so.10: cannot open shared object file: No such file or directory; LD_LIBRARY_PATH: /home/simon/Simon/Hochschule/Innot/TFODCourse/tfod/lib/python3.10/site-packages/cv2/../../lib64:\n",
      "2022-07-08 20:22:51.355822: W tensorflow/stream_executor/platform/default/dso_loader.cc:64] Could not load dynamic library 'libcurand.so.10'; dlerror: libcurand.so.10: cannot open shared object file: No such file or directory; LD_LIBRARY_PATH: /home/simon/Simon/Hochschule/Innot/TFODCourse/tfod/lib/python3.10/site-packages/cv2/../../lib64:\n",
      "2022-07-08 20:22:51.355844: W tensorflow/stream_executor/platform/default/dso_loader.cc:64] Could not load dynamic library 'libcusolver.so.11'; dlerror: libcusolver.so.11: cannot open shared object file: No such file or directory; LD_LIBRARY_PATH: /home/simon/Simon/Hochschule/Innot/TFODCourse/tfod/lib/python3.10/site-packages/cv2/../../lib64:\n",
      "2022-07-08 20:22:51.355865: W tensorflow/stream_executor/platform/default/dso_loader.cc:64] Could not load dynamic library 'libcusparse.so.11'; dlerror: libcusparse.so.11: cannot open shared object file: No such file or directory; LD_LIBRARY_PATH: /home/simon/Simon/Hochschule/Innot/TFODCourse/tfod/lib/python3.10/site-packages/cv2/../../lib64:\n",
      "2022-07-08 20:22:51.355887: W tensorflow/stream_executor/platform/default/dso_loader.cc:64] Could not load dynamic library 'libcudnn.so.8'; dlerror: libcudnn.so.8: cannot open shared object file: No such file or directory; LD_LIBRARY_PATH: /home/simon/Simon/Hochschule/Innot/TFODCourse/tfod/lib/python3.10/site-packages/cv2/../../lib64:\n",
      "2022-07-08 20:22:51.355893: W tensorflow/core/common_runtime/gpu/gpu_device.cc:1850] Cannot dlopen some GPU libraries. Please make sure the missing libraries mentioned above are installed properly if you would like to use GPU. Follow the guide at https://www.tensorflow.org/install/gpu for how to download and setup the required libraries for your platform.\n",
      "Skipping registering GPU devices...\n",
      "2022-07-08 20:22:51.359086: I tensorflow/core/platform/cpu_feature_guard.cc:151] This TensorFlow binary is optimized with oneAPI Deep Neural Network Library (oneDNN) to use the following CPU instructions in performance-critical operations:  AVX2 FMA\n",
      "To enable them in other operations, rebuild TensorFlow with the appropriate compiler flags.\n",
      "WARNING:tensorflow:From /home/simon/Simon/Hochschule/Innot/TFODCourse/tfod/lib/python3.10/site-packages/tensorflow/python/autograph/impl/api.py:458: calling map_fn_v2 (from tensorflow.python.ops.map_fn) with back_prop=False is deprecated and will be removed in a future version.\n",
      "Instructions for updating:\n",
      "back_prop=False is deprecated. Consider using tf.stop_gradient instead.\n",
      "Instead of:\n",
      "results = tf.map_fn(fn, elems, back_prop=False)\n",
      "Use:\n",
      "results = tf.nest.map_structure(tf.stop_gradient, tf.map_fn(fn, elems))\n",
      "W0708 20:22:51.419064 140556871403328 deprecation.py:610] From /home/simon/Simon/Hochschule/Innot/TFODCourse/tfod/lib/python3.10/site-packages/tensorflow/python/autograph/impl/api.py:458: calling map_fn_v2 (from tensorflow.python.ops.map_fn) with back_prop=False is deprecated and will be removed in a future version.\n",
      "Instructions for updating:\n",
      "back_prop=False is deprecated. Consider using tf.stop_gradient instead.\n",
      "Instead of:\n",
      "results = tf.map_fn(fn, elems, back_prop=False)\n",
      "Use:\n",
      "results = tf.nest.map_structure(tf.stop_gradient, tf.map_fn(fn, elems))\n",
      "2022-07-08 20:22:57.967191: W tensorflow/python/util/util.cc:368] Sets are not currently considered sequences, but this may change in the future, so consider avoiding using them.\n",
      "WARNING:tensorflow:Skipping full serialization of Keras layer <object_detection.meta_architectures.ssd_meta_arch.SSDMetaArch object at 0x7fd539fac4f0>, because it is not built.\n",
      "W0708 20:22:59.416096 140556871403328 save_impl.py:71] Skipping full serialization of Keras layer <object_detection.meta_architectures.ssd_meta_arch.SSDMetaArch object at 0x7fd539fac4f0>, because it is not built.\n",
      "W0708 20:23:02.978888 140556871403328 save.py:260] Found untraced functions such as WeightSharedConvolutionalBoxPredictor_layer_call_fn, WeightSharedConvolutionalBoxPredictor_layer_call_and_return_conditional_losses, WeightSharedConvolutionalBoxHead_layer_call_fn, WeightSharedConvolutionalBoxHead_layer_call_and_return_conditional_losses, WeightSharedConvolutionalClassHead_layer_call_fn while saving (showing 5 of 208). These functions will not be directly callable after loading.\n",
      "INFO:tensorflow:Assets written to: Tensorflow/workspaceInnot/models/mainModel02/export/saved_model/assets\n",
      "I0708 20:23:04.398646 140556871403328 builder_impl.py:779] Assets written to: Tensorflow/workspaceInnot/models/mainModel02/export/saved_model/assets\n",
      "INFO:tensorflow:Writing pipeline config file to Tensorflow/workspaceInnot/models/mainModel02/export/pipeline.config\n",
      "I0708 20:23:04.618105 140556871403328 config_util.py:253] Writing pipeline config file to Tensorflow/workspaceInnot/models/mainModel02/export/pipeline.config\n"
     ]
    }
   ],
   "source": [
    "!{command}"
   ]
  },
  {
   "cell_type": "markdown",
   "metadata": {
    "id": "wTPmdqaXpfDK"
   },
   "source": [
    "# 11. Conversion to TFJS"
   ]
  },
  {
   "cell_type": "code",
   "execution_count": 24,
   "metadata": {
    "colab": {
     "base_uri": "https://localhost:8080/"
    },
    "id": "gZ6UzY_fpfDK",
    "outputId": "0c84722e-1c2b-4002-d857-80827ade828a",
    "scrolled": true
   },
   "outputs": [
    {
     "name": "stdout",
     "output_type": "stream",
     "text": [
      "Requirement already satisfied: tensorflowjs in ./tfod/lib/python3.10/site-packages (3.18.0)\n",
      "Requirement already satisfied: tensorflow<3,>=2.1.0 in ./tfod/lib/python3.10/site-packages (from tensorflowjs) (2.8.0)\n",
      "Requirement already satisfied: packaging~=20.9 in ./tfod/lib/python3.10/site-packages (from tensorflowjs) (20.9)\n",
      "Requirement already satisfied: six<2,>=1.12.0 in ./tfod/lib/python3.10/site-packages (from tensorflowjs) (1.16.0)\n",
      "Requirement already satisfied: tensorflow-hub<0.13,>=0.7.0 in ./tfod/lib/python3.10/site-packages (from tensorflowjs) (0.12.0)\n",
      "Requirement already satisfied: pyparsing>=2.0.2 in ./tfod/lib/python3.10/site-packages (from packaging~=20.9->tensorflowjs) (2.4.7)\n",
      "Requirement already satisfied: grpcio<2.0,>=1.24.3 in ./tfod/lib/python3.10/site-packages (from tensorflow<3,>=2.1.0->tensorflowjs) (1.44.0)\n",
      "Requirement already satisfied: keras-preprocessing>=1.1.1 in ./tfod/lib/python3.10/site-packages (from tensorflow<3,>=2.1.0->tensorflowjs) (1.1.2)\n",
      "Requirement already satisfied: typing-extensions>=3.6.6 in ./tfod/lib/python3.10/site-packages (from tensorflow<3,>=2.1.0->tensorflowjs) (4.2.0)\n",
      "Requirement already satisfied: gast>=0.2.1 in ./tfod/lib/python3.10/site-packages (from tensorflow<3,>=2.1.0->tensorflowjs) (0.5.3)\n",
      "Requirement already satisfied: numpy>=1.20 in ./tfod/lib/python3.10/site-packages (from tensorflow<3,>=2.1.0->tensorflowjs) (1.22.3)\n",
      "Requirement already satisfied: keras<2.9,>=2.8.0rc0 in ./tfod/lib/python3.10/site-packages (from tensorflow<3,>=2.1.0->tensorflowjs) (2.8.0)\n",
      "Requirement already satisfied: absl-py>=0.4.0 in ./tfod/lib/python3.10/site-packages (from tensorflow<3,>=2.1.0->tensorflowjs) (1.0.0)\n",
      "Requirement already satisfied: wrapt>=1.11.0 in ./tfod/lib/python3.10/site-packages (from tensorflow<3,>=2.1.0->tensorflowjs) (1.14.0)\n",
      "Requirement already satisfied: libclang>=9.0.1 in ./tfod/lib/python3.10/site-packages (from tensorflow<3,>=2.1.0->tensorflowjs) (14.0.1)\n",
      "Requirement already satisfied: astunparse>=1.6.0 in ./tfod/lib/python3.10/site-packages (from tensorflow<3,>=2.1.0->tensorflowjs) (1.6.3)\n",
      "Requirement already satisfied: opt-einsum>=2.3.2 in ./tfod/lib/python3.10/site-packages (from tensorflow<3,>=2.1.0->tensorflowjs) (3.3.0)\n",
      "Requirement already satisfied: tf-estimator-nightly==2.8.0.dev2021122109 in ./tfod/lib/python3.10/site-packages (from tensorflow<3,>=2.1.0->tensorflowjs) (2.8.0.dev2021122109)\n",
      "Requirement already satisfied: h5py>=2.9.0 in ./tfod/lib/python3.10/site-packages (from tensorflow<3,>=2.1.0->tensorflowjs) (3.6.0)\n",
      "Requirement already satisfied: setuptools in ./tfod/lib/python3.10/site-packages (from tensorflow<3,>=2.1.0->tensorflowjs) (58.1.0)\n",
      "Requirement already satisfied: google-pasta>=0.1.1 in ./tfod/lib/python3.10/site-packages (from tensorflow<3,>=2.1.0->tensorflowjs) (0.2.0)\n",
      "Requirement already satisfied: tensorflow-io-gcs-filesystem>=0.23.1 in ./tfod/lib/python3.10/site-packages (from tensorflow<3,>=2.1.0->tensorflowjs) (0.25.0)\n",
      "Requirement already satisfied: termcolor>=1.1.0 in ./tfod/lib/python3.10/site-packages (from tensorflow<3,>=2.1.0->tensorflowjs) (1.1.0)\n",
      "Requirement already satisfied: flatbuffers>=1.12 in ./tfod/lib/python3.10/site-packages (from tensorflow<3,>=2.1.0->tensorflowjs) (2.0)\n",
      "Requirement already satisfied: tensorboard<2.9,>=2.8 in ./tfod/lib/python3.10/site-packages (from tensorflow<3,>=2.1.0->tensorflowjs) (2.8.0)\n",
      "Requirement already satisfied: protobuf>=3.9.2 in ./tfod/lib/python3.10/site-packages (from tensorflow<3,>=2.1.0->tensorflowjs) (3.20.1)\n",
      "Requirement already satisfied: wheel<1.0,>=0.23.0 in ./tfod/lib/python3.10/site-packages (from astunparse>=1.6.0->tensorflow<3,>=2.1.0->tensorflowjs) (0.37.1)\n",
      "Requirement already satisfied: tensorboard-data-server<0.7.0,>=0.6.0 in ./tfod/lib/python3.10/site-packages (from tensorboard<2.9,>=2.8->tensorflow<3,>=2.1.0->tensorflowjs) (0.6.1)\n",
      "Requirement already satisfied: tensorboard-plugin-wit>=1.6.0 in ./tfod/lib/python3.10/site-packages (from tensorboard<2.9,>=2.8->tensorflow<3,>=2.1.0->tensorflowjs) (1.8.1)\n",
      "Requirement already satisfied: markdown>=2.6.8 in ./tfod/lib/python3.10/site-packages (from tensorboard<2.9,>=2.8->tensorflow<3,>=2.1.0->tensorflowjs) (3.3.6)\n",
      "Requirement already satisfied: google-auth-oauthlib<0.5,>=0.4.1 in ./tfod/lib/python3.10/site-packages (from tensorboard<2.9,>=2.8->tensorflow<3,>=2.1.0->tensorflowjs) (0.4.6)\n",
      "Requirement already satisfied: google-auth<3,>=1.6.3 in ./tfod/lib/python3.10/site-packages (from tensorboard<2.9,>=2.8->tensorflow<3,>=2.1.0->tensorflowjs) (2.6.6)\n",
      "Requirement already satisfied: werkzeug>=0.11.15 in ./tfod/lib/python3.10/site-packages (from tensorboard<2.9,>=2.8->tensorflow<3,>=2.1.0->tensorflowjs) (2.1.1)\n",
      "Requirement already satisfied: requests<3,>=2.21.0 in ./tfod/lib/python3.10/site-packages (from tensorboard<2.9,>=2.8->tensorflow<3,>=2.1.0->tensorflowjs) (2.27.1)\n",
      "Requirement already satisfied: pyasn1-modules>=0.2.1 in ./tfod/lib/python3.10/site-packages (from google-auth<3,>=1.6.3->tensorboard<2.9,>=2.8->tensorflow<3,>=2.1.0->tensorflowjs) (0.2.8)\n",
      "Requirement already satisfied: rsa<5,>=3.1.4 in ./tfod/lib/python3.10/site-packages (from google-auth<3,>=1.6.3->tensorboard<2.9,>=2.8->tensorflow<3,>=2.1.0->tensorflowjs) (4.8)\n",
      "Requirement already satisfied: cachetools<6.0,>=2.0.0 in ./tfod/lib/python3.10/site-packages (from google-auth<3,>=1.6.3->tensorboard<2.9,>=2.8->tensorflow<3,>=2.1.0->tensorflowjs) (5.0.0)\n",
      "Requirement already satisfied: requests-oauthlib>=0.7.0 in ./tfod/lib/python3.10/site-packages (from google-auth-oauthlib<0.5,>=0.4.1->tensorboard<2.9,>=2.8->tensorflow<3,>=2.1.0->tensorflowjs) (1.3.1)\n",
      "Requirement already satisfied: urllib3<1.27,>=1.21.1 in ./tfod/lib/python3.10/site-packages (from requests<3,>=2.21.0->tensorboard<2.9,>=2.8->tensorflow<3,>=2.1.0->tensorflowjs) (1.26.9)\n",
      "Requirement already satisfied: idna<4,>=2.5 in ./tfod/lib/python3.10/site-packages (from requests<3,>=2.21.0->tensorboard<2.9,>=2.8->tensorflow<3,>=2.1.0->tensorflowjs) (3.3)\n",
      "Requirement already satisfied: certifi>=2017.4.17 in ./tfod/lib/python3.10/site-packages (from requests<3,>=2.21.0->tensorboard<2.9,>=2.8->tensorflow<3,>=2.1.0->tensorflowjs) (2021.10.8)\n",
      "Requirement already satisfied: charset-normalizer~=2.0.0 in ./tfod/lib/python3.10/site-packages (from requests<3,>=2.21.0->tensorboard<2.9,>=2.8->tensorflow<3,>=2.1.0->tensorflowjs) (2.0.12)\n",
      "Requirement already satisfied: pyasn1<0.5.0,>=0.4.6 in ./tfod/lib/python3.10/site-packages (from pyasn1-modules>=0.2.1->google-auth<3,>=1.6.3->tensorboard<2.9,>=2.8->tensorflow<3,>=2.1.0->tensorflowjs) (0.4.8)\n",
      "Requirement already satisfied: oauthlib>=3.0.0 in ./tfod/lib/python3.10/site-packages (from requests-oauthlib>=0.7.0->google-auth-oauthlib<0.5,>=0.4.1->tensorboard<2.9,>=2.8->tensorflow<3,>=2.1.0->tensorflowjs) (3.2.0)\n",
      "\u001b[33mWARNING: You are using pip version 22.0.4; however, version 22.1.2 is available.\n",
      "You should consider upgrading via the '/home/simon/Simon/Hochschule/Innot/TFODCourse/tfod/bin/python -m pip install --upgrade pip' command.\u001b[0m\u001b[33m\n",
      "\u001b[0m"
     ]
    }
   ],
   "source": [
    "!pip install tensorflowjs"
   ]
  },
  {
   "cell_type": "code",
   "execution_count": 32,
   "metadata": {
    "id": "0oxbVynHpfDK"
   },
   "outputs": [],
   "source": [
    "command = \"tensorflowjs_converter --input_format=tf_saved_model --output_node_names='detection_boxes,detection_classes,detection_features,detection_multiclass_scores,detection_scores,num_detections,raw_detection_boxes,raw_detection_scores' --output_format=tfjs_graph_model --signature_name=serving_default {} {}\".format(os.path.join(paths['OUTPUT_PATH'], 'saved_model'), paths['TFJS_PATH'])"
   ]
  },
  {
   "cell_type": "code",
   "execution_count": 33,
   "metadata": {
    "colab": {
     "base_uri": "https://localhost:8080/"
    },
    "id": "DB2AGNmJpfDK",
    "outputId": "fbc9f747-f511-47e8-df8f-5ea65cef0374"
   },
   "outputs": [
    {
     "name": "stdout",
     "output_type": "stream",
     "text": [
      "tensorflowjs_converter --input_format=tf_saved_model --output_node_names='detection_boxes,detection_classes,detection_features,detection_multiclass_scores,detection_scores,num_detections,raw_detection_boxes,raw_detection_scores' --output_format=tfjs_graph_model --signature_name=serving_default Tensorflow/workspaceInnot/models/mainModel02/export/saved_model Tensorflow/workspaceInnot/models/mainModel02/tfjsexport\n"
     ]
    }
   ],
   "source": [
    "print(command)"
   ]
  },
  {
   "cell_type": "code",
   "execution_count": 34,
   "metadata": {
    "colab": {
     "base_uri": "https://localhost:8080/"
    },
    "id": "K7rfT4-hpfDK",
    "outputId": "532707fd-6feb-4bc6-84a3-325b5d16303c"
   },
   "outputs": [
    {
     "name": "stdout",
     "output_type": "stream",
     "text": [
      "2022-07-08 20:27:25.792613: W tensorflow/stream_executor/platform/default/dso_loader.cc:64] Could not load dynamic library 'libcudart.so.11.0'; dlerror: libcudart.so.11.0: cannot open shared object file: No such file or directory; LD_LIBRARY_PATH: /home/simon/Simon/Hochschule/Innot/TFODCourse/tfod/lib/python3.10/site-packages/cv2/../../lib64:\n",
      "2022-07-08 20:27:25.792630: I tensorflow/stream_executor/cuda/cudart_stub.cc:29] Ignore above cudart dlerror if you do not have a GPU set up on your machine.\n",
      "2022-07-08 20:27:26.734689: I tensorflow/stream_executor/cuda/cuda_gpu_executor.cc:936] successful NUMA node read from SysFS had negative value (-1), but there must be at least one NUMA node, so returning NUMA node zero\n",
      "2022-07-08 20:27:26.734864: W tensorflow/stream_executor/platform/default/dso_loader.cc:64] Could not load dynamic library 'libcudart.so.11.0'; dlerror: libcudart.so.11.0: cannot open shared object file: No such file or directory; LD_LIBRARY_PATH: /home/simon/Simon/Hochschule/Innot/TFODCourse/tfod/lib/python3.10/site-packages/cv2/../../lib64:\n",
      "2022-07-08 20:27:26.734894: W tensorflow/stream_executor/platform/default/dso_loader.cc:64] Could not load dynamic library 'libcublas.so.11'; dlerror: libcublas.so.11: cannot open shared object file: No such file or directory; LD_LIBRARY_PATH: /home/simon/Simon/Hochschule/Innot/TFODCourse/tfod/lib/python3.10/site-packages/cv2/../../lib64:\n",
      "2022-07-08 20:27:26.734916: W tensorflow/stream_executor/platform/default/dso_loader.cc:64] Could not load dynamic library 'libcublasLt.so.11'; dlerror: libcublasLt.so.11: cannot open shared object file: No such file or directory; LD_LIBRARY_PATH: /home/simon/Simon/Hochschule/Innot/TFODCourse/tfod/lib/python3.10/site-packages/cv2/../../lib64:\n",
      "2022-07-08 20:27:26.734939: W tensorflow/stream_executor/platform/default/dso_loader.cc:64] Could not load dynamic library 'libcufft.so.10'; dlerror: libcufft.so.10: cannot open shared object file: No such file or directory; LD_LIBRARY_PATH: /home/simon/Simon/Hochschule/Innot/TFODCourse/tfod/lib/python3.10/site-packages/cv2/../../lib64:\n",
      "2022-07-08 20:27:26.734960: W tensorflow/stream_executor/platform/default/dso_loader.cc:64] Could not load dynamic library 'libcurand.so.10'; dlerror: libcurand.so.10: cannot open shared object file: No such file or directory; LD_LIBRARY_PATH: /home/simon/Simon/Hochschule/Innot/TFODCourse/tfod/lib/python3.10/site-packages/cv2/../../lib64:\n",
      "2022-07-08 20:27:26.734982: W tensorflow/stream_executor/platform/default/dso_loader.cc:64] Could not load dynamic library 'libcusolver.so.11'; dlerror: libcusolver.so.11: cannot open shared object file: No such file or directory; LD_LIBRARY_PATH: /home/simon/Simon/Hochschule/Innot/TFODCourse/tfod/lib/python3.10/site-packages/cv2/../../lib64:\n",
      "2022-07-08 20:27:26.735003: W tensorflow/stream_executor/platform/default/dso_loader.cc:64] Could not load dynamic library 'libcusparse.so.11'; dlerror: libcusparse.so.11: cannot open shared object file: No such file or directory; LD_LIBRARY_PATH: /home/simon/Simon/Hochschule/Innot/TFODCourse/tfod/lib/python3.10/site-packages/cv2/../../lib64:\n",
      "2022-07-08 20:27:26.735025: W tensorflow/stream_executor/platform/default/dso_loader.cc:64] Could not load dynamic library 'libcudnn.so.8'; dlerror: libcudnn.so.8: cannot open shared object file: No such file or directory; LD_LIBRARY_PATH: /home/simon/Simon/Hochschule/Innot/TFODCourse/tfod/lib/python3.10/site-packages/cv2/../../lib64:\n",
      "2022-07-08 20:27:26.735030: W tensorflow/core/common_runtime/gpu/gpu_device.cc:1850] Cannot dlopen some GPU libraries. Please make sure the missing libraries mentioned above are installed properly if you would like to use GPU. Follow the guide at https://www.tensorflow.org/install/gpu for how to download and setup the required libraries for your platform.\n",
      "Skipping registering GPU devices...\n",
      "2022-07-08 20:27:26.735159: I tensorflow/core/platform/cpu_feature_guard.cc:151] This TensorFlow binary is optimized with oneAPI Deep Neural Network Library (oneDNN) to use the following CPU instructions in performance-critical operations:  AVX2 FMA\n",
      "To enable them in other operations, rebuild TensorFlow with the appropriate compiler flags.\n",
      "2022-07-08 20:27:29.173103: I tensorflow/stream_executor/cuda/cuda_gpu_executor.cc:936] successful NUMA node read from SysFS had negative value (-1), but there must be at least one NUMA node, so returning NUMA node zero\n",
      "2022-07-08 20:27:29.173256: I tensorflow/core/grappler/devices.cc:66] Number of eligible GPUs (core count >= 8, compute capability >= 0.0): 1\n",
      "2022-07-08 20:27:29.173356: I tensorflow/core/grappler/clusters/single_machine.cc:358] Starting new session\n",
      "2022-07-08 20:27:29.173562: I tensorflow/stream_executor/cuda/cuda_gpu_executor.cc:936] successful NUMA node read from SysFS had negative value (-1), but there must be at least one NUMA node, so returning NUMA node zero\n",
      "2022-07-08 20:27:29.173661: W tensorflow/core/common_runtime/gpu/gpu_device.cc:1850] Cannot dlopen some GPU libraries. Please make sure the missing libraries mentioned above are installed properly if you would like to use GPU. Follow the guide at https://www.tensorflow.org/install/gpu for how to download and setup the required libraries for your platform.\n",
      "Skipping registering GPU devices...\n",
      "2022-07-08 20:27:29.311934: I tensorflow/core/grappler/optimizers/meta_optimizer.cc:1164] Optimization results for grappler item: graph_to_optimize\n",
      "  function_optimizer: Graph size after: 4007 nodes (3648), 5388 edges (5022), time = 55.298ms.\n",
      "  function_optimizer: function_optimizer did nothing. time = 0.166ms.\n",
      "\n",
      "2022-07-08 20:27:31.585656: I tensorflow/core/grappler/optimizers/meta_optimizer.cc:1164] Optimization results for grappler item: graph_to_optimize\n",
      "  debug_stripper: Graph size after: 3744 nodes (0), 5073 edges (0), time = 1.898ms.\n",
      "  model_pruner: Graph size after: 3352 nodes (-392), 4681 edges (-392), time = 12.112ms.\n",
      "  constant_folding: Graph size after: 1771 nodes (-1581), 2854 edges (-1827), time = 119.545ms.\n",
      "  arithmetic_optimizer: Graph size after: 1789 nodes (18), 2870 edges (16), time = 57.008ms.\n",
      "  dependency_optimizer: Graph size after: 1684 nodes (-105), 1974 edges (-896), time = 20.737ms.\n",
      "  model_pruner: Graph size after: 1684 nodes (0), 1974 edges (0), time = 14.776ms.\n",
      "  constant_folding: Graph size after: 1684 nodes (0), 1974 edges (0), time = 71.051ms.\n",
      "  arithmetic_optimizer: Graph size after: 1684 nodes (0), 1974 edges (0), time = 33.635ms.\n",
      "  dependency_optimizer: Graph size after: 1684 nodes (0), 1974 edges (0), time = 17.712ms.\n",
      "  debug_stripper: debug_stripper did nothing. time = 0.059ms.\n",
      "  model_pruner: Graph size after: 1684 nodes (0), 1974 edges (0), time = 13.986ms.\n",
      "  constant_folding: Graph size after: 1684 nodes (0), 1974 edges (0), time = 52.991ms.\n",
      "  arithmetic_optimizer: Graph size after: 1684 nodes (0), 1974 edges (0), time = 34.52ms.\n",
      "  dependency_optimizer: Graph size after: 1684 nodes (0), 1974 edges (0), time = 19.256ms.\n",
      "  model_pruner: Graph size after: 1684 nodes (0), 1974 edges (0), time = 15.268ms.\n",
      "  constant_folding: Graph size after: 1684 nodes (0), 1974 edges (0), time = 49.216ms.\n",
      "  arithmetic_optimizer: Graph size after: 1684 nodes (0), 1974 edges (0), time = 36.552ms.\n",
      "  dependency_optimizer: Graph size after: 1684 nodes (0), 1974 edges (0), time = 19.89ms.\n",
      "\n",
      "2022-07-08 20:28:05.482455: I tensorflow/core/grappler/optimizers/meta_optimizer.cc:1164] Optimization results for grappler item: graph_to_optimize\n",
      "  remapper: Graph size after: 1628 nodes (-127), 1634 edges (-127), time = 3.554ms.\n",
      "  constant_folding: Graph size after: 1344 nodes (-284), 1634 edges (0), time = 17.042ms.\n",
      "  arithmetic_optimizer: Graph size after: 1344 nodes (0), 1634 edges (0), time = 8.855ms.\n",
      "  dependency_optimizer: Graph size after: 1344 nodes (0), 1634 edges (0), time = 5.044ms.\n",
      "  remapper: Graph size after: 1344 nodes (0), 1634 edges (0), time = 2.462ms.\n",
      "  constant_folding: Graph size after: 1344 nodes (0), 1634 edges (0), time = 12.316ms.\n",
      "  arithmetic_optimizer: Graph size after: 1344 nodes (0), 1634 edges (0), time = 9.574ms.\n",
      "  dependency_optimizer: Graph size after: 1344 nodes (0), 1634 edges (0), time = 5.498ms.\n",
      "\n",
      "Writing weight file Tensorflow/workspaceInnot/models/mainModel02/tfjsexport/model.json...\n"
     ]
    }
   ],
   "source": [
    "!{command}"
   ]
  },
  {
   "cell_type": "code",
   "execution_count": null,
   "metadata": {
    "id": "o8_hm-itpfDK"
   },
   "outputs": [],
   "source": [
    "# Test Code: https://github.com/nicknochnack/RealTimeSignLanguageDetectionwithTFJS"
   ]
  },
  {
   "cell_type": "markdown",
   "metadata": {
    "id": "VtUw73FHpfDK"
   },
   "source": [
    "# 12. Conversion to TFLite"
   ]
  },
  {
   "cell_type": "code",
   "execution_count": 35,
   "metadata": {
    "id": "XviMtewLpfDK"
   },
   "outputs": [],
   "source": [
    "TFLITE_SCRIPT = os.path.join(paths['APIMODEL_PATH'], 'research', 'object_detection', 'export_tflite_graph_tf2.py ')"
   ]
  },
  {
   "cell_type": "code",
   "execution_count": 36,
   "metadata": {
    "id": "us86cjC4pfDL"
   },
   "outputs": [],
   "source": [
    "command = \"python {} --pipeline_config_path={} --trained_checkpoint_dir={} --output_directory={}\".format(TFLITE_SCRIPT ,files['PIPELINE_CONFIG'], paths['CHECKPOINT_PATH'], paths['TFLITE_PATH'])"
   ]
  },
  {
   "cell_type": "code",
   "execution_count": 37,
   "metadata": {
    "colab": {
     "base_uri": "https://localhost:8080/"
    },
    "id": "n1r5YO3rpfDL",
    "outputId": "5fcdf7a4-eee2-4365-f1ca-1751968379ea"
   },
   "outputs": [
    {
     "name": "stdout",
     "output_type": "stream",
     "text": [
      "python Tensorflow/models/research/object_detection/export_tflite_graph_tf2.py  --pipeline_config_path=Tensorflow/workspaceInnot/models/mainModel02/pipeline.config --trained_checkpoint_dir=Tensorflow/workspaceInnot/models/mainModel02 --output_directory=Tensorflow/workspaceInnot/models/mainModel02/tfliteexport\n"
     ]
    }
   ],
   "source": [
    "print(command)"
   ]
  },
  {
   "cell_type": "code",
   "execution_count": 38,
   "metadata": {
    "colab": {
     "base_uri": "https://localhost:8080/"
    },
    "id": "I-xWpHN8pfDL",
    "outputId": "7f6bacd8-d077-43b5-c131-5b081fba24a4"
   },
   "outputs": [
    {
     "name": "stdout",
     "output_type": "stream",
     "text": [
      "2022-07-08 20:28:56.936537: W tensorflow/stream_executor/platform/default/dso_loader.cc:64] Could not load dynamic library 'libcudart.so.11.0'; dlerror: libcudart.so.11.0: cannot open shared object file: No such file or directory; LD_LIBRARY_PATH: /home/simon/Simon/Hochschule/Innot/TFODCourse/tfod/lib/python3.10/site-packages/cv2/../../lib64:\n",
      "2022-07-08 20:28:56.936554: I tensorflow/stream_executor/cuda/cudart_stub.cc:29] Ignore above cudart dlerror if you do not have a GPU set up on your machine.\n",
      "2022-07-08 20:28:58.171685: I tensorflow/stream_executor/cuda/cuda_gpu_executor.cc:936] successful NUMA node read from SysFS had negative value (-1), but there must be at least one NUMA node, so returning NUMA node zero\n",
      "2022-07-08 20:28:58.171867: W tensorflow/stream_executor/platform/default/dso_loader.cc:64] Could not load dynamic library 'libcudart.so.11.0'; dlerror: libcudart.so.11.0: cannot open shared object file: No such file or directory; LD_LIBRARY_PATH: /home/simon/Simon/Hochschule/Innot/TFODCourse/tfod/lib/python3.10/site-packages/cv2/../../lib64:\n",
      "2022-07-08 20:28:58.171896: W tensorflow/stream_executor/platform/default/dso_loader.cc:64] Could not load dynamic library 'libcublas.so.11'; dlerror: libcublas.so.11: cannot open shared object file: No such file or directory; LD_LIBRARY_PATH: /home/simon/Simon/Hochschule/Innot/TFODCourse/tfod/lib/python3.10/site-packages/cv2/../../lib64:\n",
      "2022-07-08 20:28:58.171921: W tensorflow/stream_executor/platform/default/dso_loader.cc:64] Could not load dynamic library 'libcublasLt.so.11'; dlerror: libcublasLt.so.11: cannot open shared object file: No such file or directory; LD_LIBRARY_PATH: /home/simon/Simon/Hochschule/Innot/TFODCourse/tfod/lib/python3.10/site-packages/cv2/../../lib64:\n",
      "2022-07-08 20:28:58.171944: W tensorflow/stream_executor/platform/default/dso_loader.cc:64] Could not load dynamic library 'libcufft.so.10'; dlerror: libcufft.so.10: cannot open shared object file: No such file or directory; LD_LIBRARY_PATH: /home/simon/Simon/Hochschule/Innot/TFODCourse/tfod/lib/python3.10/site-packages/cv2/../../lib64:\n",
      "2022-07-08 20:28:58.171967: W tensorflow/stream_executor/platform/default/dso_loader.cc:64] Could not load dynamic library 'libcurand.so.10'; dlerror: libcurand.so.10: cannot open shared object file: No such file or directory; LD_LIBRARY_PATH: /home/simon/Simon/Hochschule/Innot/TFODCourse/tfod/lib/python3.10/site-packages/cv2/../../lib64:\n",
      "2022-07-08 20:28:58.171991: W tensorflow/stream_executor/platform/default/dso_loader.cc:64] Could not load dynamic library 'libcusolver.so.11'; dlerror: libcusolver.so.11: cannot open shared object file: No such file or directory; LD_LIBRARY_PATH: /home/simon/Simon/Hochschule/Innot/TFODCourse/tfod/lib/python3.10/site-packages/cv2/../../lib64:\n",
      "2022-07-08 20:28:58.172013: W tensorflow/stream_executor/platform/default/dso_loader.cc:64] Could not load dynamic library 'libcusparse.so.11'; dlerror: libcusparse.so.11: cannot open shared object file: No such file or directory; LD_LIBRARY_PATH: /home/simon/Simon/Hochschule/Innot/TFODCourse/tfod/lib/python3.10/site-packages/cv2/../../lib64:\n",
      "2022-07-08 20:28:58.172037: W tensorflow/stream_executor/platform/default/dso_loader.cc:64] Could not load dynamic library 'libcudnn.so.8'; dlerror: libcudnn.so.8: cannot open shared object file: No such file or directory; LD_LIBRARY_PATH: /home/simon/Simon/Hochschule/Innot/TFODCourse/tfod/lib/python3.10/site-packages/cv2/../../lib64:\n",
      "2022-07-08 20:28:58.172042: W tensorflow/core/common_runtime/gpu/gpu_device.cc:1850] Cannot dlopen some GPU libraries. Please make sure the missing libraries mentioned above are installed properly if you would like to use GPU. Follow the guide at https://www.tensorflow.org/install/gpu for how to download and setup the required libraries for your platform.\n",
      "Skipping registering GPU devices...\n",
      "2022-07-08 20:28:58.175043: I tensorflow/core/platform/cpu_feature_guard.cc:151] This TensorFlow binary is optimized with oneAPI Deep Neural Network Library (oneDNN) to use the following CPU instructions in performance-critical operations:  AVX2 FMA\n",
      "To enable them in other operations, rebuild TensorFlow with the appropriate compiler flags.\n",
      "2022-07-08 20:29:01.423903: W tensorflow/python/util/util.cc:368] Sets are not currently considered sequences, but this may change in the future, so consider avoiding using them.\n",
      "WARNING:tensorflow:Skipping full serialization of Keras layer <object_detection.meta_architectures.ssd_meta_arch.SSDMetaArch object at 0x7f4a67062c20>, because it is not built.\n",
      "W0708 20:29:02.127104 139960625919808 save_impl.py:71] Skipping full serialization of Keras layer <object_detection.meta_architectures.ssd_meta_arch.SSDMetaArch object at 0x7f4a67062c20>, because it is not built.\n",
      "W0708 20:29:05.681216 139960625919808 save.py:260] Found untraced functions such as WeightSharedConvolutionalBoxPredictor_layer_call_fn, WeightSharedConvolutionalBoxPredictor_layer_call_and_return_conditional_losses, WeightSharedConvolutionalBoxHead_layer_call_fn, WeightSharedConvolutionalBoxHead_layer_call_and_return_conditional_losses, WeightSharedConvolutionalClassHead_layer_call_fn while saving (showing 5 of 208). These functions will not be directly callable after loading.\n",
      "INFO:tensorflow:Assets written to: Tensorflow/workspaceInnot/models/mainModel02/tfliteexport/saved_model/assets\n",
      "I0708 20:29:07.068866 139960625919808 builder_impl.py:779] Assets written to: Tensorflow/workspaceInnot/models/mainModel02/tfliteexport/saved_model/assets\n"
     ]
    }
   ],
   "source": [
    "!{command}"
   ]
  },
  {
   "cell_type": "code",
   "execution_count": 39,
   "metadata": {
    "id": "iJfYMbN6pfDL"
   },
   "outputs": [],
   "source": [
    "FROZEN_TFLITE_PATH = os.path.join(paths['TFLITE_PATH'], 'saved_model')\n",
    "TFLITE_MODEL = os.path.join(paths['TFLITE_PATH'], 'saved_model', 'detect.tflite')"
   ]
  },
  {
   "cell_type": "code",
   "execution_count": 40,
   "metadata": {},
   "outputs": [],
   "source": [
    "command = \"tflite_convert \\\n",
    "--saved_model_dir={} \\\n",
    "--output_file={} \\\n",
    "--input_shapes=1,300,300,3 \\\n",
    "--input_arrays=normalized_input_image_tensor \\\n",
    "--output_arrays='TFLite_Detection_PostProcess','TFLite_Detection_PostProcess:1','TFLite_Detection_PostProcess:2','TFLite_Detection_PostProcess:3' \\\n",
    "--inference_type=FLOAT \\\n",
    "--allow_custom_ops\".format(FROZEN_TFLITE_PATH, TFLITE_MODEL, )"
   ]
  },
  {
   "cell_type": "code",
   "execution_count": 41,
   "metadata": {
    "colab": {
     "base_uri": "https://localhost:8080/"
    },
    "id": "E8GwUeoFpfDL",
    "outputId": "fac43ea4-cc85-471b-a362-e994b06fd583"
   },
   "outputs": [
    {
     "name": "stdout",
     "output_type": "stream",
     "text": [
      "tflite_convert --saved_model_dir=Tensorflow/workspaceInnot/models/mainModel02/tfliteexport/saved_model --output_file=Tensorflow/workspaceInnot/models/mainModel02/tfliteexport/saved_model/detect.tflite --input_shapes=1,300,300,3 --input_arrays=normalized_input_image_tensor --output_arrays='TFLite_Detection_PostProcess','TFLite_Detection_PostProcess:1','TFLite_Detection_PostProcess:2','TFLite_Detection_PostProcess:3' --inference_type=FLOAT --allow_custom_ops\n"
     ]
    }
   ],
   "source": [
    "print(command)"
   ]
  },
  {
   "cell_type": "code",
   "execution_count": 42,
   "metadata": {
    "colab": {
     "base_uri": "https://localhost:8080/"
    },
    "id": "Nbd7gqHMpfDL",
    "outputId": "7c8fe6d5-2415-4641-8548-39d425c202f7"
   },
   "outputs": [
    {
     "name": "stdout",
     "output_type": "stream",
     "text": [
      "2022-07-08 20:29:28.566170: W tensorflow/stream_executor/platform/default/dso_loader.cc:64] Could not load dynamic library 'libcudart.so.11.0'; dlerror: libcudart.so.11.0: cannot open shared object file: No such file or directory; LD_LIBRARY_PATH: /home/simon/Simon/Hochschule/Innot/TFODCourse/tfod/lib/python3.10/site-packages/cv2/../../lib64:\n",
      "2022-07-08 20:29:28.566189: I tensorflow/stream_executor/cuda/cudart_stub.cc:29] Ignore above cudart dlerror if you do not have a GPU set up on your machine.\n",
      "2022-07-08 20:29:29.411467: I tensorflow/stream_executor/cuda/cuda_gpu_executor.cc:936] successful NUMA node read from SysFS had negative value (-1), but there must be at least one NUMA node, so returning NUMA node zero\n",
      "2022-07-08 20:29:29.411646: W tensorflow/stream_executor/platform/default/dso_loader.cc:64] Could not load dynamic library 'libcudart.so.11.0'; dlerror: libcudart.so.11.0: cannot open shared object file: No such file or directory; LD_LIBRARY_PATH: /home/simon/Simon/Hochschule/Innot/TFODCourse/tfod/lib/python3.10/site-packages/cv2/../../lib64:\n",
      "2022-07-08 20:29:29.411677: W tensorflow/stream_executor/platform/default/dso_loader.cc:64] Could not load dynamic library 'libcublas.so.11'; dlerror: libcublas.so.11: cannot open shared object file: No such file or directory; LD_LIBRARY_PATH: /home/simon/Simon/Hochschule/Innot/TFODCourse/tfod/lib/python3.10/site-packages/cv2/../../lib64:\n",
      "2022-07-08 20:29:29.411697: W tensorflow/stream_executor/platform/default/dso_loader.cc:64] Could not load dynamic library 'libcublasLt.so.11'; dlerror: libcublasLt.so.11: cannot open shared object file: No such file or directory; LD_LIBRARY_PATH: /home/simon/Simon/Hochschule/Innot/TFODCourse/tfod/lib/python3.10/site-packages/cv2/../../lib64:\n",
      "2022-07-08 20:29:29.411718: W tensorflow/stream_executor/platform/default/dso_loader.cc:64] Could not load dynamic library 'libcufft.so.10'; dlerror: libcufft.so.10: cannot open shared object file: No such file or directory; LD_LIBRARY_PATH: /home/simon/Simon/Hochschule/Innot/TFODCourse/tfod/lib/python3.10/site-packages/cv2/../../lib64:\n",
      "2022-07-08 20:29:29.411739: W tensorflow/stream_executor/platform/default/dso_loader.cc:64] Could not load dynamic library 'libcurand.so.10'; dlerror: libcurand.so.10: cannot open shared object file: No such file or directory; LD_LIBRARY_PATH: /home/simon/Simon/Hochschule/Innot/TFODCourse/tfod/lib/python3.10/site-packages/cv2/../../lib64:\n",
      "2022-07-08 20:29:29.411760: W tensorflow/stream_executor/platform/default/dso_loader.cc:64] Could not load dynamic library 'libcusolver.so.11'; dlerror: libcusolver.so.11: cannot open shared object file: No such file or directory; LD_LIBRARY_PATH: /home/simon/Simon/Hochschule/Innot/TFODCourse/tfod/lib/python3.10/site-packages/cv2/../../lib64:\n",
      "2022-07-08 20:29:29.411782: W tensorflow/stream_executor/platform/default/dso_loader.cc:64] Could not load dynamic library 'libcusparse.so.11'; dlerror: libcusparse.so.11: cannot open shared object file: No such file or directory; LD_LIBRARY_PATH: /home/simon/Simon/Hochschule/Innot/TFODCourse/tfod/lib/python3.10/site-packages/cv2/../../lib64:\n",
      "2022-07-08 20:29:29.411803: W tensorflow/stream_executor/platform/default/dso_loader.cc:64] Could not load dynamic library 'libcudnn.so.8'; dlerror: libcudnn.so.8: cannot open shared object file: No such file or directory; LD_LIBRARY_PATH: /home/simon/Simon/Hochschule/Innot/TFODCourse/tfod/lib/python3.10/site-packages/cv2/../../lib64:\n",
      "2022-07-08 20:29:29.411808: W tensorflow/core/common_runtime/gpu/gpu_device.cc:1850] Cannot dlopen some GPU libraries. Please make sure the missing libraries mentioned above are installed properly if you would like to use GPU. Follow the guide at https://www.tensorflow.org/install/gpu for how to download and setup the required libraries for your platform.\n",
      "Skipping registering GPU devices...\n",
      "2022-07-08 20:29:29.515960: I tensorflow/core/platform/cpu_feature_guard.cc:151] This TensorFlow binary is optimized with oneAPI Deep Neural Network Library (oneDNN) to use the following CPU instructions in performance-critical operations:  AVX2 FMA\n",
      "To enable them in other operations, rebuild TensorFlow with the appropriate compiler flags.\n",
      "2022-07-08 20:29:31.999758: W tensorflow/compiler/mlir/lite/python/tf_tfl_flatbuffer_helpers.cc:357] Ignored output_format.\n",
      "2022-07-08 20:29:31.999782: W tensorflow/compiler/mlir/lite/python/tf_tfl_flatbuffer_helpers.cc:360] Ignored drop_control_dependency.\n",
      "2022-07-08 20:29:32.000282: I tensorflow/cc/saved_model/reader.cc:43] Reading SavedModel from: Tensorflow/workspaceInnot/models/mainModel02/tfliteexport/saved_model\n",
      "2022-07-08 20:29:32.022355: I tensorflow/cc/saved_model/reader.cc:78] Reading meta graph with tags { serve }\n",
      "2022-07-08 20:29:32.022377: I tensorflow/cc/saved_model/reader.cc:119] Reading SavedModel debug info (if present) from: Tensorflow/workspaceInnot/models/mainModel02/tfliteexport/saved_model\n",
      "2022-07-08 20:29:32.094583: I tensorflow/cc/saved_model/loader.cc:228] Restoring SavedModel bundle.\n",
      "2022-07-08 20:29:32.473624: I tensorflow/cc/saved_model/loader.cc:212] Running initialization op on SavedModel bundle at path: Tensorflow/workspaceInnot/models/mainModel02/tfliteexport/saved_model\n",
      "2022-07-08 20:29:32.648172: I tensorflow/cc/saved_model/loader.cc:301] SavedModel load for tags { serve }; Status: success: OK. Took 647891 microseconds.\n",
      "2022-07-08 20:29:32.947516: I tensorflow/compiler/mlir/tensorflow/utils/dump_mlir_util.cc:237] disabling MLIR crash reproducer, set env var `MLIR_CRASH_REPRODUCER_DIRECTORY` to enable.\n",
      "2022-07-08 20:29:33.689594: I tensorflow/compiler/mlir/lite/flatbuffer_export.cc:1963] Estimated count of arithmetic ops: 104.650 G  ops, equivalently 52.325 G  MACs\n",
      "\n",
      "Estimated count of arithmetic ops: 104.650 G  ops, equivalently 52.325 G  MACs\n",
      "W0708 20:29:33.928426 140240757602112 lite.py:769] Buffer deduplication procedure will be skipped when flatbuffer library is not properly loaded\n"
     ]
    }
   ],
   "source": [
    "!{command}"
   ]
  },
  {
   "cell_type": "markdown",
   "metadata": {
    "id": "5NQqZRdA21Uc"
   },
   "source": [
    "# 13. Zip and Export Models "
   ]
  },
  {
   "cell_type": "code",
   "execution_count": null,
   "metadata": {
    "id": "tTVTGCQp2ZJJ"
   },
   "outputs": [],
   "source": [
    "!tar -czf models.tar.gz {paths['CHECKPOINT_PATH']}"
   ]
  },
  {
   "cell_type": "code",
   "execution_count": null,
   "metadata": {
    "colab": {
     "base_uri": "https://localhost:8080/"
    },
    "id": "whShhB0x3PYJ",
    "outputId": "b773201d-35c9-46a8-b893-4a76bd4d5d97"
   },
   "outputs": [],
   "source": [
    "from google.colab import drive\n",
    "drive.mount('/content/drive')"
   ]
  }
 ],
 "metadata": {
  "accelerator": "GPU",
  "colab": {
   "name": "3. Training and Detection.ipynb",
   "provenance": []
  },
  "kernelspec": {
   "display_name": "tfod",
   "language": "python",
   "name": "tfod"
  },
  "language_info": {
   "codemirror_mode": {
    "name": "ipython",
    "version": 3
   },
   "file_extension": ".py",
   "mimetype": "text/x-python",
   "name": "python",
   "nbconvert_exporter": "python",
   "pygments_lexer": "ipython3",
   "version": "3.10.4"
  }
 },
 "nbformat": 4,
 "nbformat_minor": 1
}
