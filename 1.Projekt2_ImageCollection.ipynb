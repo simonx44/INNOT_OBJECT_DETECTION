{
 "cells": [
  {
   "cell_type": "markdown",
   "metadata": {},
   "source": [
    "# 1. Import Dependencies"
   ]
  },
  {
   "cell_type": "code",
   "execution_count": null,
   "metadata": {},
   "outputs": [],
   "source": [
    "!pip install opencv-python"
   ]
  },
  {
   "cell_type": "code",
   "execution_count": 5,
   "metadata": {},
   "outputs": [],
   "source": [
    "# Import opencv\n",
    "import cv2 \n",
    "\n",
    "# Import uuid\n",
    "import uuid\n",
    "\n",
    "# Import Operating System\n",
    "import os\n",
    "\n",
    "# Import time\n",
    "import time"
   ]
  },
  {
   "cell_type": "code",
   "execution_count": 6,
   "metadata": {},
   "outputs": [],
   "source": [
    "workspaceName = 'workspaceDirection'"
   ]
  },
  {
   "cell_type": "markdown",
   "metadata": {},
   "source": [
    "# 2. Define Images to Collect"
   ]
  },
  {
   "cell_type": "code",
   "execution_count": 7,
   "metadata": {},
   "outputs": [
    {
     "data": {
      "text/plain": [
       "'workspaceDirection'"
      ]
     },
     "execution_count": 7,
     "metadata": {},
     "output_type": "execute_result"
    }
   ],
   "source": [
    "workspaceName"
   ]
  },
  {
   "cell_type": "code",
   "execution_count": 8,
   "metadata": {},
   "outputs": [],
   "source": [
    "labels = ['Left', 'Right', 'Up', 'Down']\n",
    "number_imgs = 10"
   ]
  },
  {
   "cell_type": "markdown",
   "metadata": {},
   "source": [
    "# 3. Setup Folders "
   ]
  },
  {
   "cell_type": "code",
   "execution_count": 9,
   "metadata": {},
   "outputs": [],
   "source": [
    "IMAGES_PATH = os.path.join('Tensorflow', workspaceName, 'images', 'collectedimages')"
   ]
  },
  {
   "cell_type": "code",
   "execution_count": 10,
   "metadata": {},
   "outputs": [],
   "source": [
    "if not os.path.exists(IMAGES_PATH):\n",
    "    if os.name == 'posix':\n",
    "        !mkdir -p {IMAGES_PATH}\n",
    "    if os.name == 'nt':\n",
    "         !mkdir {IMAGES_PATH}\n",
    "for label in labels:\n",
    "    path = os.path.join(IMAGES_PATH, label)\n",
    "    if not os.path.exists(path):\n",
    "        !mkdir {path}"
   ]
  },
  {
   "cell_type": "markdown",
   "metadata": {},
   "source": [
    "# 4. Capture Images"
   ]
  },
  {
   "cell_type": "code",
   "execution_count": 11,
   "metadata": {},
   "outputs": [
    {
     "name": "stdout",
     "output_type": "stream",
     "text": [
      "Collecting images for Left\n",
      "Collecting image 0\n",
      "Collecting image 1\n",
      "Collecting image 2\n",
      "Collecting image 3\n",
      "Collecting image 4\n",
      "Collecting image 5\n",
      "Collecting image 6\n",
      "Collecting image 7\n",
      "Collecting image 8\n",
      "Collecting image 9\n",
      "Collecting images for Right\n"
     ]
    },
    {
     "ename": "KeyboardInterrupt",
     "evalue": "",
     "output_type": "error",
     "traceback": [
      "\u001b[1;31m---------------------------------------------------------------------------\u001b[0m",
      "\u001b[1;31mKeyboardInterrupt\u001b[0m                         Traceback (most recent call last)",
      "\u001b[1;32m~\\AppData\\Local\\Temp\\ipykernel_6152\\1004706123.py\u001b[0m in \u001b[0;36m<module>\u001b[1;34m\u001b[0m\n\u001b[0;32m      2\u001b[0m     \u001b[0mcap\u001b[0m \u001b[1;33m=\u001b[0m \u001b[0mcv2\u001b[0m\u001b[1;33m.\u001b[0m\u001b[0mVideoCapture\u001b[0m\u001b[1;33m(\u001b[0m\u001b[1;36m0\u001b[0m\u001b[1;33m)\u001b[0m\u001b[1;33m\u001b[0m\u001b[1;33m\u001b[0m\u001b[0m\n\u001b[0;32m      3\u001b[0m     \u001b[0mprint\u001b[0m\u001b[1;33m(\u001b[0m\u001b[1;34m'Collecting images for {}'\u001b[0m\u001b[1;33m.\u001b[0m\u001b[0mformat\u001b[0m\u001b[1;33m(\u001b[0m\u001b[0mlabel\u001b[0m\u001b[1;33m)\u001b[0m\u001b[1;33m)\u001b[0m\u001b[1;33m\u001b[0m\u001b[1;33m\u001b[0m\u001b[0m\n\u001b[1;32m----> 4\u001b[1;33m     \u001b[0mtime\u001b[0m\u001b[1;33m.\u001b[0m\u001b[0msleep\u001b[0m\u001b[1;33m(\u001b[0m\u001b[1;36m5\u001b[0m\u001b[1;33m)\u001b[0m\u001b[1;33m\u001b[0m\u001b[1;33m\u001b[0m\u001b[0m\n\u001b[0m\u001b[0;32m      5\u001b[0m     \u001b[1;32mfor\u001b[0m \u001b[0mimgnum\u001b[0m \u001b[1;32min\u001b[0m \u001b[0mrange\u001b[0m\u001b[1;33m(\u001b[0m\u001b[0mnumber_imgs\u001b[0m\u001b[1;33m)\u001b[0m\u001b[1;33m:\u001b[0m\u001b[1;33m\u001b[0m\u001b[1;33m\u001b[0m\u001b[0m\n\u001b[0;32m      6\u001b[0m         \u001b[0mprint\u001b[0m\u001b[1;33m(\u001b[0m\u001b[1;34m'Collecting image {}'\u001b[0m\u001b[1;33m.\u001b[0m\u001b[0mformat\u001b[0m\u001b[1;33m(\u001b[0m\u001b[0mimgnum\u001b[0m\u001b[1;33m)\u001b[0m\u001b[1;33m)\u001b[0m\u001b[1;33m\u001b[0m\u001b[1;33m\u001b[0m\u001b[0m\n",
      "\u001b[1;31mKeyboardInterrupt\u001b[0m: "
     ]
    }
   ],
   "source": [
    "for label in labels:\n",
    "    cap = cv2.VideoCapture(0)\n",
    "    print('Collecting images for {}'.format(label))\n",
    "    time.sleep(5)\n",
    "    for imgnum in range(number_imgs):\n",
    "        print('Collecting image {}'.format(imgnum))\n",
    "        ret, frame = cap.read()\n",
    "        imgname = os.path.join(IMAGES_PATH,label,label+'.'+'{}.jpg'.format(str(uuid.uuid1())))\n",
    "        cv2.imwrite(imgname, frame)\n",
    "        cv2.imshow('frame', frame)\n",
    "        time.sleep(2)\n",
    "\n",
    "        if cv2.waitKey(1) & 0xFF == ord('q'):\n",
    "            break\n",
    "cap.release()\n",
    "cv2.destroyAllWindows()"
   ]
  },
  {
   "cell_type": "markdown",
   "metadata": {},
   "source": [
    "# 5. Image Labelling"
   ]
  },
  {
   "cell_type": "code",
   "execution_count": null,
   "metadata": {},
   "outputs": [],
   "source": [
    "!pip install --upgrade pyqt5 lxml"
   ]
  },
  {
   "cell_type": "code",
   "execution_count": 12,
   "metadata": {},
   "outputs": [],
   "source": [
    "LABELIMG_PATH = os.path.join('Tensorflow', 'labelimg')"
   ]
  },
  {
   "cell_type": "code",
   "execution_count": 13,
   "metadata": {},
   "outputs": [],
   "source": [
    "if not os.path.exists(LABELIMG_PATH):\n",
    "    !mkdir {LABELIMG_PATH}\n",
    "    !git clone https://github.com/tzutalin/labelImg {LABELIMG_PATH}"
   ]
  },
  {
   "cell_type": "code",
   "execution_count": 14,
   "metadata": {},
   "outputs": [],
   "source": [
    "if os.name == 'posix':\n",
    "    !make qt5py3\n",
    "if os.name =='nt':\n",
    "    !cd {LABELIMG_PATH} && pyrcc5 -o libs/resources.py resources.qrc"
   ]
  },
  {
   "cell_type": "code",
   "execution_count": 15,
   "metadata": {},
   "outputs": [
    {
     "name": "stdout",
     "output_type": "stream",
     "text": [
      "Loading setting failed\n",
      "Image:C:\\Users\\sinon\\Desktop\\InnotProjekt\\TFODCourse\\Tensorflow\\workspaceDirection\\images\\collectedimages\\Down\\WIN_20220330_17_47_25_Pro.jpg -> Annotation:C:/Users/sinon/Desktop/InnotProjekt/TFODCourse/Tensorflow/workspaceDirection/images/collectedimages/Down\\WIN_20220330_17_47_25_Pro.xml\n",
      "Image:C:\\Users\\sinon\\Desktop\\InnotProjekt\\TFODCourse\\Tensorflow\\workspaceDirection\\images\\collectedimages\\Down\\WIN_20220330_17_47_27_Pro.jpg -> Annotation:C:/Users/sinon/Desktop/InnotProjekt/TFODCourse/Tensorflow/workspaceDirection/images/collectedimages/Down\\WIN_20220330_17_47_27_Pro.xml\n",
      "Image:C:\\Users\\sinon\\Desktop\\InnotProjekt\\TFODCourse\\Tensorflow\\workspaceDirection\\images\\collectedimages\\Down\\WIN_20220330_17_47_28_Pro.jpg -> Annotation:C:/Users/sinon/Desktop/InnotProjekt/TFODCourse/Tensorflow/workspaceDirection/images/collectedimages/Down\\WIN_20220330_17_47_28_Pro.xml\n",
      "Image:C:\\Users\\sinon\\Desktop\\InnotProjekt\\TFODCourse\\Tensorflow\\workspaceDirection\\images\\collectedimages\\Down\\WIN_20220330_17_47_29_Pro.jpg -> Annotation:C:/Users/sinon/Desktop/InnotProjekt/TFODCourse/Tensorflow/workspaceDirection/images/collectedimages/Down\\WIN_20220330_17_47_29_Pro.xml\n",
      "Image:C:\\Users\\sinon\\Desktop\\InnotProjekt\\TFODCourse\\Tensorflow\\workspaceDirection\\images\\collectedimages\\Down\\WIN_20220330_17_47_31_Pro.jpg -> Annotation:C:/Users/sinon/Desktop/InnotProjekt/TFODCourse/Tensorflow/workspaceDirection/images/collectedimages/Down\\WIN_20220330_17_47_31_Pro.xml\n",
      "Image:C:\\Users\\sinon\\Desktop\\InnotProjekt\\TFODCourse\\Tensorflow\\workspaceDirection\\images\\collectedimages\\Down\\WIN_20220330_17_47_33_Pro.jpg -> Annotation:C:/Users/sinon/Desktop/InnotProjekt/TFODCourse/Tensorflow/workspaceDirection/images/collectedimages/Down\\WIN_20220330_17_47_33_Pro.xml\n",
      "Image:C:\\Users\\sinon\\Desktop\\InnotProjekt\\TFODCourse\\Tensorflow\\workspaceDirection\\images\\collectedimages\\Down\\WIN_20220330_17_47_36_Pro.jpg -> Annotation:C:/Users/sinon/Desktop/InnotProjekt/TFODCourse/Tensorflow/workspaceDirection/images/collectedimages/Down\\WIN_20220330_17_47_36_Pro.xml\n",
      "Image:C:\\Users\\sinon\\Desktop\\InnotProjekt\\TFODCourse\\Tensorflow\\workspaceDirection\\images\\collectedimages\\Down\\WIN_20220330_17_47_38_Pro.jpg -> Annotation:C:/Users/sinon/Desktop/InnotProjekt/TFODCourse/Tensorflow/workspaceDirection/images/collectedimages/Down\\WIN_20220330_17_47_38_Pro.xml\n",
      "Image:C:\\Users\\sinon\\Desktop\\InnotProjekt\\TFODCourse\\Tensorflow\\workspaceDirection\\images\\collectedimages\\Down\\WIN_20220330_17_47_39_Pro.jpg -> Annotation:C:/Users/sinon/Desktop/InnotProjekt/TFODCourse/Tensorflow/workspaceDirection/images/collectedimages/Down\\WIN_20220330_17_47_39_Pro.xml\n",
      "Image:C:\\Users\\sinon\\Desktop\\InnotProjekt\\TFODCourse\\Tensorflow\\workspaceDirection\\images\\collectedimages\\Down\\WIN_20220330_17_47_42_Pro.jpg -> Annotation:C:/Users/sinon/Desktop/InnotProjekt/TFODCourse/Tensorflow/workspaceDirection/images/collectedimages/Down\\WIN_20220330_17_47_42_Pro.xml\n",
      "Image:C:\\Users\\sinon\\Desktop\\InnotProjekt\\TFODCourse\\Tensorflow\\workspaceDirection\\images\\collectedimages\\Down\\WIN_20220330_17_47_43_Pro.jpg -> Annotation:C:/Users/sinon/Desktop/InnotProjekt/TFODCourse/Tensorflow/workspaceDirection/images/collectedimages/Down\\WIN_20220330_17_47_43_Pro.xml\n",
      "Image:C:\\Users\\sinon\\Desktop\\InnotProjekt\\TFODCourse\\Tensorflow\\workspaceDirection\\images\\collectedimages\\Down\\WIN_20220330_17_47_44_Pro.jpg -> Annotation:C:/Users/sinon/Desktop/InnotProjekt/TFODCourse/Tensorflow/workspaceDirection/images/collectedimages/Down\\WIN_20220330_17_47_44_Pro.xml\n",
      "Image:C:\\Users\\sinon\\Desktop\\InnotProjekt\\TFODCourse\\Tensorflow\\workspaceDirection\\images\\collectedimages\\Left\\WIN_20220330_17_43_06_Pro.jpg -> Annotation:C:/Users/sinon/Desktop/InnotProjekt/TFODCourse/Tensorflow/workspaceDirection/images/collectedimages/Left\\WIN_20220330_17_43_06_Pro.xml\n",
      "Image:C:\\Users\\sinon\\Desktop\\InnotProjekt\\TFODCourse\\Tensorflow\\workspaceDirection\\images\\collectedimages\\Left\\WIN_20220330_17_43_08_Pro.jpg -> Annotation:C:/Users/sinon/Desktop/InnotProjekt/TFODCourse/Tensorflow/workspaceDirection/images/collectedimages/Left\\WIN_20220330_17_43_08_Pro.xml\n",
      "Image:C:\\Users\\sinon\\Desktop\\InnotProjekt\\TFODCourse\\Tensorflow\\workspaceDirection\\images\\collectedimages\\Left\\WIN_20220330_17_43_09_Pro.jpg -> Annotation:C:/Users/sinon/Desktop/InnotProjekt/TFODCourse/Tensorflow/workspaceDirection/images/collectedimages/Left\\WIN_20220330_17_43_09_Pro.xml\n",
      "Image:C:\\Users\\sinon\\Desktop\\InnotProjekt\\TFODCourse\\Tensorflow\\workspaceDirection\\images\\collectedimages\\Left\\WIN_20220330_17_43_11_Pro.jpg -> Annotation:C:/Users/sinon/Desktop/InnotProjekt/TFODCourse/Tensorflow/workspaceDirection/images/collectedimages/Left\\WIN_20220330_17_43_11_Pro.xml\n",
      "Image:C:\\Users\\sinon\\Desktop\\InnotProjekt\\TFODCourse\\Tensorflow\\workspaceDirection\\images\\collectedimages\\Left\\WIN_20220330_17_43_14_Pro.jpg -> Annotation:C:/Users/sinon/Desktop/InnotProjekt/TFODCourse/Tensorflow/workspaceDirection/images/collectedimages/Left\\WIN_20220330_17_43_14_Pro.xml\n",
      "Image:C:\\Users\\sinon\\Desktop\\InnotProjekt\\TFODCourse\\Tensorflow\\workspaceDirection\\images\\collectedimages\\Left\\WIN_20220330_17_43_15_Pro.jpg -> Annotation:C:/Users/sinon/Desktop/InnotProjekt/TFODCourse/Tensorflow/workspaceDirection/images/collectedimages/Left\\WIN_20220330_17_43_15_Pro.xml\n",
      "Image:C:\\Users\\sinon\\Desktop\\InnotProjekt\\TFODCourse\\Tensorflow\\workspaceDirection\\images\\collectedimages\\Left\\WIN_20220330_17_43_16_Pro.jpg -> Annotation:C:/Users/sinon/Desktop/InnotProjekt/TFODCourse/Tensorflow/workspaceDirection/images/collectedimages/Left\\WIN_20220330_17_43_16_Pro.xml\n",
      "Image:C:\\Users\\sinon\\Desktop\\InnotProjekt\\TFODCourse\\Tensorflow\\workspaceDirection\\images\\collectedimages\\Left\\WIN_20220330_17_43_18_Pro.jpg -> Annotation:C:/Users/sinon/Desktop/InnotProjekt/TFODCourse/Tensorflow/workspaceDirection/images/collectedimages/Left\\WIN_20220330_17_43_18_Pro.xml\n",
      "Image:C:\\Users\\sinon\\Desktop\\InnotProjekt\\TFODCourse\\Tensorflow\\workspaceDirection\\images\\collectedimages\\Left\\WIN_20220330_17_43_20_Pro.jpg -> Annotation:C:/Users/sinon/Desktop/InnotProjekt/TFODCourse/Tensorflow/workspaceDirection/images/collectedimages/Left\\WIN_20220330_17_43_20_Pro.xml\n",
      "Image:C:\\Users\\sinon\\Desktop\\InnotProjekt\\TFODCourse\\Tensorflow\\workspaceDirection\\images\\collectedimages\\Left\\WIN_20220330_17_43_21_Pro.jpg -> Annotation:C:/Users/sinon/Desktop/InnotProjekt/TFODCourse/Tensorflow/workspaceDirection/images/collectedimages/Left\\WIN_20220330_17_43_21_Pro.xml\n",
      "Image:C:\\Users\\sinon\\Desktop\\InnotProjekt\\TFODCourse\\Tensorflow\\workspaceDirection\\images\\collectedimages\\Right\\WIN_20220330_17_45_01_Pro.jpg -> Annotation:C:/Users/sinon/Desktop/InnotProjekt/TFODCourse/Tensorflow/workspaceDirection/images/collectedimages/Left\\WIN_20220330_17_45_01_Pro.xml\n",
      "Image:C:\\Users\\sinon\\Desktop\\InnotProjekt\\TFODCourse\\Tensorflow\\workspaceDirection\\images\\collectedimages\\Right\\WIN_20220330_17_45_04_Pro.jpg -> Annotation:C:/Users/sinon/Desktop/InnotProjekt/TFODCourse/Tensorflow/workspaceDirection/images/collectedimages/Left\\WIN_20220330_17_45_04_Pro.xml\n",
      "Image:C:\\Users\\sinon\\Desktop\\InnotProjekt\\TFODCourse\\Tensorflow\\workspaceDirection\\images\\collectedimages\\Right\\WIN_20220330_17_45_06_Pro.jpg -> Annotation:C:/Users/sinon/Desktop/InnotProjekt/TFODCourse/Tensorflow/workspaceDirection/images/collectedimages/Left\\WIN_20220330_17_45_06_Pro.xml\n",
      "Image:C:\\Users\\sinon\\Desktop\\InnotProjekt\\TFODCourse\\Tensorflow\\workspaceDirection\\images\\collectedimages\\Right\\WIN_20220330_17_45_07_Pro.jpg -> Annotation:C:/Users/sinon/Desktop/InnotProjekt/TFODCourse/Tensorflow/workspaceDirection/images/collectedimages/Left\\WIN_20220330_17_45_07_Pro.xml\n",
      "Image:C:\\Users\\sinon\\Desktop\\InnotProjekt\\TFODCourse\\Tensorflow\\workspaceDirection\\images\\collectedimages\\Right\\WIN_20220330_17_45_11_Pro.jpg -> Annotation:C:/Users/sinon/Desktop/InnotProjekt/TFODCourse/Tensorflow/workspaceDirection/images/collectedimages/Left\\WIN_20220330_17_45_11_Pro.xml\n",
      "Image:C:\\Users\\sinon\\Desktop\\InnotProjekt\\TFODCourse\\Tensorflow\\workspaceDirection\\images\\collectedimages\\Right\\WIN_20220330_17_45_14_Pro.jpg -> Annotation:C:/Users/sinon/Desktop/InnotProjekt/TFODCourse/Tensorflow/workspaceDirection/images/collectedimages/Left\\WIN_20220330_17_45_14_Pro.xml\n",
      "Image:C:\\Users\\sinon\\Desktop\\InnotProjekt\\TFODCourse\\Tensorflow\\workspaceDirection\\images\\collectedimages\\Right\\WIN_20220330_17_45_15_Pro.jpg -> Annotation:C:/Users/sinon/Desktop/InnotProjekt/TFODCourse/Tensorflow/workspaceDirection/images/collectedimages/Left\\WIN_20220330_17_45_15_Pro.xml\n",
      "Image:C:\\Users\\sinon\\Desktop\\InnotProjekt\\TFODCourse\\Tensorflow\\workspaceDirection\\images\\collectedimages\\Right\\WIN_20220330_17_45_16_Pro.jpg -> Annotation:C:/Users/sinon/Desktop/InnotProjekt/TFODCourse/Tensorflow/workspaceDirection/images/collectedimages/Left\\WIN_20220330_17_45_16_Pro.xml\n",
      "Image:C:\\Users\\sinon\\Desktop\\InnotProjekt\\TFODCourse\\Tensorflow\\workspaceDirection\\images\\collectedimages\\Right\\WIN_20220330_17_45_18_Pro.jpg -> Annotation:C:/Users/sinon/Desktop/InnotProjekt/TFODCourse/Tensorflow/workspaceDirection/images/collectedimages/Left\\WIN_20220330_17_45_18_Pro.xml\n",
      "Image:C:\\Users\\sinon\\Desktop\\InnotProjekt\\TFODCourse\\Tensorflow\\workspaceDirection\\images\\collectedimages\\Right\\WIN_20220330_17_45_20_Pro.jpg -> Annotation:C:/Users/sinon/Desktop/InnotProjekt/TFODCourse/Tensorflow/workspaceDirection/images/collectedimages/Left\\WIN_20220330_17_45_20_Pro.xml\n",
      "Image:C:\\Users\\sinon\\Desktop\\InnotProjekt\\TFODCourse\\Tensorflow\\workspaceDirection\\images\\collectedimages\\Up\\WIN_20220330_17_46_11_Pro.jpg -> Annotation:C:/Users/sinon/Desktop/InnotProjekt/TFODCourse/Tensorflow/workspaceDirection/images/collectedimages/Left\\WIN_20220330_17_46_11_Pro.xml\n",
      "Image:C:\\Users\\sinon\\Desktop\\InnotProjekt\\TFODCourse\\Tensorflow\\workspaceDirection\\images\\collectedimages\\Up\\WIN_20220330_17_46_15_Pro.jpg -> Annotation:C:/Users/sinon/Desktop/InnotProjekt/TFODCourse/Tensorflow/workspaceDirection/images/collectedimages/Left\\WIN_20220330_17_46_15_Pro.xml\n",
      "Image:C:\\Users\\sinon\\Desktop\\InnotProjekt\\TFODCourse\\Tensorflow\\workspaceDirection\\images\\collectedimages\\Up\\WIN_20220330_17_46_16_Pro.jpg -> Annotation:C:/Users/sinon/Desktop/InnotProjekt/TFODCourse/Tensorflow/workspaceDirection/images/collectedimages/Left\\WIN_20220330_17_46_16_Pro.xml\n",
      "Image:C:\\Users\\sinon\\Desktop\\InnotProjekt\\TFODCourse\\Tensorflow\\workspaceDirection\\images\\collectedimages\\Up\\WIN_20220330_17_46_18_Pro.jpg -> Annotation:C:/Users/sinon/Desktop/InnotProjekt/TFODCourse/Tensorflow/workspaceDirection/images/collectedimages/Left\\WIN_20220330_17_46_18_Pro.xml\n",
      "Image:C:\\Users\\sinon\\Desktop\\InnotProjekt\\TFODCourse\\Tensorflow\\workspaceDirection\\images\\collectedimages\\Up\\WIN_20220330_17_46_19_Pro.jpg -> Annotation:C:/Users/sinon/Desktop/InnotProjekt/TFODCourse/Tensorflow/workspaceDirection/images/collectedimages/Left\\WIN_20220330_17_46_19_Pro.xml\n",
      "Image:C:\\Users\\sinon\\Desktop\\InnotProjekt\\TFODCourse\\Tensorflow\\workspaceDirection\\images\\collectedimages\\Up\\WIN_20220330_17_46_21_Pro.jpg -> Annotation:C:/Users/sinon/Desktop/InnotProjekt/TFODCourse/Tensorflow/workspaceDirection/images/collectedimages/Left\\WIN_20220330_17_46_21_Pro.xml\n",
      "Image:C:\\Users\\sinon\\Desktop\\InnotProjekt\\TFODCourse\\Tensorflow\\workspaceDirection\\images\\collectedimages\\Up\\WIN_20220330_17_46_25_Pro.jpg -> Annotation:C:/Users/sinon/Desktop/InnotProjekt/TFODCourse/Tensorflow/workspaceDirection/images/collectedimages/Left\\WIN_20220330_17_46_25_Pro.xml\n",
      "Image:C:\\Users\\sinon\\Desktop\\InnotProjekt\\TFODCourse\\Tensorflow\\workspaceDirection\\images\\collectedimages\\Up\\WIN_20220330_17_46_27_Pro.jpg -> Annotation:C:/Users/sinon/Desktop/InnotProjekt/TFODCourse/Tensorflow/workspaceDirection/images/collectedimages/Left\\WIN_20220330_17_46_27_Pro.xml\n",
      "Image:C:\\Users\\sinon\\Desktop\\InnotProjekt\\TFODCourse\\Tensorflow\\workspaceDirection\\images\\collectedimages\\Up\\WIN_20220330_17_46_35_Pro.jpg -> Annotation:C:/Users/sinon/Desktop/InnotProjekt/TFODCourse/Tensorflow/workspaceDirection/images/collectedimages/Left\\WIN_20220330_17_46_35_Pro.xml\n",
      "Image:C:\\Users\\sinon\\Desktop\\InnotProjekt\\TFODCourse\\Tensorflow\\workspaceDirection\\images\\collectedimages\\Up\\WIN_20220330_17_46_38_Pro.jpg -> Annotation:C:/Users/sinon/Desktop/InnotProjekt/TFODCourse/Tensorflow/workspaceDirection/images/collectedimages/Left\\WIN_20220330_17_46_38_Pro.xml\n",
      "Cancel creation.\n",
      "Image:C:\\Users\\sinon\\Desktop\\InnotProjekt\\TFODCourse\\Tensorflow\\workspaceDirection\\images\\collectedimages\\Up\\WIN_20220330_17_46_40_Pro.jpg -> Annotation:C:/Users/sinon/Desktop/InnotProjekt/TFODCourse/Tensorflow/workspaceDirection/images/collectedimages/Left\\WIN_20220330_17_46_40_Pro.xml\n"
     ]
    }
   ],
   "source": [
    "!cd {LABELIMG_PATH} && python labelImg.py"
   ]
  },
  {
   "cell_type": "markdown",
   "metadata": {},
   "source": [
    "# 6. Move them into a Training and Testing Partition"
   ]
  },
  {
   "cell_type": "markdown",
   "metadata": {},
   "source": [
    "# OPTIONAL - 7. Compress them for Colab Training"
   ]
  },
  {
   "cell_type": "code",
   "execution_count": null,
   "metadata": {},
   "outputs": [],
   "source": [
    "TRAIN_PATH = os.path.join('Tensorflow', 'workspaceDirection', 'images', 'train')\n",
    "TEST_PATH = os.path.join('Tensorflow', 'workspace', 'images', 'test')\n",
    "ARCHIVE_PATH = os.path.join('Tensorflow', 'workspace', 'images', 'archive.tar.gz')"
   ]
  },
  {
   "cell_type": "code",
   "execution_count": null,
   "metadata": {},
   "outputs": [],
   "source": [
    "!tar -czf {ARCHIVE_PATH} {TRAIN_PATH} {TEST_PATH}"
   ]
  },
  {
   "cell_type": "code",
   "execution_count": null,
   "metadata": {},
   "outputs": [],
   "source": []
  }
 ],
 "metadata": {
  "kernelspec": {
   "display_name": "tfod",
   "language": "python",
   "name": "tfod"
  },
  "language_info": {
   "codemirror_mode": {
    "name": "ipython",
    "version": 3
   },
   "file_extension": ".py",
   "mimetype": "text/x-python",
   "name": "python",
   "nbconvert_exporter": "python",
   "pygments_lexer": "ipython3",
   "version": "3.7.6"
  }
 },
 "nbformat": 4,
 "nbformat_minor": 2
}
